{
  "nbformat": 4,
  "nbformat_minor": 0,
  "metadata": {
    "colab": {
      "name": "Bank Personal Loan Campaign.ipynb",
      "provenance": [],
      "collapsed_sections": [],
      "authorship_tag": "ABX9TyNfu8ahytvuFdjYTFM8/3/9",
      "include_colab_link": true
    },
    "kernelspec": {
      "name": "python3",
      "display_name": "Python 3"
    }
  },
  "cells": [
    {
      "cell_type": "markdown",
      "metadata": {
        "id": "view-in-github",
        "colab_type": "text"
      },
      "source": [
        "<a href=\"https://colab.research.google.com/github/franciscosalido/AIML/blob/master/Bank_Personal_Loan_Campaign.ipynb\" target=\"_parent\"><img src=\"https://colab.research.google.com/assets/colab-badge.svg\" alt=\"Open In Colab\"/></a>"
      ]
    },
    {
      "cell_type": "markdown",
      "metadata": {
        "id": "85_fS_hvLitw",
        "colab_type": "text"
      },
      "source": [
        "# **Thera Bank Personal Loan Campaign**\n",
        "\n",
        "## Data Description:\n",
        "\n",
        "> The  file  Bank.xls  contains  data  on  5000  customers.  The  data  include  customer  demographic information (age, income, etc.), the customer's relationship with the bank (mortgage, securities account,  etc.), and the  customer  response to  the  last  personal  loan  campaign  (Personal  Loan). Among these 5000 customers, only 480 (= 9.6%) accepted the personal loan that was offered to them in the earlier campaign.\n",
        "\n",
        "## Domain:\n",
        "\n",
        "> Banking\n",
        "\n",
        "## Context:\n",
        "\n",
        "> This case is about a bank (Thera Bank) whose management wants to explore ways of converting its  liability  customers  to  personal  loan  customers  (while  retaining  them  as  depositors).  A campaign that the bank ran last year for liability customers showed a healthy conversion rate of over9%  success.  This  has  encouraged  the  retail  marketing  department  to  devise  campaigns with better target marketing to increase the success ratio with a minimal budget.\n",
        "\n",
        "##Attribute Information:\n",
        "\n",
        "> > \n",
        "* ID: Customer ID \n",
        "* Age: Customer's age in completed years\n",
        "* Experience: # years of professional experience\n",
        "* Income: Annual income of the customer\n",
        "* ZIP Code: Home Address ZIPcode.\n",
        "* Family: Family size of thecustomer\n",
        "* CCAvg: Avg. spending on credit cards per month\n",
        "* Education: Education Level: \n",
        " * 1: Undergrad; \n",
        " * 2: Graduate;\n",
        " * 3:Advanced/Professional.\n",
        "* Mortgage: Value of house mortgage if any.\n",
        "* Personal Loan: Did this customer accept the personal loan offered in the last campaign?\n",
        "* Securities Account: Does the customer have a securities account with the bank?\n",
        "* CD Account: Does the customer have a certificate of deposit (CD) account with the bank?\n",
        "* Online: Does the customer use internet banking facilities?\n",
        "* Credit card: Does the customer use a credit card is sued by the bank?\n",
        "\n",
        "\n",
        "\n",
        "\n",
        "\n",
        "\n",
        "---\n",
        "\n",
        "## Learning Outcomes:\n",
        "\n",
        "> >\n",
        "* Exploratory Data Analysis (EDA)\n",
        "* Preparing the data to train a model\n",
        "* Training and making predictions using a classification model\n",
        "* Model evaluation Objective: The classification goal is to predict the likelihood of a liability customer buying personal loans.\n",
        "\n",
        "\n",
        "\n",
        "## Steps and tasks:\n",
        "\n",
        "\n",
        "1.   Import the datasets and libraries, check datatype, statistical summary,shape,null values or incorrect imputation. (5 marks)\n",
        "\n",
        "\n",
        "2.   EDA:  Study  the  data  distribution  in  each  attribute  and  target  variable,  share  your  findings (20 marks) \n",
        "* Number of unique in each column?\n",
        "* Number of people with zero mortgage? \n",
        "* Number of people with zero credit card spending per month? \n",
        "* Value counts of all categorical columns. \n",
        "* Univariate and Bivariate \n",
        "* Get data model ready\n",
        "\n",
        "\n",
        "\n",
        "3.   Split the data into training and test seting the ratio of 70:30 respectively (5marks)\n",
        "\n",
        "\n",
        "4.  Use Logistic Regression model to predict the number of a customer buying personal loans. Print all the metrics related for evaluating the model performance (15marks)\n",
        "\n",
        "\n",
        "5.  Give your reasoning on how can the model perform better? (10 marks)\n",
        ">> \n",
        "Hint: Check parameter\n",
        "\n",
        "\n",
        "6.  Give Business understanding of your model? (5 marks)"
      ]
    },
    {
      "cell_type": "markdown",
      "metadata": {
        "id": "sUFOCUecUgxv",
        "colab_type": "text"
      },
      "source": [
        "##### 0. Preface"
      ]
    },
    {
      "cell_type": "code",
      "metadata": {
        "id": "1pcI-DkwTQZR",
        "colab_type": "code",
        "colab": {}
      },
      "source": [
        "#!/usr/bin/python\n",
        "# Date: 2020/04/25\n",
        "# Code by Francisco Arruda Salido\n",
        "# Version: 1.0.0"
      ],
      "execution_count": 0,
      "outputs": []
    },
    {
      "cell_type": "markdown",
      "metadata": {
        "id": "czhHpDTJRsre",
        "colab_type": "text"
      },
      "source": [
        "##### 1.a. Import the libraries"
      ]
    },
    {
      "cell_type": "code",
      "metadata": {
        "id": "_UhppfcrJRX0",
        "colab_type": "code",
        "outputId": "cae75b17-4295-4237-aea5-e8f0b8050af6",
        "colab": {
          "base_uri": "https://localhost:8080/",
          "height": 54
        }
      },
      "source": [
        "# import structures and data analysis libraries\n",
        "import io\n",
        "import pandas as pd\n",
        "import numpy as np\n",
        "import matplotlib.pyplot as plt\n",
        "import seaborn as sns\n",
        "\n",
        "# automaticly render any figure in a notebook made with this library\n",
        "%matplotlib inline"
      ],
      "execution_count": 3,
      "outputs": [
        {
          "output_type": "stream",
          "text": [
            "/usr/local/lib/python3.6/dist-packages/statsmodels/tools/_testing.py:19: FutureWarning: pandas.util.testing is deprecated. Use the functions in the public API at pandas.testing instead.\n",
            "  import pandas.util.testing as tm\n"
          ],
          "name": "stderr"
        }
      ]
    },
    {
      "cell_type": "code",
      "metadata": {
        "id": "MCfe4XLNTNw6",
        "colab_type": "code",
        "colab": {}
      },
      "source": [
        "# import machine learning libraries\n",
        "from sklearn import preprocessing\n",
        "from sklearn.model_selection import train_test_split\n",
        "from sklearn.linear_model import LogisticRegression\n",
        "from sklearn.feature_selection import RFE\n",
        "from sklearn import metrics\n",
        "from sklearn.metrics import classification_report, confusion_matrix"
      ],
      "execution_count": 0,
      "outputs": []
    },
    {
      "cell_type": "markdown",
      "metadata": {
        "id": "_WvdDI4GR3sw",
        "colab_type": "text"
      },
      "source": [
        "##### 1.b. Import the dataset"
      ]
    },
    {
      "cell_type": "code",
      "metadata": {
        "id": "NCkE0RaxTk_p",
        "colab_type": "code",
        "outputId": "fbd3e5ec-bcd5-4283-e77f-f5bfaa9e7a0c",
        "colab": {
          "base_uri": "https://localhost:8080/",
          "height": 128
        }
      },
      "source": [
        "# Mount the google drive and set the path to the dataset\n",
        "from google.colab import drive\n",
        "drive.mount('/content/drive', force_remount=True)"
      ],
      "execution_count": 5,
      "outputs": [
        {
          "output_type": "stream",
          "text": [
            "Go to this URL in a browser: https://accounts.google.com/o/oauth2/auth?client_id=947318989803-6bn6qk8qdgf4n4g3pfee6491hc0brc4i.apps.googleusercontent.com&redirect_uri=urn%3aietf%3awg%3aoauth%3a2.0%3aoob&response_type=code&scope=email%20https%3a%2f%2fwww.googleapis.com%2fauth%2fdocs.test%20https%3a%2f%2fwww.googleapis.com%2fauth%2fdrive%20https%3a%2f%2fwww.googleapis.com%2fauth%2fdrive.photos.readonly%20https%3a%2f%2fwww.googleapis.com%2fauth%2fpeopleapi.readonly\n",
            "\n",
            "Enter your authorization code:\n",
            "··········\n",
            "Mounted at /content/drive\n"
          ],
          "name": "stdout"
        }
      ]
    },
    {
      "cell_type": "code",
      "metadata": {
        "id": "nA1hg7M7TmAj",
        "colab_type": "code",
        "outputId": "1c2fd653-85d6-4ab5-f421-810a716e598c",
        "colab": {
          "base_uri": "https://localhost:8080/",
          "height": 35
        }
      },
      "source": [
        "root_path = '/content/drive/My\\ Drive/AIML/BankLoanCampaign/'  #set a dir to the project folder\n",
        "!ls /content/drive/My\\ Drive/AIML/BankLoanCampaign/ #change dir to the project folder"
      ],
      "execution_count": 6,
      "outputs": [
        {
          "output_type": "stream",
          "text": [
            "Bank_Personal_Loan_Modelling.csv\n"
          ],
          "name": "stdout"
        }
      ]
    },
    {
      "cell_type": "code",
      "metadata": {
        "id": "VlEhh59ITrQe",
        "colab_type": "code",
        "colab": {}
      },
      "source": [
        "data = pd.read_csv('/content/drive/My Drive/AIML/BankLoanCampaign/Bank_Personal_Loan_Modelling.csv') #import the dataset Data.csv from specific path"
      ],
      "execution_count": 0,
      "outputs": []
    },
    {
      "cell_type": "markdown",
      "metadata": {
        "id": "9_VRQ2nPWamw",
        "colab_type": "text"
      },
      "source": [
        "###### 1.b Housekipping"
      ]
    },
    {
      "cell_type": "code",
      "metadata": {
        "id": "GXM5iEb9Wcl9",
        "colab_type": "code",
        "colab": {}
      },
      "source": [
        "np.set_printoptions(precision=3, suppress=True) # Make numpy values easier to read.\n",
        "\n",
        "pd.set_option(\"display.precision\", 3) # Use 3 decimal places in output display\n",
        "\n",
        "pd.set_option(\"display.expand_frame_repr\", False) # Don't wrap repr(DataFrame) across additional lines\n",
        "\n",
        "pd.set_option(\"display.max_rows\", 25) # Set max rows displayed in output to 25"
      ],
      "execution_count": 0,
      "outputs": []
    },
    {
      "cell_type": "markdown",
      "metadata": {
        "id": "qA5yGUVsWxQC",
        "colab_type": "text"
      },
      "source": [
        "##### 1.c Check Datatype"
      ]
    },
    {
      "cell_type": "code",
      "metadata": {
        "id": "dYh3gkdsW3RA",
        "colab_type": "code",
        "outputId": "64a3adba-3dd7-4dc5-9946-b2d3c5caf092",
        "colab": {
          "base_uri": "https://localhost:8080/",
          "height": 198
        }
      },
      "source": [
        "data.head()"
      ],
      "execution_count": 9,
      "outputs": [
        {
          "output_type": "execute_result",
          "data": {
            "text/html": [
              "<div>\n",
              "<style scoped>\n",
              "    .dataframe tbody tr th:only-of-type {\n",
              "        vertical-align: middle;\n",
              "    }\n",
              "\n",
              "    .dataframe tbody tr th {\n",
              "        vertical-align: top;\n",
              "    }\n",
              "\n",
              "    .dataframe thead th {\n",
              "        text-align: right;\n",
              "    }\n",
              "</style>\n",
              "<table border=\"1\" class=\"dataframe\">\n",
              "  <thead>\n",
              "    <tr style=\"text-align: right;\">\n",
              "      <th></th>\n",
              "      <th>ID</th>\n",
              "      <th>Age</th>\n",
              "      <th>Experience</th>\n",
              "      <th>Income</th>\n",
              "      <th>ZIP Code</th>\n",
              "      <th>Family</th>\n",
              "      <th>CCAvg</th>\n",
              "      <th>Education</th>\n",
              "      <th>Mortgage</th>\n",
              "      <th>Personal Loan</th>\n",
              "      <th>Securities Account</th>\n",
              "      <th>CD Account</th>\n",
              "      <th>Online</th>\n",
              "      <th>CreditCard</th>\n",
              "    </tr>\n",
              "  </thead>\n",
              "  <tbody>\n",
              "    <tr>\n",
              "      <th>0</th>\n",
              "      <td>1</td>\n",
              "      <td>25</td>\n",
              "      <td>1</td>\n",
              "      <td>49</td>\n",
              "      <td>91107</td>\n",
              "      <td>4</td>\n",
              "      <td>1.6</td>\n",
              "      <td>1</td>\n",
              "      <td>0</td>\n",
              "      <td>0</td>\n",
              "      <td>1</td>\n",
              "      <td>0</td>\n",
              "      <td>0</td>\n",
              "      <td>0</td>\n",
              "    </tr>\n",
              "    <tr>\n",
              "      <th>1</th>\n",
              "      <td>2</td>\n",
              "      <td>45</td>\n",
              "      <td>19</td>\n",
              "      <td>34</td>\n",
              "      <td>90089</td>\n",
              "      <td>3</td>\n",
              "      <td>1.5</td>\n",
              "      <td>1</td>\n",
              "      <td>0</td>\n",
              "      <td>0</td>\n",
              "      <td>1</td>\n",
              "      <td>0</td>\n",
              "      <td>0</td>\n",
              "      <td>0</td>\n",
              "    </tr>\n",
              "    <tr>\n",
              "      <th>2</th>\n",
              "      <td>3</td>\n",
              "      <td>39</td>\n",
              "      <td>15</td>\n",
              "      <td>11</td>\n",
              "      <td>94720</td>\n",
              "      <td>1</td>\n",
              "      <td>1.0</td>\n",
              "      <td>1</td>\n",
              "      <td>0</td>\n",
              "      <td>0</td>\n",
              "      <td>0</td>\n",
              "      <td>0</td>\n",
              "      <td>0</td>\n",
              "      <td>0</td>\n",
              "    </tr>\n",
              "    <tr>\n",
              "      <th>3</th>\n",
              "      <td>4</td>\n",
              "      <td>35</td>\n",
              "      <td>9</td>\n",
              "      <td>100</td>\n",
              "      <td>94112</td>\n",
              "      <td>1</td>\n",
              "      <td>2.7</td>\n",
              "      <td>2</td>\n",
              "      <td>0</td>\n",
              "      <td>0</td>\n",
              "      <td>0</td>\n",
              "      <td>0</td>\n",
              "      <td>0</td>\n",
              "      <td>0</td>\n",
              "    </tr>\n",
              "    <tr>\n",
              "      <th>4</th>\n",
              "      <td>5</td>\n",
              "      <td>35</td>\n",
              "      <td>8</td>\n",
              "      <td>45</td>\n",
              "      <td>91330</td>\n",
              "      <td>4</td>\n",
              "      <td>1.0</td>\n",
              "      <td>2</td>\n",
              "      <td>0</td>\n",
              "      <td>0</td>\n",
              "      <td>0</td>\n",
              "      <td>0</td>\n",
              "      <td>0</td>\n",
              "      <td>1</td>\n",
              "    </tr>\n",
              "  </tbody>\n",
              "</table>\n",
              "</div>"
            ],
            "text/plain": [
              "   ID  Age  Experience  Income  ZIP Code  Family  CCAvg  Education  Mortgage  Personal Loan  Securities Account  CD Account  Online  CreditCard\n",
              "0   1   25           1      49     91107       4    1.6          1         0              0                   1           0       0           0\n",
              "1   2   45          19      34     90089       3    1.5          1         0              0                   1           0       0           0\n",
              "2   3   39          15      11     94720       1    1.0          1         0              0                   0           0       0           0\n",
              "3   4   35           9     100     94112       1    2.7          2         0              0                   0           0       0           0\n",
              "4   5   35           8      45     91330       4    1.0          2         0              0                   0           0       0           1"
            ]
          },
          "metadata": {
            "tags": []
          },
          "execution_count": 9
        }
      ]
    },
    {
      "cell_type": "code",
      "metadata": {
        "id": "Tdo6KQsvW6J8",
        "colab_type": "code",
        "outputId": "1e0d2aeb-fdb9-4287-f271-d122252cd88a",
        "colab": {
          "base_uri": "https://localhost:8080/",
          "height": 399
        }
      },
      "source": [
        "data.info()"
      ],
      "execution_count": 10,
      "outputs": [
        {
          "output_type": "stream",
          "text": [
            "<class 'pandas.core.frame.DataFrame'>\n",
            "RangeIndex: 5000 entries, 0 to 4999\n",
            "Data columns (total 14 columns):\n",
            " #   Column              Non-Null Count  Dtype  \n",
            "---  ------              --------------  -----  \n",
            " 0   ID                  5000 non-null   int64  \n",
            " 1   Age                 5000 non-null   int64  \n",
            " 2   Experience          5000 non-null   int64  \n",
            " 3   Income              5000 non-null   int64  \n",
            " 4   ZIP Code            5000 non-null   int64  \n",
            " 5   Family              5000 non-null   int64  \n",
            " 6   CCAvg               5000 non-null   float64\n",
            " 7   Education           5000 non-null   int64  \n",
            " 8   Mortgage            5000 non-null   int64  \n",
            " 9   Personal Loan       5000 non-null   int64  \n",
            " 10  Securities Account  5000 non-null   int64  \n",
            " 11  CD Account          5000 non-null   int64  \n",
            " 12  Online              5000 non-null   int64  \n",
            " 13  CreditCard          5000 non-null   int64  \n",
            "dtypes: float64(1), int64(13)\n",
            "memory usage: 547.0 KB\n"
          ],
          "name": "stdout"
        }
      ]
    },
    {
      "cell_type": "markdown",
      "metadata": {
        "id": "NaBIIzCoXu-w",
        "colab_type": "text"
      },
      "source": [
        "##### 1.d Statistical Summary"
      ]
    },
    {
      "cell_type": "code",
      "metadata": {
        "id": "x5-UapgViRWI",
        "colab_type": "code",
        "colab": {}
      },
      "source": [
        "# Creating a copy of the Data for manipulation\n",
        "df = data.copy()"
      ],
      "execution_count": 0,
      "outputs": []
    },
    {
      "cell_type": "code",
      "metadata": {
        "id": "icxsG46xXYpJ",
        "colab_type": "code",
        "outputId": "89e517eb-af03-47b1-f138-46266e9a8206",
        "colab": {
          "base_uri": "https://localhost:8080/",
          "height": 438
        }
      },
      "source": [
        "df = df.drop('ZIP Code', axis=1) # drop the categorical column 'ZIP Code'\n",
        "df.describe().transpose()"
      ],
      "execution_count": 12,
      "outputs": [
        {
          "output_type": "execute_result",
          "data": {
            "text/html": [
              "<div>\n",
              "<style scoped>\n",
              "    .dataframe tbody tr th:only-of-type {\n",
              "        vertical-align: middle;\n",
              "    }\n",
              "\n",
              "    .dataframe tbody tr th {\n",
              "        vertical-align: top;\n",
              "    }\n",
              "\n",
              "    .dataframe thead th {\n",
              "        text-align: right;\n",
              "    }\n",
              "</style>\n",
              "<table border=\"1\" class=\"dataframe\">\n",
              "  <thead>\n",
              "    <tr style=\"text-align: right;\">\n",
              "      <th></th>\n",
              "      <th>count</th>\n",
              "      <th>mean</th>\n",
              "      <th>std</th>\n",
              "      <th>min</th>\n",
              "      <th>25%</th>\n",
              "      <th>50%</th>\n",
              "      <th>75%</th>\n",
              "      <th>max</th>\n",
              "    </tr>\n",
              "  </thead>\n",
              "  <tbody>\n",
              "    <tr>\n",
              "      <th>ID</th>\n",
              "      <td>5000.0</td>\n",
              "      <td>2500.500</td>\n",
              "      <td>1443.520</td>\n",
              "      <td>1.0</td>\n",
              "      <td>1250.75</td>\n",
              "      <td>2500.5</td>\n",
              "      <td>3750.25</td>\n",
              "      <td>5000.0</td>\n",
              "    </tr>\n",
              "    <tr>\n",
              "      <th>Age</th>\n",
              "      <td>5000.0</td>\n",
              "      <td>45.338</td>\n",
              "      <td>11.463</td>\n",
              "      <td>23.0</td>\n",
              "      <td>35.00</td>\n",
              "      <td>45.0</td>\n",
              "      <td>55.00</td>\n",
              "      <td>67.0</td>\n",
              "    </tr>\n",
              "    <tr>\n",
              "      <th>Experience</th>\n",
              "      <td>5000.0</td>\n",
              "      <td>20.105</td>\n",
              "      <td>11.468</td>\n",
              "      <td>-3.0</td>\n",
              "      <td>10.00</td>\n",
              "      <td>20.0</td>\n",
              "      <td>30.00</td>\n",
              "      <td>43.0</td>\n",
              "    </tr>\n",
              "    <tr>\n",
              "      <th>Income</th>\n",
              "      <td>5000.0</td>\n",
              "      <td>73.774</td>\n",
              "      <td>46.034</td>\n",
              "      <td>8.0</td>\n",
              "      <td>39.00</td>\n",
              "      <td>64.0</td>\n",
              "      <td>98.00</td>\n",
              "      <td>224.0</td>\n",
              "    </tr>\n",
              "    <tr>\n",
              "      <th>Family</th>\n",
              "      <td>5000.0</td>\n",
              "      <td>2.396</td>\n",
              "      <td>1.148</td>\n",
              "      <td>1.0</td>\n",
              "      <td>1.00</td>\n",
              "      <td>2.0</td>\n",
              "      <td>3.00</td>\n",
              "      <td>4.0</td>\n",
              "    </tr>\n",
              "    <tr>\n",
              "      <th>CCAvg</th>\n",
              "      <td>5000.0</td>\n",
              "      <td>1.938</td>\n",
              "      <td>1.748</td>\n",
              "      <td>0.0</td>\n",
              "      <td>0.70</td>\n",
              "      <td>1.5</td>\n",
              "      <td>2.50</td>\n",
              "      <td>10.0</td>\n",
              "    </tr>\n",
              "    <tr>\n",
              "      <th>Education</th>\n",
              "      <td>5000.0</td>\n",
              "      <td>1.881</td>\n",
              "      <td>0.840</td>\n",
              "      <td>1.0</td>\n",
              "      <td>1.00</td>\n",
              "      <td>2.0</td>\n",
              "      <td>3.00</td>\n",
              "      <td>3.0</td>\n",
              "    </tr>\n",
              "    <tr>\n",
              "      <th>Mortgage</th>\n",
              "      <td>5000.0</td>\n",
              "      <td>56.499</td>\n",
              "      <td>101.714</td>\n",
              "      <td>0.0</td>\n",
              "      <td>0.00</td>\n",
              "      <td>0.0</td>\n",
              "      <td>101.00</td>\n",
              "      <td>635.0</td>\n",
              "    </tr>\n",
              "    <tr>\n",
              "      <th>Personal Loan</th>\n",
              "      <td>5000.0</td>\n",
              "      <td>0.096</td>\n",
              "      <td>0.295</td>\n",
              "      <td>0.0</td>\n",
              "      <td>0.00</td>\n",
              "      <td>0.0</td>\n",
              "      <td>0.00</td>\n",
              "      <td>1.0</td>\n",
              "    </tr>\n",
              "    <tr>\n",
              "      <th>Securities Account</th>\n",
              "      <td>5000.0</td>\n",
              "      <td>0.104</td>\n",
              "      <td>0.306</td>\n",
              "      <td>0.0</td>\n",
              "      <td>0.00</td>\n",
              "      <td>0.0</td>\n",
              "      <td>0.00</td>\n",
              "      <td>1.0</td>\n",
              "    </tr>\n",
              "    <tr>\n",
              "      <th>CD Account</th>\n",
              "      <td>5000.0</td>\n",
              "      <td>0.060</td>\n",
              "      <td>0.238</td>\n",
              "      <td>0.0</td>\n",
              "      <td>0.00</td>\n",
              "      <td>0.0</td>\n",
              "      <td>0.00</td>\n",
              "      <td>1.0</td>\n",
              "    </tr>\n",
              "    <tr>\n",
              "      <th>Online</th>\n",
              "      <td>5000.0</td>\n",
              "      <td>0.597</td>\n",
              "      <td>0.491</td>\n",
              "      <td>0.0</td>\n",
              "      <td>0.00</td>\n",
              "      <td>1.0</td>\n",
              "      <td>1.00</td>\n",
              "      <td>1.0</td>\n",
              "    </tr>\n",
              "    <tr>\n",
              "      <th>CreditCard</th>\n",
              "      <td>5000.0</td>\n",
              "      <td>0.294</td>\n",
              "      <td>0.456</td>\n",
              "      <td>0.0</td>\n",
              "      <td>0.00</td>\n",
              "      <td>0.0</td>\n",
              "      <td>1.00</td>\n",
              "      <td>1.0</td>\n",
              "    </tr>\n",
              "  </tbody>\n",
              "</table>\n",
              "</div>"
            ],
            "text/plain": [
              "                     count      mean       std   min      25%     50%      75%     max\n",
              "ID                  5000.0  2500.500  1443.520   1.0  1250.75  2500.5  3750.25  5000.0\n",
              "Age                 5000.0    45.338    11.463  23.0    35.00    45.0    55.00    67.0\n",
              "Experience          5000.0    20.105    11.468  -3.0    10.00    20.0    30.00    43.0\n",
              "Income              5000.0    73.774    46.034   8.0    39.00    64.0    98.00   224.0\n",
              "Family              5000.0     2.396     1.148   1.0     1.00     2.0     3.00     4.0\n",
              "CCAvg               5000.0     1.938     1.748   0.0     0.70     1.5     2.50    10.0\n",
              "Education           5000.0     1.881     0.840   1.0     1.00     2.0     3.00     3.0\n",
              "Mortgage            5000.0    56.499   101.714   0.0     0.00     0.0   101.00   635.0\n",
              "Personal Loan       5000.0     0.096     0.295   0.0     0.00     0.0     0.00     1.0\n",
              "Securities Account  5000.0     0.104     0.306   0.0     0.00     0.0     0.00     1.0\n",
              "CD Account          5000.0     0.060     0.238   0.0     0.00     0.0     0.00     1.0\n",
              "Online              5000.0     0.597     0.491   0.0     0.00     1.0     1.00     1.0\n",
              "CreditCard          5000.0     0.294     0.456   0.0     0.00     0.0     1.00     1.0"
            ]
          },
          "metadata": {
            "tags": []
          },
          "execution_count": 12
        }
      ]
    },
    {
      "cell_type": "code",
      "metadata": {
        "id": "u0HR4_v-X1-3",
        "colab_type": "code",
        "outputId": "8db0acc6-b179-4fd5-d848-27c7d663e7d6",
        "colab": {
          "base_uri": "https://localhost:8080/",
          "height": 198
        }
      },
      "source": [
        "#  Rearranging the columns orders for bringing the \"Personal Loan \" to the end of the dataframe.\n",
        "personal_loan = df['Personal Loan']\n",
        "df.drop(['Personal Loan'], axis = 1,inplace = True)\n",
        "df['Personal Loan'] = personal_loan\n",
        "df.head()"
      ],
      "execution_count": 13,
      "outputs": [
        {
          "output_type": "execute_result",
          "data": {
            "text/html": [
              "<div>\n",
              "<style scoped>\n",
              "    .dataframe tbody tr th:only-of-type {\n",
              "        vertical-align: middle;\n",
              "    }\n",
              "\n",
              "    .dataframe tbody tr th {\n",
              "        vertical-align: top;\n",
              "    }\n",
              "\n",
              "    .dataframe thead th {\n",
              "        text-align: right;\n",
              "    }\n",
              "</style>\n",
              "<table border=\"1\" class=\"dataframe\">\n",
              "  <thead>\n",
              "    <tr style=\"text-align: right;\">\n",
              "      <th></th>\n",
              "      <th>ID</th>\n",
              "      <th>Age</th>\n",
              "      <th>Experience</th>\n",
              "      <th>Income</th>\n",
              "      <th>Family</th>\n",
              "      <th>CCAvg</th>\n",
              "      <th>Education</th>\n",
              "      <th>Mortgage</th>\n",
              "      <th>Securities Account</th>\n",
              "      <th>CD Account</th>\n",
              "      <th>Online</th>\n",
              "      <th>CreditCard</th>\n",
              "      <th>Personal Loan</th>\n",
              "    </tr>\n",
              "  </thead>\n",
              "  <tbody>\n",
              "    <tr>\n",
              "      <th>0</th>\n",
              "      <td>1</td>\n",
              "      <td>25</td>\n",
              "      <td>1</td>\n",
              "      <td>49</td>\n",
              "      <td>4</td>\n",
              "      <td>1.6</td>\n",
              "      <td>1</td>\n",
              "      <td>0</td>\n",
              "      <td>1</td>\n",
              "      <td>0</td>\n",
              "      <td>0</td>\n",
              "      <td>0</td>\n",
              "      <td>0</td>\n",
              "    </tr>\n",
              "    <tr>\n",
              "      <th>1</th>\n",
              "      <td>2</td>\n",
              "      <td>45</td>\n",
              "      <td>19</td>\n",
              "      <td>34</td>\n",
              "      <td>3</td>\n",
              "      <td>1.5</td>\n",
              "      <td>1</td>\n",
              "      <td>0</td>\n",
              "      <td>1</td>\n",
              "      <td>0</td>\n",
              "      <td>0</td>\n",
              "      <td>0</td>\n",
              "      <td>0</td>\n",
              "    </tr>\n",
              "    <tr>\n",
              "      <th>2</th>\n",
              "      <td>3</td>\n",
              "      <td>39</td>\n",
              "      <td>15</td>\n",
              "      <td>11</td>\n",
              "      <td>1</td>\n",
              "      <td>1.0</td>\n",
              "      <td>1</td>\n",
              "      <td>0</td>\n",
              "      <td>0</td>\n",
              "      <td>0</td>\n",
              "      <td>0</td>\n",
              "      <td>0</td>\n",
              "      <td>0</td>\n",
              "    </tr>\n",
              "    <tr>\n",
              "      <th>3</th>\n",
              "      <td>4</td>\n",
              "      <td>35</td>\n",
              "      <td>9</td>\n",
              "      <td>100</td>\n",
              "      <td>1</td>\n",
              "      <td>2.7</td>\n",
              "      <td>2</td>\n",
              "      <td>0</td>\n",
              "      <td>0</td>\n",
              "      <td>0</td>\n",
              "      <td>0</td>\n",
              "      <td>0</td>\n",
              "      <td>0</td>\n",
              "    </tr>\n",
              "    <tr>\n",
              "      <th>4</th>\n",
              "      <td>5</td>\n",
              "      <td>35</td>\n",
              "      <td>8</td>\n",
              "      <td>45</td>\n",
              "      <td>4</td>\n",
              "      <td>1.0</td>\n",
              "      <td>2</td>\n",
              "      <td>0</td>\n",
              "      <td>0</td>\n",
              "      <td>0</td>\n",
              "      <td>0</td>\n",
              "      <td>1</td>\n",
              "      <td>0</td>\n",
              "    </tr>\n",
              "  </tbody>\n",
              "</table>\n",
              "</div>"
            ],
            "text/plain": [
              "   ID  Age  Experience  Income  Family  CCAvg  Education  Mortgage  Securities Account  CD Account  Online  CreditCard  Personal Loan\n",
              "0   1   25           1      49       4    1.6          1         0                   1           0       0           0              0\n",
              "1   2   45          19      34       3    1.5          1         0                   1           0       0           0              0\n",
              "2   3   39          15      11       1    1.0          1         0                   0           0       0           0              0\n",
              "3   4   35           9     100       1    2.7          2         0                   0           0       0           0              0\n",
              "4   5   35           8      45       4    1.0          2         0                   0           0       0           1              0"
            ]
          },
          "metadata": {
            "tags": []
          },
          "execution_count": 13
        }
      ]
    },
    {
      "cell_type": "markdown",
      "metadata": {
        "id": "n7IfI2UtkS-T",
        "colab_type": "text"
      },
      "source": [
        "1. Shape"
      ]
    },
    {
      "cell_type": "code",
      "metadata": {
        "id": "sGNQI2yXkZfV",
        "colab_type": "code",
        "outputId": "03b0d0a7-8416-479c-e30a-3fc3f009ab1f",
        "colab": {
          "base_uri": "https://localhost:8080/",
          "height": 35
        }
      },
      "source": [
        "df.shape # check the shape after droping and rearrangig columns"
      ],
      "execution_count": 14,
      "outputs": [
        {
          "output_type": "execute_result",
          "data": {
            "text/plain": [
              "(5000, 13)"
            ]
          },
          "metadata": {
            "tags": []
          },
          "execution_count": 14
        }
      ]
    },
    {
      "cell_type": "markdown",
      "metadata": {
        "id": "v5eqGMUmkpur",
        "colab_type": "text"
      },
      "source": [
        "###### 1.e Check for invalid values"
      ]
    },
    {
      "cell_type": "code",
      "metadata": {
        "id": "PUeMKGFFjkGt",
        "colab_type": "code",
        "outputId": "bc2181f6-4767-479b-e2a3-b6ea11bec99c",
        "colab": {
          "base_uri": "https://localhost:8080/",
          "height": 272
        }
      },
      "source": [
        "df.isnull().sum()"
      ],
      "execution_count": 15,
      "outputs": [
        {
          "output_type": "execute_result",
          "data": {
            "text/plain": [
              "ID                    0\n",
              "Age                   0\n",
              "Experience            0\n",
              "Income                0\n",
              "Family                0\n",
              "CCAvg                 0\n",
              "Education             0\n",
              "Mortgage              0\n",
              "Securities Account    0\n",
              "CD Account            0\n",
              "Online                0\n",
              "CreditCard            0\n",
              "Personal Loan         0\n",
              "dtype: int64"
            ]
          },
          "metadata": {
            "tags": []
          },
          "execution_count": 15
        }
      ]
    },
    {
      "cell_type": "code",
      "metadata": {
        "id": "-rjdswtUkOZV",
        "colab_type": "code",
        "outputId": "f042c855-07c2-4745-cdd7-8076a415f863",
        "colab": {
          "base_uri": "https://localhost:8080/",
          "height": 35
        }
      },
      "source": [
        "df.isnull().sum().any()"
      ],
      "execution_count": 16,
      "outputs": [
        {
          "output_type": "execute_result",
          "data": {
            "text/plain": [
              "False"
            ]
          },
          "metadata": {
            "tags": []
          },
          "execution_count": 16
        }
      ]
    },
    {
      "cell_type": "code",
      "metadata": {
        "id": "oXOrAGfBk72h",
        "colab_type": "code",
        "outputId": "0119e6b2-bf11-4883-f964-32c71ee29c01",
        "colab": {
          "base_uri": "https://localhost:8080/",
          "height": 35
        }
      },
      "source": [
        "# Experience can't be a negative values\n",
        "df[df['Experience'] <= -1]['Experience'].count()"
      ],
      "execution_count": 17,
      "outputs": [
        {
          "output_type": "execute_result",
          "data": {
            "text/plain": [
              "52"
            ]
          },
          "metadata": {
            "tags": []
          },
          "execution_count": 17
        }
      ]
    },
    {
      "cell_type": "code",
      "metadata": {
        "id": "_N7maPvLlux3",
        "colab_type": "code",
        "colab": {}
      },
      "source": [
        "# Get the numeric data from the 'Experience' column and replace just the negatives value by the Mode() function (Median() will be afected by the negative values) \n",
        "\n",
        "experience_mode = df['Experience'].mode()\n",
        "\n",
        "df['Experience'].replace(to_replace= df['Experience'][(df['Experience'] < 0)],value = experience_mode,inplace = True )"
      ],
      "execution_count": 0,
      "outputs": []
    },
    {
      "cell_type": "code",
      "metadata": {
        "id": "Lh2JM5XLocU_",
        "colab_type": "code",
        "outputId": "f90c13d1-b53e-4f32-fb45-48b56cda83c1",
        "colab": {
          "base_uri": "https://localhost:8080/",
          "height": 438
        }
      },
      "source": [
        "# Checking the new distribution in 'Experience'\n",
        "df.describe().transpose()"
      ],
      "execution_count": 40,
      "outputs": [
        {
          "output_type": "execute_result",
          "data": {
            "text/html": [
              "<div>\n",
              "<style scoped>\n",
              "    .dataframe tbody tr th:only-of-type {\n",
              "        vertical-align: middle;\n",
              "    }\n",
              "\n",
              "    .dataframe tbody tr th {\n",
              "        vertical-align: top;\n",
              "    }\n",
              "\n",
              "    .dataframe thead th {\n",
              "        text-align: right;\n",
              "    }\n",
              "</style>\n",
              "<table border=\"1\" class=\"dataframe\">\n",
              "  <thead>\n",
              "    <tr style=\"text-align: right;\">\n",
              "      <th></th>\n",
              "      <th>count</th>\n",
              "      <th>mean</th>\n",
              "      <th>std</th>\n",
              "      <th>min</th>\n",
              "      <th>25%</th>\n",
              "      <th>50%</th>\n",
              "      <th>75%</th>\n",
              "      <th>max</th>\n",
              "    </tr>\n",
              "  </thead>\n",
              "  <tbody>\n",
              "    <tr>\n",
              "      <th>ID</th>\n",
              "      <td>5000.0</td>\n",
              "      <td>2500.500</td>\n",
              "      <td>1443.520</td>\n",
              "      <td>1.0</td>\n",
              "      <td>1250.75</td>\n",
              "      <td>2500.5</td>\n",
              "      <td>3750.25</td>\n",
              "      <td>5000.0</td>\n",
              "    </tr>\n",
              "    <tr>\n",
              "      <th>Age</th>\n",
              "      <td>5000.0</td>\n",
              "      <td>45.338</td>\n",
              "      <td>11.463</td>\n",
              "      <td>23.0</td>\n",
              "      <td>35.00</td>\n",
              "      <td>45.0</td>\n",
              "      <td>55.00</td>\n",
              "      <td>67.0</td>\n",
              "    </tr>\n",
              "    <tr>\n",
              "      <th>Experience</th>\n",
              "      <td>4948.0</td>\n",
              "      <td>20.331</td>\n",
              "      <td>11.312</td>\n",
              "      <td>0.0</td>\n",
              "      <td>10.75</td>\n",
              "      <td>20.0</td>\n",
              "      <td>30.00</td>\n",
              "      <td>43.0</td>\n",
              "    </tr>\n",
              "    <tr>\n",
              "      <th>Income</th>\n",
              "      <td>5000.0</td>\n",
              "      <td>73.774</td>\n",
              "      <td>46.034</td>\n",
              "      <td>8.0</td>\n",
              "      <td>39.00</td>\n",
              "      <td>64.0</td>\n",
              "      <td>98.00</td>\n",
              "      <td>224.0</td>\n",
              "    </tr>\n",
              "    <tr>\n",
              "      <th>Family</th>\n",
              "      <td>5000.0</td>\n",
              "      <td>2.396</td>\n",
              "      <td>1.148</td>\n",
              "      <td>1.0</td>\n",
              "      <td>1.00</td>\n",
              "      <td>2.0</td>\n",
              "      <td>3.00</td>\n",
              "      <td>4.0</td>\n",
              "    </tr>\n",
              "    <tr>\n",
              "      <th>CCAvg</th>\n",
              "      <td>5000.0</td>\n",
              "      <td>1.938</td>\n",
              "      <td>1.748</td>\n",
              "      <td>0.0</td>\n",
              "      <td>0.70</td>\n",
              "      <td>1.5</td>\n",
              "      <td>2.50</td>\n",
              "      <td>10.0</td>\n",
              "    </tr>\n",
              "    <tr>\n",
              "      <th>Education</th>\n",
              "      <td>5000.0</td>\n",
              "      <td>1.881</td>\n",
              "      <td>0.840</td>\n",
              "      <td>1.0</td>\n",
              "      <td>1.00</td>\n",
              "      <td>2.0</td>\n",
              "      <td>3.00</td>\n",
              "      <td>3.0</td>\n",
              "    </tr>\n",
              "    <tr>\n",
              "      <th>Mortgage</th>\n",
              "      <td>5000.0</td>\n",
              "      <td>56.499</td>\n",
              "      <td>101.714</td>\n",
              "      <td>0.0</td>\n",
              "      <td>0.00</td>\n",
              "      <td>0.0</td>\n",
              "      <td>101.00</td>\n",
              "      <td>635.0</td>\n",
              "    </tr>\n",
              "    <tr>\n",
              "      <th>Securities Account</th>\n",
              "      <td>5000.0</td>\n",
              "      <td>0.104</td>\n",
              "      <td>0.306</td>\n",
              "      <td>0.0</td>\n",
              "      <td>0.00</td>\n",
              "      <td>0.0</td>\n",
              "      <td>0.00</td>\n",
              "      <td>1.0</td>\n",
              "    </tr>\n",
              "    <tr>\n",
              "      <th>CD Account</th>\n",
              "      <td>5000.0</td>\n",
              "      <td>0.060</td>\n",
              "      <td>0.238</td>\n",
              "      <td>0.0</td>\n",
              "      <td>0.00</td>\n",
              "      <td>0.0</td>\n",
              "      <td>0.00</td>\n",
              "      <td>1.0</td>\n",
              "    </tr>\n",
              "    <tr>\n",
              "      <th>Online</th>\n",
              "      <td>5000.0</td>\n",
              "      <td>0.597</td>\n",
              "      <td>0.491</td>\n",
              "      <td>0.0</td>\n",
              "      <td>0.00</td>\n",
              "      <td>1.0</td>\n",
              "      <td>1.00</td>\n",
              "      <td>1.0</td>\n",
              "    </tr>\n",
              "    <tr>\n",
              "      <th>CreditCard</th>\n",
              "      <td>5000.0</td>\n",
              "      <td>0.294</td>\n",
              "      <td>0.456</td>\n",
              "      <td>0.0</td>\n",
              "      <td>0.00</td>\n",
              "      <td>0.0</td>\n",
              "      <td>1.00</td>\n",
              "      <td>1.0</td>\n",
              "    </tr>\n",
              "    <tr>\n",
              "      <th>Personal Loan</th>\n",
              "      <td>5000.0</td>\n",
              "      <td>0.096</td>\n",
              "      <td>0.295</td>\n",
              "      <td>0.0</td>\n",
              "      <td>0.00</td>\n",
              "      <td>0.0</td>\n",
              "      <td>0.00</td>\n",
              "      <td>1.0</td>\n",
              "    </tr>\n",
              "  </tbody>\n",
              "</table>\n",
              "</div>"
            ],
            "text/plain": [
              "                     count      mean       std   min      25%     50%      75%     max\n",
              "ID                  5000.0  2500.500  1443.520   1.0  1250.75  2500.5  3750.25  5000.0\n",
              "Age                 5000.0    45.338    11.463  23.0    35.00    45.0    55.00    67.0\n",
              "Experience          4948.0    20.331    11.312   0.0    10.75    20.0    30.00    43.0\n",
              "Income              5000.0    73.774    46.034   8.0    39.00    64.0    98.00   224.0\n",
              "Family              5000.0     2.396     1.148   1.0     1.00     2.0     3.00     4.0\n",
              "CCAvg               5000.0     1.938     1.748   0.0     0.70     1.5     2.50    10.0\n",
              "Education           5000.0     1.881     0.840   1.0     1.00     2.0     3.00     3.0\n",
              "Mortgage            5000.0    56.499   101.714   0.0     0.00     0.0   101.00   635.0\n",
              "Securities Account  5000.0     0.104     0.306   0.0     0.00     0.0     0.00     1.0\n",
              "CD Account          5000.0     0.060     0.238   0.0     0.00     0.0     0.00     1.0\n",
              "Online              5000.0     0.597     0.491   0.0     0.00     1.0     1.00     1.0\n",
              "CreditCard          5000.0     0.294     0.456   0.0     0.00     0.0     1.00     1.0\n",
              "Personal Loan       5000.0     0.096     0.295   0.0     0.00     0.0     0.00     1.0"
            ]
          },
          "metadata": {
            "tags": []
          },
          "execution_count": 40
        }
      ]
    },
    {
      "cell_type": "code",
      "metadata": {
        "id": "Y3jGvqOiolrA",
        "colab_type": "code",
        "outputId": "8623dbc0-190e-47d8-91f5-7fa0e553e2f1",
        "colab": {
          "base_uri": "https://localhost:8080/",
          "height": 35
        }
      },
      "source": [
        "# Cheking again if 'Experience' has any negative values\n",
        "df[df['Experience'] <= -1]['Experience'].count()"
      ],
      "execution_count": 41,
      "outputs": [
        {
          "output_type": "execute_result",
          "data": {
            "text/plain": [
              "0"
            ]
          },
          "metadata": {
            "tags": []
          },
          "execution_count": 41
        }
      ]
    },
    {
      "cell_type": "markdown",
      "metadata": {
        "id": "ZlNiJWFR0HFA",
        "colab_type": "text"
      },
      "source": [
        "### 2. Exploratory Data Analysis:"
      ]
    },
    {
      "cell_type": "code",
      "metadata": {
        "id": "acRsy_b2RD_N",
        "colab_type": "code",
        "colab": {
          "base_uri": "https://localhost:8080/",
          "height": 272
        },
        "outputId": "26e9987d-c927-4fc6-a82a-bcf29a868d83"
      },
      "source": [
        "df.apply(pd.Series.nunique)"
      ],
      "execution_count": 50,
      "outputs": [
        {
          "output_type": "execute_result",
          "data": {
            "text/plain": [
              "ID                    5000\n",
              "Age                     45\n",
              "Experience              44\n",
              "Income                 162\n",
              "Family                   4\n",
              "CCAvg                  108\n",
              "Education                3\n",
              "Mortgage               347\n",
              "Securities Account       2\n",
              "CD Account               2\n",
              "Online                   2\n",
              "CreditCard               2\n",
              "Personal Loan            2\n",
              "dtype: int64"
            ]
          },
          "metadata": {
            "tags": []
          },
          "execution_count": 50
        }
      ]
    },
    {
      "cell_type": "code",
      "metadata": {
        "id": "zQtUpH5WTe8F",
        "colab_type": "code",
        "colab": {}
      },
      "source": [
        ""
      ],
      "execution_count": 0,
      "outputs": []
    }
  ]
}