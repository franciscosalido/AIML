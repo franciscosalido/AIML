{
  "nbformat": 4,
  "nbformat_minor": 0,
  "metadata": {
    "colab": {
      "name": "Bank Personal Loan Campaign_Final.ipynb",
      "provenance": [],
      "collapsed_sections": [],
      "authorship_tag": "ABX9TyPvpKHS2lF/3bx6cGIGZJJR",
      "include_colab_link": true
    },
    "kernelspec": {
      "name": "python3",
      "display_name": "Python 3"
    }
  },
  "cells": [
    {
      "cell_type": "markdown",
      "metadata": {
        "id": "view-in-github",
        "colab_type": "text"
      },
      "source": [
        "<a href=\"https://colab.research.google.com/github/franciscosalido/AIML/blob/master/Bank_Personal_Loan_Campaign_Final.ipynb\" target=\"_parent\"><img src=\"https://colab.research.google.com/assets/colab-badge.svg\" alt=\"Open In Colab\"/></a>"
      ]
    },
    {
      "cell_type": "markdown",
      "metadata": {
        "id": "85_fS_hvLitw",
        "colab_type": "text"
      },
      "source": [
        "# **Thera Bank Personal Loan Campaign**\n",
        "\n",
        "## Data Description:\n",
        "\n",
        "> The  file  Bank.xls  contains  data  on  5000  customers.  The  data  include  customer  demographic information (age, income, etc.), the customer's relationship with the bank (mortgage, securities account,  etc.), and the  customer  response to  the  last  personal  loan  campaign  (Personal  Loan). Among these 5000 customers, only 480 (= 9.6%) accepted the personal loan that was offered to them in the earlier campaign.\n",
        "\n",
        "## Domain:\n",
        "\n",
        "> Banking\n",
        "\n",
        "## Context:\n",
        "\n",
        "> This case is about a bank (Thera Bank) whose management wants to explore ways of converting its  liability  customers  to  personal  loan  customers  (while  retaining  them  as  depositors).  A campaign that the bank ran last year for liability customers showed a healthy conversion rate of over9%  success.  This  has  encouraged  the  retail  marketing  department  to  devise  campaigns with better target marketing to increase the success ratio with a minimal budget.\n",
        "\n",
        "##Attribute Information:\n",
        "\n",
        "> > \n",
        "* ID: Customer ID \n",
        "* Age: Customer's age in completed years\n",
        "* Experience: # years of professional experience\n",
        "* Income: Annual income of the customer\n",
        "* ZIP Code: Home Address ZIPcode.\n",
        "* Family: Family size of thecustomer\n",
        "* CCAvg: Avg. spending on credit cards per month\n",
        "* Education: Education Level: \n",
        " * 1: Undergrad; \n",
        " * 2: Graduate;\n",
        " * 3:Advanced/Professional.\n",
        "* Mortgage: Value of house mortgage if any.\n",
        "* Personal Loan: Did this customer accept the personal loan offered in the last campaign?\n",
        "* Securities Account: Does the customer have a securities account with the bank?\n",
        "* CD Account: Does the customer have a certificate of deposit (CD) account with the bank?\n",
        "* Online: Does the customer use internet banking facilities?\n",
        "* Credit card: Does the customer use a credit card is sued by the bank?\n",
        "\n",
        "\n",
        "\n",
        "\n",
        "\n",
        "\n",
        "---\n",
        "\n",
        "## Learning Outcomes:\n",
        "\n",
        "> >\n",
        "* Exploratory Data Analysis (EDA)\n",
        "* Preparing the data to train a model\n",
        "* Training and making predictions using a classification model\n",
        "* Model evaluation Objective: The classification goal is to predict the likelihood of a liability customer buying personal loans.\n",
        "\n",
        "\n",
        "\n",
        "## Steps and tasks:\n",
        "\n",
        "\n",
        "1.   Import the datasets and libraries, check datatype, statistical summary,shape,null values or incorrect imputation. (5 marks)\n",
        "\n",
        "\n",
        "2.   EDA:  Study  the  data  distribution  in  each  attribute  and  target  variable,  share  your  findings (20 marks) \n",
        "* Number of unique in each column?\n",
        "* Number of people with zero mortgage? \n",
        "* Number of people with zero credit card spending per month? \n",
        "* Value counts of all categorical columns. \n",
        "* Univariate and Bivariate \n",
        "* Get data model ready\n",
        "\n",
        "\n",
        "\n",
        "3.   Split the data into training and test seting the ratio of 70:30 respectively (5marks)\n",
        "\n",
        "\n",
        "4.  Use Logistic Regression model to predict the number of a customer buying personal loans. Print all the metrics related for evaluating the model performance (15marks)\n",
        "\n",
        "\n",
        "5.  Give your reasoning on how can the model perform better? (10 marks)\n",
        ">> \n",
        "Hint: Check parameter\n",
        "\n",
        "\n",
        "6.  Give Business understanding of your model? (5 marks)"
      ]
    },
    {
      "cell_type": "markdown",
      "metadata": {
        "id": "sUFOCUecUgxv",
        "colab_type": "text"
      },
      "source": [
        "##### 0. Preface"
      ]
    },
    {
      "cell_type": "code",
      "metadata": {
        "id": "1pcI-DkwTQZR",
        "colab_type": "code",
        "colab": {}
      },
      "source": [
        "#!/usr/bin/python\n",
        "# Date: 2020/04/25\n",
        "# Code by Francisco Arruda Salido\n",
        "# Version: 1.0.0"
      ],
      "execution_count": 0,
      "outputs": []
    },
    {
      "cell_type": "markdown",
      "metadata": {
        "id": "czhHpDTJRsre",
        "colab_type": "text"
      },
      "source": [
        "##### 1.a. Import the libraries"
      ]
    },
    {
      "cell_type": "code",
      "metadata": {
        "id": "_UhppfcrJRX0",
        "colab_type": "code",
        "colab": {}
      },
      "source": [
        "# import structures and data analysis libraries\n",
        "import io\n",
        "import pandas as pd\n",
        "import numpy as np\n",
        "import matplotlib.pyplot as plt\n",
        "import seaborn as sns\n",
        "\n",
        "# automaticly render any figure in a notebook made with this library\n",
        "%matplotlib inline"
      ],
      "execution_count": 0,
      "outputs": []
    },
    {
      "cell_type": "code",
      "metadata": {
        "id": "MCfe4XLNTNw6",
        "colab_type": "code",
        "colab": {}
      },
      "source": [
        "# import machine learning libraries\n",
        "from sklearn import preprocessing\n",
        "from sklearn.model_selection import train_test_split\n",
        "from sklearn.linear_model import LogisticRegression\n",
        "from sklearn.feature_selection import RFE\n",
        "from sklearn import metrics\n",
        "from sklearn.metrics import classification_report, confusion_matrix, recall_score, precision_score, f1_score, roc_curve, roc_auc_score,accuracy_score"
      ],
      "execution_count": 0,
      "outputs": []
    },
    {
      "cell_type": "markdown",
      "metadata": {
        "id": "_WvdDI4GR3sw",
        "colab_type": "text"
      },
      "source": [
        "##### 1.b. Import the dataset"
      ]
    },
    {
      "cell_type": "code",
      "metadata": {
        "id": "NCkE0RaxTk_p",
        "colab_type": "code",
        "outputId": "d37e46ac-9832-4d68-f6b5-611d3d53e573",
        "colab": {
          "base_uri": "https://localhost:8080/",
          "height": 35
        }
      },
      "source": [
        "# Mount the google drive and set the path to the dataset\n",
        "from google.colab import drive\n",
        "drive.mount('/content/drive', force_remount=True)"
      ],
      "execution_count": 74,
      "outputs": [
        {
          "output_type": "stream",
          "text": [
            "Mounted at /content/drive\n"
          ],
          "name": "stdout"
        }
      ]
    },
    {
      "cell_type": "code",
      "metadata": {
        "id": "nA1hg7M7TmAj",
        "colab_type": "code",
        "outputId": "6ce1f0eb-1231-47a1-deb3-f9f227e25821",
        "colab": {
          "base_uri": "https://localhost:8080/",
          "height": 35
        }
      },
      "source": [
        "root_path = '/content/drive/My\\ Drive/AIML/BankLoanCampaign/'  #set a dir to the project folder\n",
        "!ls /content/drive/My\\ Drive/AIML/BankLoanCampaign/ #change dir to the project folder"
      ],
      "execution_count": 75,
      "outputs": [
        {
          "output_type": "stream",
          "text": [
            "Bank_Personal_Loan_Modelling.csv\n"
          ],
          "name": "stdout"
        }
      ]
    },
    {
      "cell_type": "code",
      "metadata": {
        "id": "VlEhh59ITrQe",
        "colab_type": "code",
        "colab": {}
      },
      "source": [
        "data = pd.read_csv('/content/drive/My Drive/AIML/BankLoanCampaign/Bank_Personal_Loan_Modelling.csv') #import the dataset Data.csv from specific path"
      ],
      "execution_count": 0,
      "outputs": []
    },
    {
      "cell_type": "markdown",
      "metadata": {
        "id": "9_VRQ2nPWamw",
        "colab_type": "text"
      },
      "source": [
        "###### 1.b Housekipping"
      ]
    },
    {
      "cell_type": "code",
      "metadata": {
        "id": "GXM5iEb9Wcl9",
        "colab_type": "code",
        "colab": {}
      },
      "source": [
        "np.set_printoptions(precision=3, suppress=True) # Make numpy values easier to read.\n",
        "\n",
        "pd.set_option(\"display.precision\", 3) # Use 3 decimal places in output display\n",
        "\n",
        "pd.set_option(\"display.expand_frame_repr\", False) # Don't wrap repr(DataFrame) across additional lines\n",
        "\n",
        "pd.set_option(\"display.max_rows\", 25) # Set max rows displayed in output to 25"
      ],
      "execution_count": 0,
      "outputs": []
    },
    {
      "cell_type": "markdown",
      "metadata": {
        "id": "qA5yGUVsWxQC",
        "colab_type": "text"
      },
      "source": [
        "##### 1.c Check Datatype"
      ]
    },
    {
      "cell_type": "code",
      "metadata": {
        "id": "dYh3gkdsW3RA",
        "colab_type": "code",
        "outputId": "1babe48b-f96f-4701-966b-335ac252516d",
        "colab": {
          "base_uri": "https://localhost:8080/",
          "height": 198
        }
      },
      "source": [
        "data.head() # check the name of the columns and the first 5 rows"
      ],
      "execution_count": 78,
      "outputs": [
        {
          "output_type": "execute_result",
          "data": {
            "text/html": [
              "<div>\n",
              "<style scoped>\n",
              "    .dataframe tbody tr th:only-of-type {\n",
              "        vertical-align: middle;\n",
              "    }\n",
              "\n",
              "    .dataframe tbody tr th {\n",
              "        vertical-align: top;\n",
              "    }\n",
              "\n",
              "    .dataframe thead th {\n",
              "        text-align: right;\n",
              "    }\n",
              "</style>\n",
              "<table border=\"1\" class=\"dataframe\">\n",
              "  <thead>\n",
              "    <tr style=\"text-align: right;\">\n",
              "      <th></th>\n",
              "      <th>ID</th>\n",
              "      <th>Age</th>\n",
              "      <th>Experience</th>\n",
              "      <th>Income</th>\n",
              "      <th>ZIP Code</th>\n",
              "      <th>Family</th>\n",
              "      <th>CCAvg</th>\n",
              "      <th>Education</th>\n",
              "      <th>Mortgage</th>\n",
              "      <th>Personal Loan</th>\n",
              "      <th>Securities Account</th>\n",
              "      <th>CD Account</th>\n",
              "      <th>Online</th>\n",
              "      <th>CreditCard</th>\n",
              "    </tr>\n",
              "  </thead>\n",
              "  <tbody>\n",
              "    <tr>\n",
              "      <th>0</th>\n",
              "      <td>1</td>\n",
              "      <td>25</td>\n",
              "      <td>1</td>\n",
              "      <td>49</td>\n",
              "      <td>91107</td>\n",
              "      <td>4</td>\n",
              "      <td>1.6</td>\n",
              "      <td>1</td>\n",
              "      <td>0</td>\n",
              "      <td>0</td>\n",
              "      <td>1</td>\n",
              "      <td>0</td>\n",
              "      <td>0</td>\n",
              "      <td>0</td>\n",
              "    </tr>\n",
              "    <tr>\n",
              "      <th>1</th>\n",
              "      <td>2</td>\n",
              "      <td>45</td>\n",
              "      <td>19</td>\n",
              "      <td>34</td>\n",
              "      <td>90089</td>\n",
              "      <td>3</td>\n",
              "      <td>1.5</td>\n",
              "      <td>1</td>\n",
              "      <td>0</td>\n",
              "      <td>0</td>\n",
              "      <td>1</td>\n",
              "      <td>0</td>\n",
              "      <td>0</td>\n",
              "      <td>0</td>\n",
              "    </tr>\n",
              "    <tr>\n",
              "      <th>2</th>\n",
              "      <td>3</td>\n",
              "      <td>39</td>\n",
              "      <td>15</td>\n",
              "      <td>11</td>\n",
              "      <td>94720</td>\n",
              "      <td>1</td>\n",
              "      <td>1.0</td>\n",
              "      <td>1</td>\n",
              "      <td>0</td>\n",
              "      <td>0</td>\n",
              "      <td>0</td>\n",
              "      <td>0</td>\n",
              "      <td>0</td>\n",
              "      <td>0</td>\n",
              "    </tr>\n",
              "    <tr>\n",
              "      <th>3</th>\n",
              "      <td>4</td>\n",
              "      <td>35</td>\n",
              "      <td>9</td>\n",
              "      <td>100</td>\n",
              "      <td>94112</td>\n",
              "      <td>1</td>\n",
              "      <td>2.7</td>\n",
              "      <td>2</td>\n",
              "      <td>0</td>\n",
              "      <td>0</td>\n",
              "      <td>0</td>\n",
              "      <td>0</td>\n",
              "      <td>0</td>\n",
              "      <td>0</td>\n",
              "    </tr>\n",
              "    <tr>\n",
              "      <th>4</th>\n",
              "      <td>5</td>\n",
              "      <td>35</td>\n",
              "      <td>8</td>\n",
              "      <td>45</td>\n",
              "      <td>91330</td>\n",
              "      <td>4</td>\n",
              "      <td>1.0</td>\n",
              "      <td>2</td>\n",
              "      <td>0</td>\n",
              "      <td>0</td>\n",
              "      <td>0</td>\n",
              "      <td>0</td>\n",
              "      <td>0</td>\n",
              "      <td>1</td>\n",
              "    </tr>\n",
              "  </tbody>\n",
              "</table>\n",
              "</div>"
            ],
            "text/plain": [
              "   ID  Age  Experience  Income  ZIP Code  Family  CCAvg  Education  Mortgage  Personal Loan  Securities Account  CD Account  Online  CreditCard\n",
              "0   1   25           1      49     91107       4    1.6          1         0              0                   1           0       0           0\n",
              "1   2   45          19      34     90089       3    1.5          1         0              0                   1           0       0           0\n",
              "2   3   39          15      11     94720       1    1.0          1         0              0                   0           0       0           0\n",
              "3   4   35           9     100     94112       1    2.7          2         0              0                   0           0       0           0\n",
              "4   5   35           8      45     91330       4    1.0          2         0              0                   0           0       0           1"
            ]
          },
          "metadata": {
            "tags": []
          },
          "execution_count": 78
        }
      ]
    },
    {
      "cell_type": "code",
      "metadata": {
        "id": "Tdo6KQsvW6J8",
        "colab_type": "code",
        "outputId": "3b52bf5b-dc0d-4d0f-fb1e-0b838d1b0075",
        "colab": {
          "base_uri": "https://localhost:8080/",
          "height": 399
        }
      },
      "source": [
        "data.info(); # check some information about the variables (columns)"
      ],
      "execution_count": 79,
      "outputs": [
        {
          "output_type": "stream",
          "text": [
            "<class 'pandas.core.frame.DataFrame'>\n",
            "RangeIndex: 5000 entries, 0 to 4999\n",
            "Data columns (total 14 columns):\n",
            " #   Column              Non-Null Count  Dtype  \n",
            "---  ------              --------------  -----  \n",
            " 0   ID                  5000 non-null   int64  \n",
            " 1   Age                 5000 non-null   int64  \n",
            " 2   Experience          5000 non-null   int64  \n",
            " 3   Income              5000 non-null   int64  \n",
            " 4   ZIP Code            5000 non-null   int64  \n",
            " 5   Family              5000 non-null   int64  \n",
            " 6   CCAvg               5000 non-null   float64\n",
            " 7   Education           5000 non-null   int64  \n",
            " 8   Mortgage            5000 non-null   int64  \n",
            " 9   Personal Loan       5000 non-null   int64  \n",
            " 10  Securities Account  5000 non-null   int64  \n",
            " 11  CD Account          5000 non-null   int64  \n",
            " 12  Online              5000 non-null   int64  \n",
            " 13  CreditCard          5000 non-null   int64  \n",
            "dtypes: float64(1), int64(13)\n",
            "memory usage: 547.0 KB\n"
          ],
          "name": "stdout"
        }
      ]
    },
    {
      "cell_type": "markdown",
      "metadata": {
        "id": "NaBIIzCoXu-w",
        "colab_type": "text"
      },
      "source": [
        "##### 1.d Statistical Summary"
      ]
    },
    {
      "cell_type": "code",
      "metadata": {
        "id": "x5-UapgViRWI",
        "colab_type": "code",
        "colab": {}
      },
      "source": [
        "# Creating a copy of the Data for manipulation\n",
        "df = data.copy()"
      ],
      "execution_count": 0,
      "outputs": []
    },
    {
      "cell_type": "code",
      "metadata": {
        "id": "icxsG46xXYpJ",
        "colab_type": "code",
        "outputId": "19406153-4722-415b-97d1-1f852b6f0a69",
        "colab": {
          "base_uri": "https://localhost:8080/",
          "height": 408
        }
      },
      "source": [
        "df = df.drop(['ID', 'ZIP Code'], axis= 1) # drop the categorical columns 'ID' and 'ZIP Code'\n",
        "\n",
        "df.describe().transpose()"
      ],
      "execution_count": 81,
      "outputs": [
        {
          "output_type": "execute_result",
          "data": {
            "text/html": [
              "<div>\n",
              "<style scoped>\n",
              "    .dataframe tbody tr th:only-of-type {\n",
              "        vertical-align: middle;\n",
              "    }\n",
              "\n",
              "    .dataframe tbody tr th {\n",
              "        vertical-align: top;\n",
              "    }\n",
              "\n",
              "    .dataframe thead th {\n",
              "        text-align: right;\n",
              "    }\n",
              "</style>\n",
              "<table border=\"1\" class=\"dataframe\">\n",
              "  <thead>\n",
              "    <tr style=\"text-align: right;\">\n",
              "      <th></th>\n",
              "      <th>count</th>\n",
              "      <th>mean</th>\n",
              "      <th>std</th>\n",
              "      <th>min</th>\n",
              "      <th>25%</th>\n",
              "      <th>50%</th>\n",
              "      <th>75%</th>\n",
              "      <th>max</th>\n",
              "    </tr>\n",
              "  </thead>\n",
              "  <tbody>\n",
              "    <tr>\n",
              "      <th>Age</th>\n",
              "      <td>5000.0</td>\n",
              "      <td>45.338</td>\n",
              "      <td>11.463</td>\n",
              "      <td>23.0</td>\n",
              "      <td>35.0</td>\n",
              "      <td>45.0</td>\n",
              "      <td>55.0</td>\n",
              "      <td>67.0</td>\n",
              "    </tr>\n",
              "    <tr>\n",
              "      <th>Experience</th>\n",
              "      <td>5000.0</td>\n",
              "      <td>20.105</td>\n",
              "      <td>11.468</td>\n",
              "      <td>-3.0</td>\n",
              "      <td>10.0</td>\n",
              "      <td>20.0</td>\n",
              "      <td>30.0</td>\n",
              "      <td>43.0</td>\n",
              "    </tr>\n",
              "    <tr>\n",
              "      <th>Income</th>\n",
              "      <td>5000.0</td>\n",
              "      <td>73.774</td>\n",
              "      <td>46.034</td>\n",
              "      <td>8.0</td>\n",
              "      <td>39.0</td>\n",
              "      <td>64.0</td>\n",
              "      <td>98.0</td>\n",
              "      <td>224.0</td>\n",
              "    </tr>\n",
              "    <tr>\n",
              "      <th>Family</th>\n",
              "      <td>5000.0</td>\n",
              "      <td>2.396</td>\n",
              "      <td>1.148</td>\n",
              "      <td>1.0</td>\n",
              "      <td>1.0</td>\n",
              "      <td>2.0</td>\n",
              "      <td>3.0</td>\n",
              "      <td>4.0</td>\n",
              "    </tr>\n",
              "    <tr>\n",
              "      <th>CCAvg</th>\n",
              "      <td>5000.0</td>\n",
              "      <td>1.938</td>\n",
              "      <td>1.748</td>\n",
              "      <td>0.0</td>\n",
              "      <td>0.7</td>\n",
              "      <td>1.5</td>\n",
              "      <td>2.5</td>\n",
              "      <td>10.0</td>\n",
              "    </tr>\n",
              "    <tr>\n",
              "      <th>Education</th>\n",
              "      <td>5000.0</td>\n",
              "      <td>1.881</td>\n",
              "      <td>0.840</td>\n",
              "      <td>1.0</td>\n",
              "      <td>1.0</td>\n",
              "      <td>2.0</td>\n",
              "      <td>3.0</td>\n",
              "      <td>3.0</td>\n",
              "    </tr>\n",
              "    <tr>\n",
              "      <th>Mortgage</th>\n",
              "      <td>5000.0</td>\n",
              "      <td>56.499</td>\n",
              "      <td>101.714</td>\n",
              "      <td>0.0</td>\n",
              "      <td>0.0</td>\n",
              "      <td>0.0</td>\n",
              "      <td>101.0</td>\n",
              "      <td>635.0</td>\n",
              "    </tr>\n",
              "    <tr>\n",
              "      <th>Personal Loan</th>\n",
              "      <td>5000.0</td>\n",
              "      <td>0.096</td>\n",
              "      <td>0.295</td>\n",
              "      <td>0.0</td>\n",
              "      <td>0.0</td>\n",
              "      <td>0.0</td>\n",
              "      <td>0.0</td>\n",
              "      <td>1.0</td>\n",
              "    </tr>\n",
              "    <tr>\n",
              "      <th>Securities Account</th>\n",
              "      <td>5000.0</td>\n",
              "      <td>0.104</td>\n",
              "      <td>0.306</td>\n",
              "      <td>0.0</td>\n",
              "      <td>0.0</td>\n",
              "      <td>0.0</td>\n",
              "      <td>0.0</td>\n",
              "      <td>1.0</td>\n",
              "    </tr>\n",
              "    <tr>\n",
              "      <th>CD Account</th>\n",
              "      <td>5000.0</td>\n",
              "      <td>0.060</td>\n",
              "      <td>0.238</td>\n",
              "      <td>0.0</td>\n",
              "      <td>0.0</td>\n",
              "      <td>0.0</td>\n",
              "      <td>0.0</td>\n",
              "      <td>1.0</td>\n",
              "    </tr>\n",
              "    <tr>\n",
              "      <th>Online</th>\n",
              "      <td>5000.0</td>\n",
              "      <td>0.597</td>\n",
              "      <td>0.491</td>\n",
              "      <td>0.0</td>\n",
              "      <td>0.0</td>\n",
              "      <td>1.0</td>\n",
              "      <td>1.0</td>\n",
              "      <td>1.0</td>\n",
              "    </tr>\n",
              "    <tr>\n",
              "      <th>CreditCard</th>\n",
              "      <td>5000.0</td>\n",
              "      <td>0.294</td>\n",
              "      <td>0.456</td>\n",
              "      <td>0.0</td>\n",
              "      <td>0.0</td>\n",
              "      <td>0.0</td>\n",
              "      <td>1.0</td>\n",
              "      <td>1.0</td>\n",
              "    </tr>\n",
              "  </tbody>\n",
              "</table>\n",
              "</div>"
            ],
            "text/plain": [
              "                     count    mean      std   min   25%   50%    75%    max\n",
              "Age                 5000.0  45.338   11.463  23.0  35.0  45.0   55.0   67.0\n",
              "Experience          5000.0  20.105   11.468  -3.0  10.0  20.0   30.0   43.0\n",
              "Income              5000.0  73.774   46.034   8.0  39.0  64.0   98.0  224.0\n",
              "Family              5000.0   2.396    1.148   1.0   1.0   2.0    3.0    4.0\n",
              "CCAvg               5000.0   1.938    1.748   0.0   0.7   1.5    2.5   10.0\n",
              "Education           5000.0   1.881    0.840   1.0   1.0   2.0    3.0    3.0\n",
              "Mortgage            5000.0  56.499  101.714   0.0   0.0   0.0  101.0  635.0\n",
              "Personal Loan       5000.0   0.096    0.295   0.0   0.0   0.0    0.0    1.0\n",
              "Securities Account  5000.0   0.104    0.306   0.0   0.0   0.0    0.0    1.0\n",
              "CD Account          5000.0   0.060    0.238   0.0   0.0   0.0    0.0    1.0\n",
              "Online              5000.0   0.597    0.491   0.0   0.0   1.0    1.0    1.0\n",
              "CreditCard          5000.0   0.294    0.456   0.0   0.0   0.0    1.0    1.0"
            ]
          },
          "metadata": {
            "tags": []
          },
          "execution_count": 81
        }
      ]
    },
    {
      "cell_type": "code",
      "metadata": {
        "id": "u0HR4_v-X1-3",
        "colab_type": "code",
        "outputId": "160d7455-71a4-43d9-8899-311cf9e48e39",
        "colab": {
          "base_uri": "https://localhost:8080/",
          "height": 198
        }
      },
      "source": [
        "#  Rearranging the columns orders for bringing the \"Personal Loan \" to the end of the dataframe.\n",
        "personal_loan = df['Personal Loan']\n",
        "df.drop(['Personal Loan'], axis = 1,inplace = True)\n",
        "df['Personal Loan'] = personal_loan\n",
        "df.head()"
      ],
      "execution_count": 82,
      "outputs": [
        {
          "output_type": "execute_result",
          "data": {
            "text/html": [
              "<div>\n",
              "<style scoped>\n",
              "    .dataframe tbody tr th:only-of-type {\n",
              "        vertical-align: middle;\n",
              "    }\n",
              "\n",
              "    .dataframe tbody tr th {\n",
              "        vertical-align: top;\n",
              "    }\n",
              "\n",
              "    .dataframe thead th {\n",
              "        text-align: right;\n",
              "    }\n",
              "</style>\n",
              "<table border=\"1\" class=\"dataframe\">\n",
              "  <thead>\n",
              "    <tr style=\"text-align: right;\">\n",
              "      <th></th>\n",
              "      <th>Age</th>\n",
              "      <th>Experience</th>\n",
              "      <th>Income</th>\n",
              "      <th>Family</th>\n",
              "      <th>CCAvg</th>\n",
              "      <th>Education</th>\n",
              "      <th>Mortgage</th>\n",
              "      <th>Securities Account</th>\n",
              "      <th>CD Account</th>\n",
              "      <th>Online</th>\n",
              "      <th>CreditCard</th>\n",
              "      <th>Personal Loan</th>\n",
              "    </tr>\n",
              "  </thead>\n",
              "  <tbody>\n",
              "    <tr>\n",
              "      <th>0</th>\n",
              "      <td>25</td>\n",
              "      <td>1</td>\n",
              "      <td>49</td>\n",
              "      <td>4</td>\n",
              "      <td>1.6</td>\n",
              "      <td>1</td>\n",
              "      <td>0</td>\n",
              "      <td>1</td>\n",
              "      <td>0</td>\n",
              "      <td>0</td>\n",
              "      <td>0</td>\n",
              "      <td>0</td>\n",
              "    </tr>\n",
              "    <tr>\n",
              "      <th>1</th>\n",
              "      <td>45</td>\n",
              "      <td>19</td>\n",
              "      <td>34</td>\n",
              "      <td>3</td>\n",
              "      <td>1.5</td>\n",
              "      <td>1</td>\n",
              "      <td>0</td>\n",
              "      <td>1</td>\n",
              "      <td>0</td>\n",
              "      <td>0</td>\n",
              "      <td>0</td>\n",
              "      <td>0</td>\n",
              "    </tr>\n",
              "    <tr>\n",
              "      <th>2</th>\n",
              "      <td>39</td>\n",
              "      <td>15</td>\n",
              "      <td>11</td>\n",
              "      <td>1</td>\n",
              "      <td>1.0</td>\n",
              "      <td>1</td>\n",
              "      <td>0</td>\n",
              "      <td>0</td>\n",
              "      <td>0</td>\n",
              "      <td>0</td>\n",
              "      <td>0</td>\n",
              "      <td>0</td>\n",
              "    </tr>\n",
              "    <tr>\n",
              "      <th>3</th>\n",
              "      <td>35</td>\n",
              "      <td>9</td>\n",
              "      <td>100</td>\n",
              "      <td>1</td>\n",
              "      <td>2.7</td>\n",
              "      <td>2</td>\n",
              "      <td>0</td>\n",
              "      <td>0</td>\n",
              "      <td>0</td>\n",
              "      <td>0</td>\n",
              "      <td>0</td>\n",
              "      <td>0</td>\n",
              "    </tr>\n",
              "    <tr>\n",
              "      <th>4</th>\n",
              "      <td>35</td>\n",
              "      <td>8</td>\n",
              "      <td>45</td>\n",
              "      <td>4</td>\n",
              "      <td>1.0</td>\n",
              "      <td>2</td>\n",
              "      <td>0</td>\n",
              "      <td>0</td>\n",
              "      <td>0</td>\n",
              "      <td>0</td>\n",
              "      <td>1</td>\n",
              "      <td>0</td>\n",
              "    </tr>\n",
              "  </tbody>\n",
              "</table>\n",
              "</div>"
            ],
            "text/plain": [
              "   Age  Experience  Income  Family  CCAvg  Education  Mortgage  Securities Account  CD Account  Online  CreditCard  Personal Loan\n",
              "0   25           1      49       4    1.6          1         0                   1           0       0           0              0\n",
              "1   45          19      34       3    1.5          1         0                   1           0       0           0              0\n",
              "2   39          15      11       1    1.0          1         0                   0           0       0           0              0\n",
              "3   35           9     100       1    2.7          2         0                   0           0       0           0              0\n",
              "4   35           8      45       4    1.0          2         0                   0           0       0           1              0"
            ]
          },
          "metadata": {
            "tags": []
          },
          "execution_count": 82
        }
      ]
    },
    {
      "cell_type": "markdown",
      "metadata": {
        "id": "n7IfI2UtkS-T",
        "colab_type": "text"
      },
      "source": [
        "1. Shape"
      ]
    },
    {
      "cell_type": "code",
      "metadata": {
        "id": "sGNQI2yXkZfV",
        "colab_type": "code",
        "outputId": "5e42805d-f96b-4675-f265-b012995a7375",
        "colab": {
          "base_uri": "https://localhost:8080/",
          "height": 35
        }
      },
      "source": [
        "df.shape # check the shape after droping and rearrangig columns"
      ],
      "execution_count": 83,
      "outputs": [
        {
          "output_type": "execute_result",
          "data": {
            "text/plain": [
              "(5000, 12)"
            ]
          },
          "metadata": {
            "tags": []
          },
          "execution_count": 83
        }
      ]
    },
    {
      "cell_type": "markdown",
      "metadata": {
        "id": "v5eqGMUmkpur",
        "colab_type": "text"
      },
      "source": [
        "###### 1.e Check for invalid values"
      ]
    },
    {
      "cell_type": "code",
      "metadata": {
        "id": "PUeMKGFFjkGt",
        "colab_type": "code",
        "outputId": "537448c3-d065-4043-c856-49f31f327bb1",
        "colab": {
          "base_uri": "https://localhost:8080/",
          "height": 254
        }
      },
      "source": [
        "df.isnull().sum() # check for null values by row"
      ],
      "execution_count": 84,
      "outputs": [
        {
          "output_type": "execute_result",
          "data": {
            "text/plain": [
              "Age                   0\n",
              "Experience            0\n",
              "Income                0\n",
              "Family                0\n",
              "CCAvg                 0\n",
              "Education             0\n",
              "Mortgage              0\n",
              "Securities Account    0\n",
              "CD Account            0\n",
              "Online                0\n",
              "CreditCard            0\n",
              "Personal Loan         0\n",
              "dtype: int64"
            ]
          },
          "metadata": {
            "tags": []
          },
          "execution_count": 84
        }
      ]
    },
    {
      "cell_type": "code",
      "metadata": {
        "id": "-rjdswtUkOZV",
        "colab_type": "code",
        "outputId": "4c7fff74-a272-4331-cff4-17c9726946f7",
        "colab": {
          "base_uri": "https://localhost:8080/",
          "height": 35
        }
      },
      "source": [
        "df.isnull().sum().any() # check for null values in the dataframe"
      ],
      "execution_count": 85,
      "outputs": [
        {
          "output_type": "execute_result",
          "data": {
            "text/plain": [
              "False"
            ]
          },
          "metadata": {
            "tags": []
          },
          "execution_count": 85
        }
      ]
    },
    {
      "cell_type": "code",
      "metadata": {
        "id": "Wxl6V-nnAwoK",
        "colab_type": "code",
        "outputId": "6fbed08e-753f-41f5-be18-66ee08f9d629",
        "colab": {
          "base_uri": "https://localhost:8080/",
          "height": 408
        }
      },
      "source": [
        "# Checking the Dataframe Distributions\n",
        "df.describe().transpose()"
      ],
      "execution_count": 86,
      "outputs": [
        {
          "output_type": "execute_result",
          "data": {
            "text/html": [
              "<div>\n",
              "<style scoped>\n",
              "    .dataframe tbody tr th:only-of-type {\n",
              "        vertical-align: middle;\n",
              "    }\n",
              "\n",
              "    .dataframe tbody tr th {\n",
              "        vertical-align: top;\n",
              "    }\n",
              "\n",
              "    .dataframe thead th {\n",
              "        text-align: right;\n",
              "    }\n",
              "</style>\n",
              "<table border=\"1\" class=\"dataframe\">\n",
              "  <thead>\n",
              "    <tr style=\"text-align: right;\">\n",
              "      <th></th>\n",
              "      <th>count</th>\n",
              "      <th>mean</th>\n",
              "      <th>std</th>\n",
              "      <th>min</th>\n",
              "      <th>25%</th>\n",
              "      <th>50%</th>\n",
              "      <th>75%</th>\n",
              "      <th>max</th>\n",
              "    </tr>\n",
              "  </thead>\n",
              "  <tbody>\n",
              "    <tr>\n",
              "      <th>Age</th>\n",
              "      <td>5000.0</td>\n",
              "      <td>45.338</td>\n",
              "      <td>11.463</td>\n",
              "      <td>23.0</td>\n",
              "      <td>35.0</td>\n",
              "      <td>45.0</td>\n",
              "      <td>55.0</td>\n",
              "      <td>67.0</td>\n",
              "    </tr>\n",
              "    <tr>\n",
              "      <th>Experience</th>\n",
              "      <td>5000.0</td>\n",
              "      <td>20.105</td>\n",
              "      <td>11.468</td>\n",
              "      <td>-3.0</td>\n",
              "      <td>10.0</td>\n",
              "      <td>20.0</td>\n",
              "      <td>30.0</td>\n",
              "      <td>43.0</td>\n",
              "    </tr>\n",
              "    <tr>\n",
              "      <th>Income</th>\n",
              "      <td>5000.0</td>\n",
              "      <td>73.774</td>\n",
              "      <td>46.034</td>\n",
              "      <td>8.0</td>\n",
              "      <td>39.0</td>\n",
              "      <td>64.0</td>\n",
              "      <td>98.0</td>\n",
              "      <td>224.0</td>\n",
              "    </tr>\n",
              "    <tr>\n",
              "      <th>Family</th>\n",
              "      <td>5000.0</td>\n",
              "      <td>2.396</td>\n",
              "      <td>1.148</td>\n",
              "      <td>1.0</td>\n",
              "      <td>1.0</td>\n",
              "      <td>2.0</td>\n",
              "      <td>3.0</td>\n",
              "      <td>4.0</td>\n",
              "    </tr>\n",
              "    <tr>\n",
              "      <th>CCAvg</th>\n",
              "      <td>5000.0</td>\n",
              "      <td>1.938</td>\n",
              "      <td>1.748</td>\n",
              "      <td>0.0</td>\n",
              "      <td>0.7</td>\n",
              "      <td>1.5</td>\n",
              "      <td>2.5</td>\n",
              "      <td>10.0</td>\n",
              "    </tr>\n",
              "    <tr>\n",
              "      <th>Education</th>\n",
              "      <td>5000.0</td>\n",
              "      <td>1.881</td>\n",
              "      <td>0.840</td>\n",
              "      <td>1.0</td>\n",
              "      <td>1.0</td>\n",
              "      <td>2.0</td>\n",
              "      <td>3.0</td>\n",
              "      <td>3.0</td>\n",
              "    </tr>\n",
              "    <tr>\n",
              "      <th>Mortgage</th>\n",
              "      <td>5000.0</td>\n",
              "      <td>56.499</td>\n",
              "      <td>101.714</td>\n",
              "      <td>0.0</td>\n",
              "      <td>0.0</td>\n",
              "      <td>0.0</td>\n",
              "      <td>101.0</td>\n",
              "      <td>635.0</td>\n",
              "    </tr>\n",
              "    <tr>\n",
              "      <th>Securities Account</th>\n",
              "      <td>5000.0</td>\n",
              "      <td>0.104</td>\n",
              "      <td>0.306</td>\n",
              "      <td>0.0</td>\n",
              "      <td>0.0</td>\n",
              "      <td>0.0</td>\n",
              "      <td>0.0</td>\n",
              "      <td>1.0</td>\n",
              "    </tr>\n",
              "    <tr>\n",
              "      <th>CD Account</th>\n",
              "      <td>5000.0</td>\n",
              "      <td>0.060</td>\n",
              "      <td>0.238</td>\n",
              "      <td>0.0</td>\n",
              "      <td>0.0</td>\n",
              "      <td>0.0</td>\n",
              "      <td>0.0</td>\n",
              "      <td>1.0</td>\n",
              "    </tr>\n",
              "    <tr>\n",
              "      <th>Online</th>\n",
              "      <td>5000.0</td>\n",
              "      <td>0.597</td>\n",
              "      <td>0.491</td>\n",
              "      <td>0.0</td>\n",
              "      <td>0.0</td>\n",
              "      <td>1.0</td>\n",
              "      <td>1.0</td>\n",
              "      <td>1.0</td>\n",
              "    </tr>\n",
              "    <tr>\n",
              "      <th>CreditCard</th>\n",
              "      <td>5000.0</td>\n",
              "      <td>0.294</td>\n",
              "      <td>0.456</td>\n",
              "      <td>0.0</td>\n",
              "      <td>0.0</td>\n",
              "      <td>0.0</td>\n",
              "      <td>1.0</td>\n",
              "      <td>1.0</td>\n",
              "    </tr>\n",
              "    <tr>\n",
              "      <th>Personal Loan</th>\n",
              "      <td>5000.0</td>\n",
              "      <td>0.096</td>\n",
              "      <td>0.295</td>\n",
              "      <td>0.0</td>\n",
              "      <td>0.0</td>\n",
              "      <td>0.0</td>\n",
              "      <td>0.0</td>\n",
              "      <td>1.0</td>\n",
              "    </tr>\n",
              "  </tbody>\n",
              "</table>\n",
              "</div>"
            ],
            "text/plain": [
              "                     count    mean      std   min   25%   50%    75%    max\n",
              "Age                 5000.0  45.338   11.463  23.0  35.0  45.0   55.0   67.0\n",
              "Experience          5000.0  20.105   11.468  -3.0  10.0  20.0   30.0   43.0\n",
              "Income              5000.0  73.774   46.034   8.0  39.0  64.0   98.0  224.0\n",
              "Family              5000.0   2.396    1.148   1.0   1.0   2.0    3.0    4.0\n",
              "CCAvg               5000.0   1.938    1.748   0.0   0.7   1.5    2.5   10.0\n",
              "Education           5000.0   1.881    0.840   1.0   1.0   2.0    3.0    3.0\n",
              "Mortgage            5000.0  56.499  101.714   0.0   0.0   0.0  101.0  635.0\n",
              "Securities Account  5000.0   0.104    0.306   0.0   0.0   0.0    0.0    1.0\n",
              "CD Account          5000.0   0.060    0.238   0.0   0.0   0.0    0.0    1.0\n",
              "Online              5000.0   0.597    0.491   0.0   0.0   1.0    1.0    1.0\n",
              "CreditCard          5000.0   0.294    0.456   0.0   0.0   0.0    1.0    1.0\n",
              "Personal Loan       5000.0   0.096    0.295   0.0   0.0   0.0    0.0    1.0"
            ]
          },
          "metadata": {
            "tags": []
          },
          "execution_count": 86
        }
      ]
    },
    {
      "cell_type": "markdown",
      "metadata": {
        "id": "kdWWeo4nA9m2",
        "colab_type": "text"
      },
      "source": [
        "###### There is negative values in the 'Experience' column"
      ]
    },
    {
      "cell_type": "code",
      "metadata": {
        "id": "oXOrAGfBk72h",
        "colab_type": "code",
        "outputId": "e3e0d18f-fd56-48ee-df62-dd547b4c775c",
        "colab": {
          "base_uri": "https://localhost:8080/",
          "height": 35
        }
      },
      "source": [
        "# Experience can't be a negative values\n",
        "df[df['Experience'] <= -1]['Experience'].count() # count the total of negative numbers in the 'Experience' row"
      ],
      "execution_count": 87,
      "outputs": [
        {
          "output_type": "execute_result",
          "data": {
            "text/plain": [
              "52"
            ]
          },
          "metadata": {
            "tags": []
          },
          "execution_count": 87
        }
      ]
    },
    {
      "cell_type": "code",
      "metadata": {
        "id": "_N7maPvLlux3",
        "colab_type": "code",
        "colab": {}
      },
      "source": [
        "# Get the numeric data from the 'Experience' column and replace just the negatives value by the Mode() function (Median() will be afected by the negative values) \n",
        "df.loc[(df['Experience'] <= -1), 'Experience'] = df['Experience'].mode()"
      ],
      "execution_count": 0,
      "outputs": []
    },
    {
      "cell_type": "code",
      "metadata": {
        "id": "Lh2JM5XLocU_",
        "colab_type": "code",
        "outputId": "af64e4d4-a03c-44b6-f467-142e7da1e461",
        "colab": {
          "base_uri": "https://localhost:8080/",
          "height": 408
        }
      },
      "source": [
        "# Checking the new distribution in 'Experience'\n",
        "df.describe().transpose()"
      ],
      "execution_count": 89,
      "outputs": [
        {
          "output_type": "execute_result",
          "data": {
            "text/html": [
              "<div>\n",
              "<style scoped>\n",
              "    .dataframe tbody tr th:only-of-type {\n",
              "        vertical-align: middle;\n",
              "    }\n",
              "\n",
              "    .dataframe tbody tr th {\n",
              "        vertical-align: top;\n",
              "    }\n",
              "\n",
              "    .dataframe thead th {\n",
              "        text-align: right;\n",
              "    }\n",
              "</style>\n",
              "<table border=\"1\" class=\"dataframe\">\n",
              "  <thead>\n",
              "    <tr style=\"text-align: right;\">\n",
              "      <th></th>\n",
              "      <th>count</th>\n",
              "      <th>mean</th>\n",
              "      <th>std</th>\n",
              "      <th>min</th>\n",
              "      <th>25%</th>\n",
              "      <th>50%</th>\n",
              "      <th>75%</th>\n",
              "      <th>max</th>\n",
              "    </tr>\n",
              "  </thead>\n",
              "  <tbody>\n",
              "    <tr>\n",
              "      <th>Age</th>\n",
              "      <td>5000.0</td>\n",
              "      <td>45.338</td>\n",
              "      <td>11.463</td>\n",
              "      <td>23.0</td>\n",
              "      <td>35.00</td>\n",
              "      <td>45.0</td>\n",
              "      <td>55.0</td>\n",
              "      <td>67.0</td>\n",
              "    </tr>\n",
              "    <tr>\n",
              "      <th>Experience</th>\n",
              "      <td>4948.0</td>\n",
              "      <td>20.331</td>\n",
              "      <td>11.312</td>\n",
              "      <td>0.0</td>\n",
              "      <td>10.75</td>\n",
              "      <td>20.0</td>\n",
              "      <td>30.0</td>\n",
              "      <td>43.0</td>\n",
              "    </tr>\n",
              "    <tr>\n",
              "      <th>Income</th>\n",
              "      <td>5000.0</td>\n",
              "      <td>73.774</td>\n",
              "      <td>46.034</td>\n",
              "      <td>8.0</td>\n",
              "      <td>39.00</td>\n",
              "      <td>64.0</td>\n",
              "      <td>98.0</td>\n",
              "      <td>224.0</td>\n",
              "    </tr>\n",
              "    <tr>\n",
              "      <th>Family</th>\n",
              "      <td>5000.0</td>\n",
              "      <td>2.396</td>\n",
              "      <td>1.148</td>\n",
              "      <td>1.0</td>\n",
              "      <td>1.00</td>\n",
              "      <td>2.0</td>\n",
              "      <td>3.0</td>\n",
              "      <td>4.0</td>\n",
              "    </tr>\n",
              "    <tr>\n",
              "      <th>CCAvg</th>\n",
              "      <td>5000.0</td>\n",
              "      <td>1.938</td>\n",
              "      <td>1.748</td>\n",
              "      <td>0.0</td>\n",
              "      <td>0.70</td>\n",
              "      <td>1.5</td>\n",
              "      <td>2.5</td>\n",
              "      <td>10.0</td>\n",
              "    </tr>\n",
              "    <tr>\n",
              "      <th>Education</th>\n",
              "      <td>5000.0</td>\n",
              "      <td>1.881</td>\n",
              "      <td>0.840</td>\n",
              "      <td>1.0</td>\n",
              "      <td>1.00</td>\n",
              "      <td>2.0</td>\n",
              "      <td>3.0</td>\n",
              "      <td>3.0</td>\n",
              "    </tr>\n",
              "    <tr>\n",
              "      <th>Mortgage</th>\n",
              "      <td>5000.0</td>\n",
              "      <td>56.499</td>\n",
              "      <td>101.714</td>\n",
              "      <td>0.0</td>\n",
              "      <td>0.00</td>\n",
              "      <td>0.0</td>\n",
              "      <td>101.0</td>\n",
              "      <td>635.0</td>\n",
              "    </tr>\n",
              "    <tr>\n",
              "      <th>Securities Account</th>\n",
              "      <td>5000.0</td>\n",
              "      <td>0.104</td>\n",
              "      <td>0.306</td>\n",
              "      <td>0.0</td>\n",
              "      <td>0.00</td>\n",
              "      <td>0.0</td>\n",
              "      <td>0.0</td>\n",
              "      <td>1.0</td>\n",
              "    </tr>\n",
              "    <tr>\n",
              "      <th>CD Account</th>\n",
              "      <td>5000.0</td>\n",
              "      <td>0.060</td>\n",
              "      <td>0.238</td>\n",
              "      <td>0.0</td>\n",
              "      <td>0.00</td>\n",
              "      <td>0.0</td>\n",
              "      <td>0.0</td>\n",
              "      <td>1.0</td>\n",
              "    </tr>\n",
              "    <tr>\n",
              "      <th>Online</th>\n",
              "      <td>5000.0</td>\n",
              "      <td>0.597</td>\n",
              "      <td>0.491</td>\n",
              "      <td>0.0</td>\n",
              "      <td>0.00</td>\n",
              "      <td>1.0</td>\n",
              "      <td>1.0</td>\n",
              "      <td>1.0</td>\n",
              "    </tr>\n",
              "    <tr>\n",
              "      <th>CreditCard</th>\n",
              "      <td>5000.0</td>\n",
              "      <td>0.294</td>\n",
              "      <td>0.456</td>\n",
              "      <td>0.0</td>\n",
              "      <td>0.00</td>\n",
              "      <td>0.0</td>\n",
              "      <td>1.0</td>\n",
              "      <td>1.0</td>\n",
              "    </tr>\n",
              "    <tr>\n",
              "      <th>Personal Loan</th>\n",
              "      <td>5000.0</td>\n",
              "      <td>0.096</td>\n",
              "      <td>0.295</td>\n",
              "      <td>0.0</td>\n",
              "      <td>0.00</td>\n",
              "      <td>0.0</td>\n",
              "      <td>0.0</td>\n",
              "      <td>1.0</td>\n",
              "    </tr>\n",
              "  </tbody>\n",
              "</table>\n",
              "</div>"
            ],
            "text/plain": [
              "                     count    mean      std   min    25%   50%    75%    max\n",
              "Age                 5000.0  45.338   11.463  23.0  35.00  45.0   55.0   67.0\n",
              "Experience          4948.0  20.331   11.312   0.0  10.75  20.0   30.0   43.0\n",
              "Income              5000.0  73.774   46.034   8.0  39.00  64.0   98.0  224.0\n",
              "Family              5000.0   2.396    1.148   1.0   1.00   2.0    3.0    4.0\n",
              "CCAvg               5000.0   1.938    1.748   0.0   0.70   1.5    2.5   10.0\n",
              "Education           5000.0   1.881    0.840   1.0   1.00   2.0    3.0    3.0\n",
              "Mortgage            5000.0  56.499  101.714   0.0   0.00   0.0  101.0  635.0\n",
              "Securities Account  5000.0   0.104    0.306   0.0   0.00   0.0    0.0    1.0\n",
              "CD Account          5000.0   0.060    0.238   0.0   0.00   0.0    0.0    1.0\n",
              "Online              5000.0   0.597    0.491   0.0   0.00   1.0    1.0    1.0\n",
              "CreditCard          5000.0   0.294    0.456   0.0   0.00   0.0    1.0    1.0\n",
              "Personal Loan       5000.0   0.096    0.295   0.0   0.00   0.0    0.0    1.0"
            ]
          },
          "metadata": {
            "tags": []
          },
          "execution_count": 89
        }
      ]
    },
    {
      "cell_type": "code",
      "metadata": {
        "id": "Y3jGvqOiolrA",
        "colab_type": "code",
        "outputId": "16ed42d5-76a5-4c01-cbff-fa84ce1817c6",
        "colab": {
          "base_uri": "https://localhost:8080/",
          "height": 35
        }
      },
      "source": [
        "# Cheking again if 'Experience' has any negative values\n",
        "df[df['Experience'] <= -1]['Experience'].count()"
      ],
      "execution_count": 90,
      "outputs": [
        {
          "output_type": "execute_result",
          "data": {
            "text/plain": [
              "0"
            ]
          },
          "metadata": {
            "tags": []
          },
          "execution_count": 90
        }
      ]
    },
    {
      "cell_type": "markdown",
      "metadata": {
        "id": "ZlNiJWFR0HFA",
        "colab_type": "text"
      },
      "source": [
        "### 2. Exploratory Data Analysis:"
      ]
    },
    {
      "cell_type": "markdown",
      "metadata": {
        "id": "Kzj1aIzaDQBQ",
        "colab_type": "text"
      },
      "source": [
        "##### 2.1 Number of unique in each column?"
      ]
    },
    {
      "cell_type": "code",
      "metadata": {
        "id": "acRsy_b2RD_N",
        "colab_type": "code",
        "outputId": "f5d1e840-a2ea-4480-8a6a-725dcfa453aa",
        "colab": {
          "base_uri": "https://localhost:8080/",
          "height": 254
        }
      },
      "source": [
        "df.nunique()"
      ],
      "execution_count": 91,
      "outputs": [
        {
          "output_type": "execute_result",
          "data": {
            "text/plain": [
              "Age                    45\n",
              "Experience             44\n",
              "Income                162\n",
              "Family                  4\n",
              "CCAvg                 108\n",
              "Education               3\n",
              "Mortgage              347\n",
              "Securities Account      2\n",
              "CD Account              2\n",
              "Online                  2\n",
              "CreditCard              2\n",
              "Personal Loan           2\n",
              "dtype: int64"
            ]
          },
          "metadata": {
            "tags": []
          },
          "execution_count": 91
        }
      ]
    },
    {
      "cell_type": "code",
      "metadata": {
        "id": "zQtUpH5WTe8F",
        "colab_type": "code",
        "outputId": "51b4eb62-2aca-480a-9725-8e0e602b1604",
        "colab": {
          "base_uri": "https://localhost:8080/",
          "height": 254
        }
      },
      "source": [
        "df.apply(lambda x: len(x.unique()))"
      ],
      "execution_count": 92,
      "outputs": [
        {
          "output_type": "execute_result",
          "data": {
            "text/plain": [
              "Age                    45\n",
              "Experience             45\n",
              "Income                162\n",
              "Family                  4\n",
              "CCAvg                 108\n",
              "Education               3\n",
              "Mortgage              347\n",
              "Securities Account      2\n",
              "CD Account              2\n",
              "Online                  2\n",
              "CreditCard              2\n",
              "Personal Loan           2\n",
              "dtype: int64"
            ]
          },
          "metadata": {
            "tags": []
          },
          "execution_count": 92
        }
      ]
    },
    {
      "cell_type": "markdown",
      "metadata": {
        "id": "NZ68RIj_Ftjq",
        "colab_type": "text"
      },
      "source": [
        "2.2 Number of people with zero mortgage?"
      ]
    },
    {
      "cell_type": "code",
      "metadata": {
        "id": "8woY-pmIFyNL",
        "colab_type": "code",
        "outputId": "0ba51e6b-e2ba-422e-b0e2-fc461adba80f",
        "colab": {
          "base_uri": "https://localhost:8080/",
          "height": 35
        }
      },
      "source": [
        "a= df['Mortgage'].isin([0]).sum()\n",
        "print('The number of clients with zero Mortgage are {}'.format(a))"
      ],
      "execution_count": 93,
      "outputs": [
        {
          "output_type": "stream",
          "text": [
            "The number of clients with zero Mortgage are 3462\n"
          ],
          "name": "stdout"
        }
      ]
    },
    {
      "cell_type": "markdown",
      "metadata": {
        "id": "eRhNR7b6l8ty",
        "colab_type": "text"
      },
      "source": [
        "2.3 Number of people with zero credit card spending per month?"
      ]
    },
    {
      "cell_type": "code",
      "metadata": {
        "id": "SEmLuaFbkkrF",
        "colab_type": "code",
        "outputId": "1171e4c8-f0d0-430a-9538-02ff1873fab4",
        "colab": {
          "base_uri": "https://localhost:8080/",
          "height": 35
        }
      },
      "source": [
        "b= df['CCAvg'].isin([0]).sum()\n",
        "print('The number of clients with zero Credit Card spending are {}'.format(b))"
      ],
      "execution_count": 94,
      "outputs": [
        {
          "output_type": "stream",
          "text": [
            "The number of clients with zero Credit Card spending are 106\n"
          ],
          "name": "stdout"
        }
      ]
    },
    {
      "cell_type": "markdown",
      "metadata": {
        "id": "Vr5ubO0Wm6Lf",
        "colab_type": "text"
      },
      "source": [
        "#### 2.4 Value counts of all categorical columns."
      ]
    },
    {
      "cell_type": "code",
      "metadata": {
        "id": "YJD9ajEim8zP",
        "colab_type": "code",
        "colab": {}
      },
      "source": [
        "# list of Columns Types\n",
        "numerical_columns_list= ('Age', 'Experience', 'Income', 'CCAvg', 'Mortgage')\n",
        "categorical_columns_list= ('Family',\t'Education',\t'Personal Loan',\t'Securities Account', 'CD Account',\t'Online',\t'CreditCard') "
      ],
      "execution_count": 0,
      "outputs": []
    },
    {
      "cell_type": "markdown",
      "metadata": {
        "id": "CK5q928Uz2m0",
        "colab_type": "text"
      },
      "source": [
        "#### 2.4.1 Categorical Columns"
      ]
    },
    {
      "cell_type": "markdown",
      "metadata": {
        "id": "ACLNb_DX0QfY",
        "colab_type": "text"
      },
      "source": [
        "2.4.1.1 Family"
      ]
    },
    {
      "cell_type": "code",
      "metadata": {
        "id": "S5EKywO40Ae1",
        "colab_type": "code",
        "outputId": "060309c5-0f6a-4851-8c58-120478a5597d",
        "colab": {
          "base_uri": "https://localhost:8080/",
          "height": 168
        }
      },
      "source": [
        "# Family value count and Percetantage\n",
        "family_count = pd.Series(df['Family'].squeeze().values.ravel()).value_counts()\n",
        "pd.DataFrame({'Count':family_count.values, 'Percentage':(family_count/family_count.sum()).values})"
      ],
      "execution_count": 96,
      "outputs": [
        {
          "output_type": "execute_result",
          "data": {
            "text/html": [
              "<div>\n",
              "<style scoped>\n",
              "    .dataframe tbody tr th:only-of-type {\n",
              "        vertical-align: middle;\n",
              "    }\n",
              "\n",
              "    .dataframe tbody tr th {\n",
              "        vertical-align: top;\n",
              "    }\n",
              "\n",
              "    .dataframe thead th {\n",
              "        text-align: right;\n",
              "    }\n",
              "</style>\n",
              "<table border=\"1\" class=\"dataframe\">\n",
              "  <thead>\n",
              "    <tr style=\"text-align: right;\">\n",
              "      <th></th>\n",
              "      <th>Count</th>\n",
              "      <th>Percentage</th>\n",
              "    </tr>\n",
              "  </thead>\n",
              "  <tbody>\n",
              "    <tr>\n",
              "      <th>0</th>\n",
              "      <td>1472</td>\n",
              "      <td>0.294</td>\n",
              "    </tr>\n",
              "    <tr>\n",
              "      <th>1</th>\n",
              "      <td>1296</td>\n",
              "      <td>0.259</td>\n",
              "    </tr>\n",
              "    <tr>\n",
              "      <th>2</th>\n",
              "      <td>1222</td>\n",
              "      <td>0.244</td>\n",
              "    </tr>\n",
              "    <tr>\n",
              "      <th>3</th>\n",
              "      <td>1010</td>\n",
              "      <td>0.202</td>\n",
              "    </tr>\n",
              "  </tbody>\n",
              "</table>\n",
              "</div>"
            ],
            "text/plain": [
              "   Count  Percentage\n",
              "0   1472       0.294\n",
              "1   1296       0.259\n",
              "2   1222       0.244\n",
              "3   1010       0.202"
            ]
          },
          "metadata": {
            "tags": []
          },
          "execution_count": 96
        }
      ]
    },
    {
      "cell_type": "code",
      "metadata": {
        "id": "0h_AfvSZ6Uwb",
        "colab_type": "code",
        "outputId": "fe9c5e22-648a-40d0-be2e-858c353346bd",
        "colab": {
          "base_uri": "https://localhost:8080/",
          "height": 279
        }
      },
      "source": [
        "# Family value per Income grouped by Personal Loan\n",
        "sns.boxplot(x='Family',y='Income',hue='Personal Loan',data=df);"
      ],
      "execution_count": 97,
      "outputs": [
        {
          "output_type": "display_data",
          "data": {
            "image/png": "[encoded data removed]",
            "text/plain": [
              "<Figure size 432x288 with 1 Axes>"
            ]
          },
          "metadata": {
            "tags": [],
            "needs_background": "light"
          }
        }
      ]
    },
    {
      "cell_type": "markdown",
      "metadata": {
        "id": "STQyP2cA0mJR",
        "colab_type": "text"
      },
      "source": [
        "#### 2.4.1.2 Education"
      ]
    },
    {
      "cell_type": "code",
      "metadata": {
        "id": "p9Xz6edk0p0T",
        "colab_type": "code",
        "outputId": "f96cf001-a49d-44de-e9bb-444ec1675005",
        "colab": {
          "base_uri": "https://localhost:8080/",
          "height": 138
        }
      },
      "source": [
        "# Education value count and Percetantage\n",
        "education_count = pd.Series(df['Education'].squeeze().values.ravel()).value_counts()\n",
        "pd.DataFrame({'Count':education_count.values, 'Percentage':(education_count/education_count.sum()).values})"
      ],
      "execution_count": 98,
      "outputs": [
        {
          "output_type": "execute_result",
          "data": {
            "text/html": [
              "<div>\n",
              "<style scoped>\n",
              "    .dataframe tbody tr th:only-of-type {\n",
              "        vertical-align: middle;\n",
              "    }\n",
              "\n",
              "    .dataframe tbody tr th {\n",
              "        vertical-align: top;\n",
              "    }\n",
              "\n",
              "    .dataframe thead th {\n",
              "        text-align: right;\n",
              "    }\n",
              "</style>\n",
              "<table border=\"1\" class=\"dataframe\">\n",
              "  <thead>\n",
              "    <tr style=\"text-align: right;\">\n",
              "      <th></th>\n",
              "      <th>Count</th>\n",
              "      <th>Percentage</th>\n",
              "    </tr>\n",
              "  </thead>\n",
              "  <tbody>\n",
              "    <tr>\n",
              "      <th>0</th>\n",
              "      <td>2096</td>\n",
              "      <td>0.419</td>\n",
              "    </tr>\n",
              "    <tr>\n",
              "      <th>1</th>\n",
              "      <td>1501</td>\n",
              "      <td>0.300</td>\n",
              "    </tr>\n",
              "    <tr>\n",
              "      <th>2</th>\n",
              "      <td>1403</td>\n",
              "      <td>0.281</td>\n",
              "    </tr>\n",
              "  </tbody>\n",
              "</table>\n",
              "</div>"
            ],
            "text/plain": [
              "   Count  Percentage\n",
              "0   2096       0.419\n",
              "1   1501       0.300\n",
              "2   1403       0.281"
            ]
          },
          "metadata": {
            "tags": []
          },
          "execution_count": 98
        }
      ]
    },
    {
      "cell_type": "code",
      "metadata": {
        "id": "Yq2I0Eft2TMk",
        "colab_type": "code",
        "outputId": "eaed52f2-764f-46da-8336-e7b0f68b377c",
        "colab": {
          "base_uri": "https://localhost:8080/",
          "height": 279
        }
      },
      "source": [
        "# Education degree per Income grouped by Personal Loan\n",
        "sns.boxplot(x='Education',y='Income',hue='Personal Loan',data=df);"
      ],
      "execution_count": 99,
      "outputs": [
        {
          "output_type": "display_data",
          "data": {
            "image/png": "[encoded data removed]",
            "text/plain": [
              "<Figure size 432x288 with 1 Axes>"
            ]
          },
          "metadata": {
            "tags": [],
            "needs_background": "light"
          }
        }
      ]
    },
    {
      "cell_type": "markdown",
      "metadata": {
        "id": "RzXMjzoE15_I",
        "colab_type": "text"
      },
      "source": [
        "2.4.1.3 Personal Loan"
      ]
    },
    {
      "cell_type": "code",
      "metadata": {
        "id": "wEBYSdD21_Tp",
        "colab_type": "code",
        "outputId": "c70a3cbe-9733-4bb1-c79e-6256e0d626e3",
        "colab": {
          "base_uri": "https://localhost:8080/",
          "height": 108
        }
      },
      "source": [
        "# Personal Loan value count and Percetantage\n",
        "personalloan_count = pd.Series(df['Personal Loan'].squeeze().values.ravel()).value_counts()\n",
        "pd.DataFrame({'Count':personalloan_count.values, 'Percentage':(personalloan_count/personalloan_count.sum()).values})"
      ],
      "execution_count": 100,
      "outputs": [
        {
          "output_type": "execute_result",
          "data": {
            "text/html": [
              "<div>\n",
              "<style scoped>\n",
              "    .dataframe tbody tr th:only-of-type {\n",
              "        vertical-align: middle;\n",
              "    }\n",
              "\n",
              "    .dataframe tbody tr th {\n",
              "        vertical-align: top;\n",
              "    }\n",
              "\n",
              "    .dataframe thead th {\n",
              "        text-align: right;\n",
              "    }\n",
              "</style>\n",
              "<table border=\"1\" class=\"dataframe\">\n",
              "  <thead>\n",
              "    <tr style=\"text-align: right;\">\n",
              "      <th></th>\n",
              "      <th>Count</th>\n",
              "      <th>Percentage</th>\n",
              "    </tr>\n",
              "  </thead>\n",
              "  <tbody>\n",
              "    <tr>\n",
              "      <th>0</th>\n",
              "      <td>4520</td>\n",
              "      <td>0.904</td>\n",
              "    </tr>\n",
              "    <tr>\n",
              "      <th>1</th>\n",
              "      <td>480</td>\n",
              "      <td>0.096</td>\n",
              "    </tr>\n",
              "  </tbody>\n",
              "</table>\n",
              "</div>"
            ],
            "text/plain": [
              "   Count  Percentage\n",
              "0   4520       0.904\n",
              "1    480       0.096"
            ]
          },
          "metadata": {
            "tags": []
          },
          "execution_count": 100
        }
      ]
    },
    {
      "cell_type": "code",
      "metadata": {
        "id": "n6wSK14D7SSt",
        "colab_type": "code",
        "outputId": "7729a3a5-4d44-411d-c935-1e64ea8c3f59",
        "colab": {
          "base_uri": "https://localhost:8080/",
          "height": 279
        }
      },
      "source": [
        "# Personal Loan plot\n",
        "sns.countplot(x=\"Personal Loan\", data=df);"
      ],
      "execution_count": 101,
      "outputs": [
        {
          "output_type": "display_data",
          "data": {
            "image/png": "[encoded data removed]",
            "text/plain": [
              "<Figure size 432x288 with 1 Axes>"
            ]
          },
          "metadata": {
            "tags": [],
            "needs_background": "light"
          }
        }
      ]
    },
    {
      "cell_type": "markdown",
      "metadata": {
        "colab_type": "text",
        "id": "hw0EDrxp9PeM"
      },
      "source": [
        "###### This is a assimetry distribution in Personal Loan "
      ]
    },
    {
      "cell_type": "markdown",
      "metadata": {
        "id": "71JwXigT8ciI",
        "colab_type": "text"
      },
      "source": [
        "#### 2.4.1.4 Securities Account"
      ]
    },
    {
      "cell_type": "code",
      "metadata": {
        "id": "32uMrHfn8iZ7",
        "colab_type": "code",
        "outputId": "f6721f3a-709a-4961-a405-c2ae066f3f6e",
        "colab": {
          "base_uri": "https://localhost:8080/",
          "height": 108
        }
      },
      "source": [
        "securitiesaccount_count = pd.Series(df['Securities Account'].squeeze().values.ravel()).value_counts()\n",
        "pd.DataFrame({'Count':securitiesaccount_count.values, 'Percentage':(securitiesaccount_count/securitiesaccount_count.sum()).values})"
      ],
      "execution_count": 102,
      "outputs": [
        {
          "output_type": "execute_result",
          "data": {
            "text/html": [
              "<div>\n",
              "<style scoped>\n",
              "    .dataframe tbody tr th:only-of-type {\n",
              "        vertical-align: middle;\n",
              "    }\n",
              "\n",
              "    .dataframe tbody tr th {\n",
              "        vertical-align: top;\n",
              "    }\n",
              "\n",
              "    .dataframe thead th {\n",
              "        text-align: right;\n",
              "    }\n",
              "</style>\n",
              "<table border=\"1\" class=\"dataframe\">\n",
              "  <thead>\n",
              "    <tr style=\"text-align: right;\">\n",
              "      <th></th>\n",
              "      <th>Count</th>\n",
              "      <th>Percentage</th>\n",
              "    </tr>\n",
              "  </thead>\n",
              "  <tbody>\n",
              "    <tr>\n",
              "      <th>0</th>\n",
              "      <td>4478</td>\n",
              "      <td>0.896</td>\n",
              "    </tr>\n",
              "    <tr>\n",
              "      <th>1</th>\n",
              "      <td>522</td>\n",
              "      <td>0.104</td>\n",
              "    </tr>\n",
              "  </tbody>\n",
              "</table>\n",
              "</div>"
            ],
            "text/plain": [
              "   Count  Percentage\n",
              "0   4478       0.896\n",
              "1    522       0.104"
            ]
          },
          "metadata": {
            "tags": []
          },
          "execution_count": 102
        }
      ]
    },
    {
      "cell_type": "code",
      "metadata": {
        "id": "YJ_YPpmI8rz_",
        "colab_type": "code",
        "outputId": "0ae3327b-61a5-4b5c-a954-1edde3321a44",
        "colab": {
          "base_uri": "https://localhost:8080/",
          "height": 279
        }
      },
      "source": [
        "# Security Account plot\n",
        "sns.countplot(x=\"Securities Account\", data=df,hue=\"Personal Loan\");"
      ],
      "execution_count": 103,
      "outputs": [
        {
          "output_type": "display_data",
          "data": {
            "image/png": "[encoded data removed]",
            "text/plain": [
              "<Figure size 432x288 with 1 Axes>"
            ]
          },
          "metadata": {
            "tags": [],
            "needs_background": "light"
          }
        }
      ]
    },
    {
      "cell_type": "markdown",
      "metadata": {
        "id": "D1DJxziT7gXd",
        "colab_type": "text"
      },
      "source": [
        "###### This is a assimetry distribution in Security Account and\n",
        "###### The majority of customers who doesn´t have loan have securities account"
      ]
    },
    {
      "cell_type": "markdown",
      "metadata": {
        "id": "cT6zN0x_9g8w",
        "colab_type": "text"
      },
      "source": [
        "#### 2.4.1.5 CD Account"
      ]
    },
    {
      "cell_type": "code",
      "metadata": {
        "id": "m9ReVVs79mRR",
        "colab_type": "code",
        "outputId": "5bde1b5a-1e89-4bf3-e3c2-793a81edfa03",
        "colab": {
          "base_uri": "https://localhost:8080/",
          "height": 108
        }
      },
      "source": [
        "# CD Account count value and Percentage\n",
        "cdaccount_count = pd.Series(df['CD Account'].squeeze().values.ravel()).value_counts()\n",
        "pd.DataFrame({'Count':cdaccount_count.values, 'Percentage':(cdaccount_count/cdaccount_count.sum()).values})"
      ],
      "execution_count": 104,
      "outputs": [
        {
          "output_type": "execute_result",
          "data": {
            "text/html": [
              "<div>\n",
              "<style scoped>\n",
              "    .dataframe tbody tr th:only-of-type {\n",
              "        vertical-align: middle;\n",
              "    }\n",
              "\n",
              "    .dataframe tbody tr th {\n",
              "        vertical-align: top;\n",
              "    }\n",
              "\n",
              "    .dataframe thead th {\n",
              "        text-align: right;\n",
              "    }\n",
              "</style>\n",
              "<table border=\"1\" class=\"dataframe\">\n",
              "  <thead>\n",
              "    <tr style=\"text-align: right;\">\n",
              "      <th></th>\n",
              "      <th>Count</th>\n",
              "      <th>Percentage</th>\n",
              "    </tr>\n",
              "  </thead>\n",
              "  <tbody>\n",
              "    <tr>\n",
              "      <th>0</th>\n",
              "      <td>4698</td>\n",
              "      <td>0.94</td>\n",
              "    </tr>\n",
              "    <tr>\n",
              "      <th>1</th>\n",
              "      <td>302</td>\n",
              "      <td>0.06</td>\n",
              "    </tr>\n",
              "  </tbody>\n",
              "</table>\n",
              "</div>"
            ],
            "text/plain": [
              "   Count  Percentage\n",
              "0   4698        0.94\n",
              "1    302        0.06"
            ]
          },
          "metadata": {
            "tags": []
          },
          "execution_count": 104
        }
      ]
    },
    {
      "cell_type": "code",
      "metadata": {
        "id": "GxuTvfRv-9u6",
        "colab_type": "code",
        "outputId": "34deed04-88e6-477b-f8d1-76591ccd05da",
        "colab": {
          "base_uri": "https://localhost:8080/",
          "height": 279
        }
      },
      "source": [
        "# CD Account plot\n",
        "sns.countplot(x='CD Account', data=df,hue=\"Personal Loan\");"
      ],
      "execution_count": 105,
      "outputs": [
        {
          "output_type": "display_data",
          "data": {
            "image/png": "[encoded data removed]",
            "text/plain": [
              "<Figure size 432x288 with 1 Axes>"
            ]
          },
          "metadata": {
            "tags": [],
            "needs_background": "light"
          }
        }
      ]
    },
    {
      "cell_type": "markdown",
      "metadata": {
        "colab_type": "text",
        "id": "rZtmB4AV-BAr"
      },
      "source": [
        "#### 2.4.1.6 Online"
      ]
    },
    {
      "cell_type": "code",
      "metadata": {
        "id": "mSg9AwPo9yUM",
        "colab_type": "code",
        "outputId": "52f79e21-c67a-4080-d25b-80b8130426bd",
        "colab": {
          "base_uri": "https://localhost:8080/",
          "height": 108
        }
      },
      "source": [
        "# Online count value and Percentage\n",
        "online_count = pd.Series(df['Online'].squeeze().values.ravel()).value_counts()\n",
        "pd.DataFrame({'Count':online_count.values, 'Percentage':(online_count/online_count.sum()).values})"
      ],
      "execution_count": 106,
      "outputs": [
        {
          "output_type": "execute_result",
          "data": {
            "text/html": [
              "<div>\n",
              "<style scoped>\n",
              "    .dataframe tbody tr th:only-of-type {\n",
              "        vertical-align: middle;\n",
              "    }\n",
              "\n",
              "    .dataframe tbody tr th {\n",
              "        vertical-align: top;\n",
              "    }\n",
              "\n",
              "    .dataframe thead th {\n",
              "        text-align: right;\n",
              "    }\n",
              "</style>\n",
              "<table border=\"1\" class=\"dataframe\">\n",
              "  <thead>\n",
              "    <tr style=\"text-align: right;\">\n",
              "      <th></th>\n",
              "      <th>Count</th>\n",
              "      <th>Percentage</th>\n",
              "    </tr>\n",
              "  </thead>\n",
              "  <tbody>\n",
              "    <tr>\n",
              "      <th>0</th>\n",
              "      <td>2984</td>\n",
              "      <td>0.597</td>\n",
              "    </tr>\n",
              "    <tr>\n",
              "      <th>1</th>\n",
              "      <td>2016</td>\n",
              "      <td>0.403</td>\n",
              "    </tr>\n",
              "  </tbody>\n",
              "</table>\n",
              "</div>"
            ],
            "text/plain": [
              "   Count  Percentage\n",
              "0   2984       0.597\n",
              "1   2016       0.403"
            ]
          },
          "metadata": {
            "tags": []
          },
          "execution_count": 106
        }
      ]
    },
    {
      "cell_type": "code",
      "metadata": {
        "id": "uIub0pCH_rTR",
        "colab_type": "code",
        "outputId": "75c2a751-1eb2-43d3-e0fb-534519056038",
        "colab": {
          "base_uri": "https://localhost:8080/",
          "height": 279
        }
      },
      "source": [
        "# Online plot\n",
        "sns.countplot(x='Online', data=df,hue=\"Personal Loan\");"
      ],
      "execution_count": 107,
      "outputs": [
        {
          "output_type": "display_data",
          "data": {
            "image/png": "[encoded data removed]",
            "text/plain": [
              "<Figure size 432x288 with 1 Axes>"
            ]
          },
          "metadata": {
            "tags": [],
            "needs_background": "light"
          }
        }
      ]
    },
    {
      "cell_type": "markdown",
      "metadata": {
        "id": "SzsFJo6n-P-c",
        "colab_type": "text"
      },
      "source": [
        "#### 2.4.1.7 CreditCard"
      ]
    },
    {
      "cell_type": "code",
      "metadata": {
        "id": "qj4ish0j-XUQ",
        "colab_type": "code",
        "outputId": "27e58eb6-5d3d-4d03-e346-879753df007d",
        "colab": {
          "base_uri": "https://localhost:8080/",
          "height": 108
        }
      },
      "source": [
        "# Online count value and Percentage\n",
        "creditcard_count = pd.Series(df['CreditCard'].squeeze().values.ravel()).value_counts()\n",
        "pd.DataFrame({'Count':creditcard_count.values, 'Percentage':(creditcard_count/creditcard_count.sum()).values})"
      ],
      "execution_count": 108,
      "outputs": [
        {
          "output_type": "execute_result",
          "data": {
            "text/html": [
              "<div>\n",
              "<style scoped>\n",
              "    .dataframe tbody tr th:only-of-type {\n",
              "        vertical-align: middle;\n",
              "    }\n",
              "\n",
              "    .dataframe tbody tr th {\n",
              "        vertical-align: top;\n",
              "    }\n",
              "\n",
              "    .dataframe thead th {\n",
              "        text-align: right;\n",
              "    }\n",
              "</style>\n",
              "<table border=\"1\" class=\"dataframe\">\n",
              "  <thead>\n",
              "    <tr style=\"text-align: right;\">\n",
              "      <th></th>\n",
              "      <th>Count</th>\n",
              "      <th>Percentage</th>\n",
              "    </tr>\n",
              "  </thead>\n",
              "  <tbody>\n",
              "    <tr>\n",
              "      <th>0</th>\n",
              "      <td>3530</td>\n",
              "      <td>0.706</td>\n",
              "    </tr>\n",
              "    <tr>\n",
              "      <th>1</th>\n",
              "      <td>1470</td>\n",
              "      <td>0.294</td>\n",
              "    </tr>\n",
              "  </tbody>\n",
              "</table>\n",
              "</div>"
            ],
            "text/plain": [
              "   Count  Percentage\n",
              "0   3530       0.706\n",
              "1   1470       0.294"
            ]
          },
          "metadata": {
            "tags": []
          },
          "execution_count": 108
        }
      ]
    },
    {
      "cell_type": "code",
      "metadata": {
        "id": "jmD0SLyP_0RM",
        "colab_type": "code",
        "outputId": "b44b412b-d182-46f9-c882-83b3da1db33f",
        "colab": {
          "base_uri": "https://localhost:8080/",
          "height": 279
        }
      },
      "source": [
        "# Credit Card plot\n",
        "sns.countplot(x='CreditCard', data=df,hue=\"Personal Loan\");"
      ],
      "execution_count": 109,
      "outputs": [
        {
          "output_type": "display_data",
          "data": {
            "image/png": "[encoded data removed]",
            "text/plain": [
              "<Figure size 432x288 with 1 Axes>"
            ]
          },
          "metadata": {
            "tags": [],
            "needs_background": "light"
          }
        }
      ]
    },
    {
      "cell_type": "markdown",
      "metadata": {
        "id": "CmIECjZ5C4XX",
        "colab_type": "text"
      },
      "source": [
        "#### 2.5.2 Numerical data "
      ]
    },
    {
      "cell_type": "markdown",
      "metadata": {
        "id": "sMFiXw8CHHyd",
        "colab_type": "text"
      },
      "source": [
        "2.5.2.1 Income "
      ]
    },
    {
      "cell_type": "code",
      "metadata": {
        "id": "nLqXdyGnHLgE",
        "colab_type": "code",
        "outputId": "023d8b22-2bcb-48ed-8033-f7ded4c9dba5",
        "colab": {
          "base_uri": "https://localhost:8080/",
          "height": 279
        }
      },
      "source": [
        "# Histogram plot for Income distribution by Personal Loan\n",
        "sns.distplot(df[df[\"Personal Loan\"] == 0]['Income'], color = 'b')\n",
        "sns.distplot(df[df[\"Personal Loan\"] == 1]['Income'], color = 'y');"
      ],
      "execution_count": 110,
      "outputs": [
        {
          "output_type": "display_data",
          "data": {
            "image/png": "[encoded data removed]",
            "text/plain": [
              "<Figure size 432x288 with 1 Axes>"
            ]
          },
          "metadata": {
            "tags": [],
            "needs_background": "light"
          }
        }
      ]
    },
    {
      "cell_type": "markdown",
      "metadata": {
        "id": "t_XQHdZWHd-M",
        "colab_type": "text"
      },
      "source": [
        "The graph show those who have personal loan also have a higher income."
      ]
    },
    {
      "cell_type": "markdown",
      "metadata": {
        "id": "UNOHYg_kDotx",
        "colab_type": "text"
      },
      "source": [
        "##### Checking for correlation"
      ]
    },
    {
      "cell_type": "code",
      "metadata": {
        "id": "XlibtuwxC-WD",
        "colab_type": "code",
        "outputId": "cb592f50-f80f-4166-ef9d-75e89f783e2f",
        "colab": {
          "base_uri": "https://localhost:8080/",
          "height": 198
        }
      },
      "source": [
        "# check correlation between personal loan and numerical variables\n",
        "df[['Personal Loan', 'Age', 'Income', 'CCAvg', 'Mortgage']].corr()"
      ],
      "execution_count": 111,
      "outputs": [
        {
          "output_type": "execute_result",
          "data": {
            "text/html": [
              "<div>\n",
              "<style scoped>\n",
              "    .dataframe tbody tr th:only-of-type {\n",
              "        vertical-align: middle;\n",
              "    }\n",
              "\n",
              "    .dataframe tbody tr th {\n",
              "        vertical-align: top;\n",
              "    }\n",
              "\n",
              "    .dataframe thead th {\n",
              "        text-align: right;\n",
              "    }\n",
              "</style>\n",
              "<table border=\"1\" class=\"dataframe\">\n",
              "  <thead>\n",
              "    <tr style=\"text-align: right;\">\n",
              "      <th></th>\n",
              "      <th>Personal Loan</th>\n",
              "      <th>Age</th>\n",
              "      <th>Income</th>\n",
              "      <th>CCAvg</th>\n",
              "      <th>Mortgage</th>\n",
              "    </tr>\n",
              "  </thead>\n",
              "  <tbody>\n",
              "    <tr>\n",
              "      <th>Personal Loan</th>\n",
              "      <td>1.000</td>\n",
              "      <td>-0.008</td>\n",
              "      <td>0.502</td>\n",
              "      <td>0.367</td>\n",
              "      <td>0.142</td>\n",
              "    </tr>\n",
              "    <tr>\n",
              "      <th>Age</th>\n",
              "      <td>-0.008</td>\n",
              "      <td>1.000</td>\n",
              "      <td>-0.055</td>\n",
              "      <td>-0.052</td>\n",
              "      <td>-0.013</td>\n",
              "    </tr>\n",
              "    <tr>\n",
              "      <th>Income</th>\n",
              "      <td>0.502</td>\n",
              "      <td>-0.055</td>\n",
              "      <td>1.000</td>\n",
              "      <td>0.646</td>\n",
              "      <td>0.207</td>\n",
              "    </tr>\n",
              "    <tr>\n",
              "      <th>CCAvg</th>\n",
              "      <td>0.367</td>\n",
              "      <td>-0.052</td>\n",
              "      <td>0.646</td>\n",
              "      <td>1.000</td>\n",
              "      <td>0.110</td>\n",
              "    </tr>\n",
              "    <tr>\n",
              "      <th>Mortgage</th>\n",
              "      <td>0.142</td>\n",
              "      <td>-0.013</td>\n",
              "      <td>0.207</td>\n",
              "      <td>0.110</td>\n",
              "      <td>1.000</td>\n",
              "    </tr>\n",
              "  </tbody>\n",
              "</table>\n",
              "</div>"
            ],
            "text/plain": [
              "               Personal Loan    Age  Income  CCAvg  Mortgage\n",
              "Personal Loan          1.000 -0.008   0.502  0.367     0.142\n",
              "Age                   -0.008  1.000  -0.055 -0.052    -0.013\n",
              "Income                 0.502 -0.055   1.000  0.646     0.207\n",
              "CCAvg                  0.367 -0.052   0.646  1.000     0.110\n",
              "Mortgage               0.142 -0.013   0.207  0.110     1.000"
            ]
          },
          "metadata": {
            "tags": []
          },
          "execution_count": 111
        }
      ]
    },
    {
      "cell_type": "code",
      "metadata": {
        "id": "UTPhs1eIDiqI",
        "colab_type": "code",
        "outputId": "6525c4bc-9b36-4862-fa51-2b7182db8214",
        "colab": {
          "base_uri": "https://localhost:8080/",
          "height": 269
        }
      },
      "source": [
        "# correlation heatmap between personal loan and numerical variables\n",
        "sns.heatmap(df[['Personal Loan', 'Age', 'Income', 'CCAvg', 'Mortgage']].corr(), annot = True);"
      ],
      "execution_count": 112,
      "outputs": [
        {
          "output_type": "display_data",
          "data": {
            "image/png": "[encoded data removed]",
            "text/plain": [
              "<Figure size 432x288 with 2 Axes>"
            ]
          },
          "metadata": {
            "tags": [],
            "needs_background": "light"
          }
        }
      ]
    },
    {
      "cell_type": "code",
      "metadata": {
        "id": "_sovljsOD564",
        "colab_type": "code",
        "outputId": "8ffb4858-5398-4bcb-8c9f-69555482b93f",
        "colab": {
          "base_uri": "https://localhost:8080/",
          "height": 303
        }
      },
      "source": [
        "df[['Personal Loan', 'Age', 'Income', 'CCAvg', 'Mortgage']].corr()['Personal Loan'][1:].plot.bar();"
      ],
      "execution_count": 113,
      "outputs": [
        {
          "output_type": "display_data",
          "data": {
            "image/png": "[encoded data removed]",
            "text/plain": [
              "<Figure size 432x288 with 1 Axes>"
            ]
          },
          "metadata": {
            "tags": [],
            "needs_background": "light"
          }
        }
      ]
    },
    {
      "cell_type": "markdown",
      "metadata": {
        "id": "KQQxe7MXEAns",
        "colab_type": "text"
      },
      "source": [
        "###### There is a high correlation between the independant variable and dependant variables as we see in 'Income' and 'Credit Card Average' has some correlation with 'Personal Loan'."
      ]
    },
    {
      "cell_type": "code",
      "metadata": {
        "id": "1akQysC_Mp83",
        "colab_type": "code",
        "outputId": "ec457e39-c03a-4225-a9b3-f3d67ea787e6",
        "colab": {
          "base_uri": "https://localhost:8080/",
          "height": 310
        }
      },
      "source": [
        "bins= [23, 35, 45, 55, 65]                            # Create 4 age bins\n",
        "group= ['Young', 'Youth', 'Medium', 'Old']            # Name the age bins\n",
        "df['Age_bin']=pd.cut(df['Age'], bins, labels= group ) # Converting numeric into categorical variable\n",
        "age= pd.crosstab(df['Age_bin'], df['Personal Loan']) \n",
        "age.div(age.sum(1).astype(float), axis=0).plot(kind='bar', stacked= True);"
      ],
      "execution_count": 114,
      "outputs": [
        {
          "output_type": "display_data",
          "data": {
            "image/png": "[encoded data removed]",
            "text/plain": [
              "<Figure size 432x288 with 1 Axes>"
            ]
          },
          "metadata": {
            "tags": [],
            "needs_background": "light"
          }
        }
      ]
    },
    {
      "cell_type": "markdown",
      "metadata": {
        "id": "9c4ukG5vOV0T",
        "colab_type": "text"
      },
      "source": [
        "###### Applicant age-goup does not affect the chances of buying the personal loan"
      ]
    },
    {
      "cell_type": "code",
      "metadata": {
        "id": "1NgNIEwSLhx_",
        "colab_type": "code",
        "outputId": "f42af030-14a0-4cb6-a364-67d2fc9d3c2f",
        "colab": {
          "base_uri": "https://localhost:8080/",
          "height": 276
        }
      },
      "source": [
        "df.groupby('Personal Loan')['CCAvg'].mean().plot(kind='bar');"
      ],
      "execution_count": 115,
      "outputs": [
        {
          "output_type": "display_data",
          "data": {
            "image/png": "[encoded data removed]",
            "text/plain": [
              "<Figure size 432x288 with 1 Axes>"
            ]
          },
          "metadata": {
            "tags": [],
            "needs_background": "light"
          }
        }
      ]
    },
    {
      "cell_type": "markdown",
      "metadata": {
        "id": "X7eO5asxL0ag",
        "colab_type": "text"
      },
      "source": [
        "###### It can be clearly seen that applicants who spend more on credit cards are more viable to buy personal loans"
      ]
    },
    {
      "cell_type": "markdown",
      "metadata": {
        "id": "P97nI_vPAFzu",
        "colab_type": "text"
      },
      "source": [
        "### 2.6 Get data model ready"
      ]
    },
    {
      "cell_type": "code",
      "metadata": {
        "id": "DkNzT95YFgx7",
        "colab_type": "code",
        "outputId": "05a1ac27-5543-4019-a433-3a4d1cb45547",
        "colab": {
          "base_uri": "https://localhost:8080/",
          "height": 288
        }
      },
      "source": [
        "data.describe()"
      ],
      "execution_count": 116,
      "outputs": [
        {
          "output_type": "execute_result",
          "data": {
            "text/html": [
              "<div>\n",
              "<style scoped>\n",
              "    .dataframe tbody tr th:only-of-type {\n",
              "        vertical-align: middle;\n",
              "    }\n",
              "\n",
              "    .dataframe tbody tr th {\n",
              "        vertical-align: top;\n",
              "    }\n",
              "\n",
              "    .dataframe thead th {\n",
              "        text-align: right;\n",
              "    }\n",
              "</style>\n",
              "<table border=\"1\" class=\"dataframe\">\n",
              "  <thead>\n",
              "    <tr style=\"text-align: right;\">\n",
              "      <th></th>\n",
              "      <th>ID</th>\n",
              "      <th>Age</th>\n",
              "      <th>Experience</th>\n",
              "      <th>Income</th>\n",
              "      <th>ZIP Code</th>\n",
              "      <th>Family</th>\n",
              "      <th>CCAvg</th>\n",
              "      <th>Education</th>\n",
              "      <th>Mortgage</th>\n",
              "      <th>Personal Loan</th>\n",
              "      <th>Securities Account</th>\n",
              "      <th>CD Account</th>\n",
              "      <th>Online</th>\n",
              "      <th>CreditCard</th>\n",
              "    </tr>\n",
              "  </thead>\n",
              "  <tbody>\n",
              "    <tr>\n",
              "      <th>count</th>\n",
              "      <td>5000.00</td>\n",
              "      <td>5000.000</td>\n",
              "      <td>5000.000</td>\n",
              "      <td>5000.000</td>\n",
              "      <td>5000.000</td>\n",
              "      <td>5000.000</td>\n",
              "      <td>5000.000</td>\n",
              "      <td>5000.000</td>\n",
              "      <td>5000.000</td>\n",
              "      <td>5000.000</td>\n",
              "      <td>5000.000</td>\n",
              "      <td>5000.000</td>\n",
              "      <td>5000.000</td>\n",
              "      <td>5000.000</td>\n",
              "    </tr>\n",
              "    <tr>\n",
              "      <th>mean</th>\n",
              "      <td>2500.50</td>\n",
              "      <td>45.338</td>\n",
              "      <td>20.105</td>\n",
              "      <td>73.774</td>\n",
              "      <td>93152.503</td>\n",
              "      <td>2.396</td>\n",
              "      <td>1.938</td>\n",
              "      <td>1.881</td>\n",
              "      <td>56.499</td>\n",
              "      <td>0.096</td>\n",
              "      <td>0.104</td>\n",
              "      <td>0.060</td>\n",
              "      <td>0.597</td>\n",
              "      <td>0.294</td>\n",
              "    </tr>\n",
              "    <tr>\n",
              "      <th>std</th>\n",
              "      <td>1443.52</td>\n",
              "      <td>11.463</td>\n",
              "      <td>11.468</td>\n",
              "      <td>46.034</td>\n",
              "      <td>2121.852</td>\n",
              "      <td>1.148</td>\n",
              "      <td>1.748</td>\n",
              "      <td>0.840</td>\n",
              "      <td>101.714</td>\n",
              "      <td>0.295</td>\n",
              "      <td>0.306</td>\n",
              "      <td>0.238</td>\n",
              "      <td>0.491</td>\n",
              "      <td>0.456</td>\n",
              "    </tr>\n",
              "    <tr>\n",
              "      <th>min</th>\n",
              "      <td>1.00</td>\n",
              "      <td>23.000</td>\n",
              "      <td>-3.000</td>\n",
              "      <td>8.000</td>\n",
              "      <td>9307.000</td>\n",
              "      <td>1.000</td>\n",
              "      <td>0.000</td>\n",
              "      <td>1.000</td>\n",
              "      <td>0.000</td>\n",
              "      <td>0.000</td>\n",
              "      <td>0.000</td>\n",
              "      <td>0.000</td>\n",
              "      <td>0.000</td>\n",
              "      <td>0.000</td>\n",
              "    </tr>\n",
              "    <tr>\n",
              "      <th>25%</th>\n",
              "      <td>1250.75</td>\n",
              "      <td>35.000</td>\n",
              "      <td>10.000</td>\n",
              "      <td>39.000</td>\n",
              "      <td>91911.000</td>\n",
              "      <td>1.000</td>\n",
              "      <td>0.700</td>\n",
              "      <td>1.000</td>\n",
              "      <td>0.000</td>\n",
              "      <td>0.000</td>\n",
              "      <td>0.000</td>\n",
              "      <td>0.000</td>\n",
              "      <td>0.000</td>\n",
              "      <td>0.000</td>\n",
              "    </tr>\n",
              "    <tr>\n",
              "      <th>50%</th>\n",
              "      <td>2500.50</td>\n",
              "      <td>45.000</td>\n",
              "      <td>20.000</td>\n",
              "      <td>64.000</td>\n",
              "      <td>93437.000</td>\n",
              "      <td>2.000</td>\n",
              "      <td>1.500</td>\n",
              "      <td>2.000</td>\n",
              "      <td>0.000</td>\n",
              "      <td>0.000</td>\n",
              "      <td>0.000</td>\n",
              "      <td>0.000</td>\n",
              "      <td>1.000</td>\n",
              "      <td>0.000</td>\n",
              "    </tr>\n",
              "    <tr>\n",
              "      <th>75%</th>\n",
              "      <td>3750.25</td>\n",
              "      <td>55.000</td>\n",
              "      <td>30.000</td>\n",
              "      <td>98.000</td>\n",
              "      <td>94608.000</td>\n",
              "      <td>3.000</td>\n",
              "      <td>2.500</td>\n",
              "      <td>3.000</td>\n",
              "      <td>101.000</td>\n",
              "      <td>0.000</td>\n",
              "      <td>0.000</td>\n",
              "      <td>0.000</td>\n",
              "      <td>1.000</td>\n",
              "      <td>1.000</td>\n",
              "    </tr>\n",
              "    <tr>\n",
              "      <th>max</th>\n",
              "      <td>5000.00</td>\n",
              "      <td>67.000</td>\n",
              "      <td>43.000</td>\n",
              "      <td>224.000</td>\n",
              "      <td>96651.000</td>\n",
              "      <td>4.000</td>\n",
              "      <td>10.000</td>\n",
              "      <td>3.000</td>\n",
              "      <td>635.000</td>\n",
              "      <td>1.000</td>\n",
              "      <td>1.000</td>\n",
              "      <td>1.000</td>\n",
              "      <td>1.000</td>\n",
              "      <td>1.000</td>\n",
              "    </tr>\n",
              "  </tbody>\n",
              "</table>\n",
              "</div>"
            ],
            "text/plain": [
              "            ID       Age  Experience    Income   ZIP Code    Family     CCAvg  Education  Mortgage  Personal Loan  Securities Account  CD Account    Online  CreditCard\n",
              "count  5000.00  5000.000    5000.000  5000.000   5000.000  5000.000  5000.000   5000.000  5000.000       5000.000            5000.000    5000.000  5000.000    5000.000\n",
              "mean   2500.50    45.338      20.105    73.774  93152.503     2.396     1.938      1.881    56.499          0.096               0.104       0.060     0.597       0.294\n",
              "std    1443.52    11.463      11.468    46.034   2121.852     1.148     1.748      0.840   101.714          0.295               0.306       0.238     0.491       0.456\n",
              "min       1.00    23.000      -3.000     8.000   9307.000     1.000     0.000      1.000     0.000          0.000               0.000       0.000     0.000       0.000\n",
              "25%    1250.75    35.000      10.000    39.000  91911.000     1.000     0.700      1.000     0.000          0.000               0.000       0.000     0.000       0.000\n",
              "50%    2500.50    45.000      20.000    64.000  93437.000     2.000     1.500      2.000     0.000          0.000               0.000       0.000     1.000       0.000\n",
              "75%    3750.25    55.000      30.000    98.000  94608.000     3.000     2.500      3.000   101.000          0.000               0.000       0.000     1.000       1.000\n",
              "max    5000.00    67.000      43.000   224.000  96651.000     4.000    10.000      3.000   635.000          1.000               1.000       1.000     1.000       1.000"
            ]
          },
          "metadata": {
            "tags": []
          },
          "execution_count": 116
        }
      ]
    },
    {
      "cell_type": "code",
      "metadata": {
        "id": "sjZgznDPER6k",
        "colab_type": "code",
        "colab": {}
      },
      "source": [
        "# Lets drop some categorical and numerical columns without Personal Loan correlation\n",
        "cleaned_df = data.drop(['ID', 'Age', 'Experience', 'ZIP Code', 'Family', 'Education', 'Securities Account', 'CD Account', 'Online', 'CreditCard'], axis=1)"
      ],
      "execution_count": 0,
      "outputs": []
    },
    {
      "cell_type": "code",
      "metadata": {
        "id": "UJb5zSd1GTHn",
        "colab_type": "code",
        "outputId": "21f19e18-9dee-4fbe-f4a1-d9e2aa56990e",
        "colab": {
          "base_uri": "https://localhost:8080/",
          "height": 198
        }
      },
      "source": [
        "#  Rearranging the columns orders for bringing the \"Personal Loan \" to the end of the dataframe.\n",
        "personal_loan = cleaned_df['Personal Loan']\n",
        "cleaned_df.drop(['Personal Loan'], axis = 1,inplace = True)\n",
        "cleaned_df['Personal Loan'] = personal_loan\n",
        "cleaned_df.head()"
      ],
      "execution_count": 118,
      "outputs": [
        {
          "output_type": "execute_result",
          "data": {
            "text/html": [
              "<div>\n",
              "<style scoped>\n",
              "    .dataframe tbody tr th:only-of-type {\n",
              "        vertical-align: middle;\n",
              "    }\n",
              "\n",
              "    .dataframe tbody tr th {\n",
              "        vertical-align: top;\n",
              "    }\n",
              "\n",
              "    .dataframe thead th {\n",
              "        text-align: right;\n",
              "    }\n",
              "</style>\n",
              "<table border=\"1\" class=\"dataframe\">\n",
              "  <thead>\n",
              "    <tr style=\"text-align: right;\">\n",
              "      <th></th>\n",
              "      <th>Income</th>\n",
              "      <th>CCAvg</th>\n",
              "      <th>Mortgage</th>\n",
              "      <th>Personal Loan</th>\n",
              "    </tr>\n",
              "  </thead>\n",
              "  <tbody>\n",
              "    <tr>\n",
              "      <th>0</th>\n",
              "      <td>49</td>\n",
              "      <td>1.6</td>\n",
              "      <td>0</td>\n",
              "      <td>0</td>\n",
              "    </tr>\n",
              "    <tr>\n",
              "      <th>1</th>\n",
              "      <td>34</td>\n",
              "      <td>1.5</td>\n",
              "      <td>0</td>\n",
              "      <td>0</td>\n",
              "    </tr>\n",
              "    <tr>\n",
              "      <th>2</th>\n",
              "      <td>11</td>\n",
              "      <td>1.0</td>\n",
              "      <td>0</td>\n",
              "      <td>0</td>\n",
              "    </tr>\n",
              "    <tr>\n",
              "      <th>3</th>\n",
              "      <td>100</td>\n",
              "      <td>2.7</td>\n",
              "      <td>0</td>\n",
              "      <td>0</td>\n",
              "    </tr>\n",
              "    <tr>\n",
              "      <th>4</th>\n",
              "      <td>45</td>\n",
              "      <td>1.0</td>\n",
              "      <td>0</td>\n",
              "      <td>0</td>\n",
              "    </tr>\n",
              "  </tbody>\n",
              "</table>\n",
              "</div>"
            ],
            "text/plain": [
              "   Income  CCAvg  Mortgage  Personal Loan\n",
              "0      49    1.6         0              0\n",
              "1      34    1.5         0              0\n",
              "2      11    1.0         0              0\n",
              "3     100    2.7         0              0\n",
              "4      45    1.0         0              0"
            ]
          },
          "metadata": {
            "tags": []
          },
          "execution_count": 118
        }
      ]
    },
    {
      "cell_type": "markdown",
      "metadata": {
        "id": "-wtFrAfFD02h",
        "colab_type": "text"
      },
      "source": [
        "#### Bivariate Resume"
      ]
    },
    {
      "cell_type": "code",
      "metadata": {
        "id": "xdoYUUsaDyr_",
        "colab_type": "code",
        "outputId": "b2b23678-4d8b-44a0-fbc1-fe172ba80590",
        "colab": {
          "base_uri": "https://localhost:8080/",
          "height": 567
        }
      },
      "source": [
        "# Data distribution using Personal Loan as hue:\n",
        "sns.pairplot(cleaned_df, hue='Personal Loan');"
      ],
      "execution_count": 119,
      "outputs": [
        {
          "output_type": "display_data",
          "data": {
            "image/png": "[encoded data removed]",
            "text/plain": [
              "<Figure size 617.5x540 with 12 Axes>"
            ]
          },
          "metadata": {
            "tags": [],
            "needs_background": "light"
          }
        }
      ]
    },
    {
      "cell_type": "markdown",
      "metadata": {
        "id": "r6LEu4Z1AcXn",
        "colab_type": "text"
      },
      "source": [
        "### 3. Split the data into training and test seting the ratio of 70:30 respectively (5marks)"
      ]
    },
    {
      "cell_type": "code",
      "metadata": {
        "id": "lQ59f7PMAbAx",
        "colab_type": "code",
        "colab": {}
      },
      "source": [
        "X = cleaned_df.drop('Personal Loan', axis=1) # define X variable\n",
        "y = cleaned_df['Personal Loan']              # define y variable  \n",
        "\n",
        "X_train, X_test, y_train, y_test = train_test_split(X, y, test_size=0.3, random_state=0, stratify=y, shuffle=True)  # Split the data using sklearn and stratified shuffle split"
      ],
      "execution_count": 0,
      "outputs": []
    },
    {
      "cell_type": "code",
      "metadata": {
        "id": "DBEYoGmGEaE0",
        "colab_type": "code",
        "outputId": "d79de6ff-8a4a-485a-b1b1-dccb41f1c04d",
        "colab": {
          "base_uri": "https://localhost:8080/",
          "height": 54
        }
      },
      "source": [
        "print(\"The training set has {0:0.2f}% of the cleaned data\".format((len(X_train)/len(cleaned_df.index)) * 100))\n",
        "print(\"The test set has {0:0.2f}% of the cleaned data\".format((len(X_test)/len(cleaned_df.index)) * 100))"
      ],
      "execution_count": 121,
      "outputs": [
        {
          "output_type": "stream",
          "text": [
            "The training set has 70.00% of the cleaned data\n",
            "The test set has 30.00% of the cleaned data\n"
          ],
          "name": "stdout"
        }
      ]
    },
    {
      "cell_type": "markdown",
      "metadata": {
        "id": "D85hlrFAAk76",
        "colab_type": "text"
      },
      "source": [
        "#### 4. Logistic Regression model to predict the number of a customer buying personal loans. Print all the metrics related for evaluating the model performance (15marks)"
      ]
    },
    {
      "cell_type": "code",
      "metadata": {
        "id": "GIAQrEi5B1aQ",
        "colab_type": "code",
        "outputId": "a3a327d5-448b-4e18-f44f-7b327fd0b34f",
        "colab": {
          "base_uri": "https://localhost:8080/",
          "height": 108
        }
      },
      "source": [
        "# Defgine a basic Logistic Regression model\n",
        "\n",
        "logmodel = LogisticRegression(random_state=42, max_iter=4000)\n",
        "logmodel.fit(X_train, y_train)"
      ],
      "execution_count": 122,
      "outputs": [
        {
          "output_type": "execute_result",
          "data": {
            "text/plain": [
              "LogisticRegression(C=1.0, class_weight=None, dual=False, fit_intercept=True,\n",
              "                   intercept_scaling=1, l1_ratio=None, max_iter=4000,\n",
              "                   multi_class='auto', n_jobs=None, penalty='l2',\n",
              "                   random_state=42, solver='lbfgs', tol=0.0001, verbose=0,\n",
              "                   warm_start=False)"
            ]
          },
          "metadata": {
            "tags": []
          },
          "execution_count": 122
        }
      ]
    },
    {
      "cell_type": "code",
      "metadata": {
        "id": "1u_S8tKkF3WH",
        "colab_type": "code",
        "colab": {}
      },
      "source": [
        "# Calculate de Predicted y\n",
        "y_predict = logmodel.predict(X_test)"
      ],
      "execution_count": 0,
      "outputs": []
    },
    {
      "cell_type": "code",
      "metadata": {
        "id": "fdAZdkzXKMs4",
        "colab_type": "code",
        "outputId": "46d928ad-f286-4f78-cb7a-364fc46120c1",
        "colab": {
          "base_uri": "https://localhost:8080/",
          "height": 35
        }
      },
      "source": [
        "print('Accuracy of logistic regression classifier on train set: {:.2f}'.format(logmodel.score(X_train, y_train)))"
      ],
      "execution_count": 124,
      "outputs": [
        {
          "output_type": "stream",
          "text": [
            "Accuracy of logistic regression classifier on train set: 0.91\n"
          ],
          "name": "stdout"
        }
      ]
    },
    {
      "cell_type": "code",
      "metadata": {
        "id": "b93l4o7qKNmz",
        "colab_type": "code",
        "outputId": "7616c7ef-f91b-45cc-e0a7-5ae8f1a471ef",
        "colab": {
          "base_uri": "https://localhost:8080/",
          "height": 35
        }
      },
      "source": [
        "print('Accuracy of logistic regression classifier on test set: {:.2f}'.format(logmodel.score(X_test, y_test)))"
      ],
      "execution_count": 125,
      "outputs": [
        {
          "output_type": "stream",
          "text": [
            "Accuracy of logistic regression classifier on test set: 0.91\n"
          ],
          "name": "stdout"
        }
      ]
    },
    {
      "cell_type": "code",
      "metadata": {
        "id": "z_yTuGyyF7V7",
        "colab_type": "code",
        "outputId": "0580af0e-7e1c-4425-8484-c65dc35a21d2",
        "colab": {
          "base_uri": "https://localhost:8080/",
          "height": 295
        }
      },
      "source": [
        "# Confusion Matrix\n",
        "cm = confusion_matrix(y_test, y_predict)\n",
        "\n",
        "class_label = [\"Positive\", \"Negative\"]\n",
        "df_cm = pd.DataFrame(cm, index = class_label, columns = class_label)\n",
        "sns.heatmap(df_cm, annot = True, fmt = \"d\")\n",
        "plt.title(\"Confusion Matrix\")\n",
        "plt.xlabel(\"Predicted Label\")\n",
        "plt.ylabel(\"True Label\")\n",
        "plt.show();"
      ],
      "execution_count": 126,
      "outputs": [
        {
          "output_type": "display_data",
          "data": {
            "image/png": "[encoded data removed]",
            "text/plain": [
              "<Figure size 432x288 with 2 Axes>"
            ]
          },
          "metadata": {
            "tags": [],
            "needs_background": "light"
          }
        }
      ]
    },
    {
      "cell_type": "code",
      "metadata": {
        "id": "ixhrtBKmNiRs",
        "colab_type": "code",
        "outputId": "cde36e5b-f309-45f3-c31d-94f2bfaac21b",
        "colab": {
          "base_uri": "https://localhost:8080/",
          "height": 90
        }
      },
      "source": [
        "print('Model Sensitivity (TPR) {:.2f}'.format(recall_score(y_test,y_predict)))\n",
        "print('Model Precision (PPV) {:.2f}'.format(precision_score(y_test,y_predict)))\n",
        "print('Model F1-Score (harmonic mean of precision and sensitivity) {:.2f}'.format(f1_score(y_test,y_predict)))\n",
        "print('Model Roc Auc Score (ROC Curve Score) {:.2f}'.format(roc_auc_score(y_test,y_predict)))"
      ],
      "execution_count": 127,
      "outputs": [
        {
          "output_type": "stream",
          "text": [
            "Model Sensitivity (TPR) 0.33\n",
            "Model Precision (PPV) 0.53\n",
            "Model F1-Score (harmonic mean of precision and sensitivity) 0.41\n",
            "Model Roc Auc Score (ROC Curve Score) 0.65\n"
          ],
          "name": "stdout"
        }
      ]
    },
    {
      "cell_type": "code",
      "metadata": {
        "id": "fcivWoUyGVDc",
        "colab_type": "code",
        "outputId": "1ef1d7d0-d8f1-4c17-920e-c55fa5008b23",
        "colab": {
          "base_uri": "https://localhost:8080/",
          "height": 181
        }
      },
      "source": [
        "# Classification Report\n",
        "print(classification_report(y_test, y_predict))"
      ],
      "execution_count": 128,
      "outputs": [
        {
          "output_type": "stream",
          "text": [
            "              precision    recall  f1-score   support\n",
            "\n",
            "           0       0.93      0.97      0.95      1356\n",
            "           1       0.53      0.33      0.41       144\n",
            "\n",
            "    accuracy                           0.91      1500\n",
            "   macro avg       0.73      0.65      0.68      1500\n",
            "weighted avg       0.89      0.91      0.90      1500\n",
            "\n"
          ],
          "name": "stdout"
        }
      ]
    },
    {
      "cell_type": "markdown",
      "metadata": {
        "id": "Oc8EOD3jJ0Xc",
        "colab_type": "text"
      },
      "source": [
        "##### ROC Curve"
      ]
    },
    {
      "cell_type": "code",
      "metadata": {
        "id": "yJ_exBYFJzMm",
        "colab_type": "code",
        "outputId": "25f83bd6-c995-4eb9-eae0-de469c3d4ca6",
        "colab": {
          "base_uri": "https://localhost:8080/",
          "height": 295
        }
      },
      "source": [
        "logit_roc_auc = roc_auc_score(y_test, logmodel.predict(X_test))\n",
        "fpr, tpr, thresholds = roc_curve(y_test, logmodel.predict_proba(X_test)[:,1])\n",
        "plt.figure()\n",
        "plt.plot(fpr, tpr, label='Logistic Regression (area = %0.2f)' % logit_roc_auc)\n",
        "plt.plot([0, 1], [0, 1],'r--')\n",
        "plt.xlim([0.0, 1.0])\n",
        "plt.ylim([0.0, 1.05])\n",
        "plt.xlabel('False Positive Rate')\n",
        "plt.ylabel('True Positive Rate')\n",
        "plt.title('Receiver operating characteristic')\n",
        "plt.legend(loc=\"lower right\")\n",
        "plt.savefig('Log_ROC')\n",
        "plt.show()"
      ],
      "execution_count": 129,
      "outputs": [
        {
          "output_type": "display_data",
          "data": {
            "image/png": "[encoded data removed]",
            "text/plain": [
              "<Figure size 432x288 with 1 Axes>"
            ]
          },
          "metadata": {
            "tags": [],
            "needs_background": "light"
          }
        }
      ]
    },
    {
      "cell_type": "markdown",
      "metadata": {
        "id": "hDAdfi2jAr4a",
        "colab_type": "text"
      },
      "source": [
        "### 5. Give your reasoning on how can the model perform better? (10 marks)"
      ]
    },
    {
      "cell_type": "code",
      "metadata": {
        "id": "ahDEEo0WFZmS",
        "colab_type": "code",
        "outputId": "08a13da1-0206-4317-9480-189cf5bc4ff9",
        "colab": {
          "base_uri": "https://localhost:8080/",
          "height": 399
        }
      },
      "source": [
        "import statsmodels.api as sm\n",
        "logit_model=sm.Logit(y,X)\n",
        "result=logit_model.fit()\n",
        "print(result.summary2())"
      ],
      "execution_count": 130,
      "outputs": [
        {
          "output_type": "stream",
          "text": [
            "Optimization terminated successfully.\n",
            "         Current function value: 0.530986\n",
            "         Iterations 6\n",
            "                         Results: Logit\n",
            "================================================================\n",
            "Model:              Logit            Pseudo R-squared: -0.679   \n",
            "Dependent Variable: Personal Loan    AIC:              5315.8629\n",
            "Date:               2020-05-09 21:15 BIC:              5335.4145\n",
            "No. Observations:   5000             Log-Likelihood:   -2654.9  \n",
            "Df Model:           2                LL-Null:          -1581.0  \n",
            "Df Residuals:       4997             LLR p-value:      1.0000   \n",
            "Converged:          1.0000           Scale:            1.0000   \n",
            "No. Iterations:     6.0000                                      \n",
            "-----------------------------------------------------------------\n",
            "             Coef.   Std.Err.     z      P>|z|    [0.025   0.975]\n",
            "-----------------------------------------------------------------\n",
            "Income      -0.0145    0.0010  -15.0236  0.0000  -0.0164  -0.0126\n",
            "CCAvg       -0.0046    0.0310   -0.1495  0.8811  -0.0654   0.0562\n",
            "Mortgage    -0.0022    0.0004   -5.1268  0.0000  -0.0030  -0.0014\n",
            "================================================================\n",
            "\n"
          ],
          "name": "stdout"
        }
      ]
    },
    {
      "cell_type": "markdown",
      "metadata": {
        "id": "I9clpfEKTRjf",
        "colab_type": "text"
      },
      "source": [
        "### Check parameter"
      ]
    },
    {
      "cell_type": "code",
      "metadata": {
        "id": "2pC1uvFHRgER",
        "colab_type": "code",
        "outputId": "ccc68fc5-289e-4130-956b-2a8a84419793",
        "colab": {
          "base_uri": "https://localhost:8080/",
          "height": 290
        }
      },
      "source": [
        "logmodel.get_params() # Checking the parameters of Logistic Regression:"
      ],
      "execution_count": 131,
      "outputs": [
        {
          "output_type": "execute_result",
          "data": {
            "text/plain": [
              "{'C': 1.0,\n",
              " 'class_weight': None,\n",
              " 'dual': False,\n",
              " 'fit_intercept': True,\n",
              " 'intercept_scaling': 1,\n",
              " 'l1_ratio': None,\n",
              " 'max_iter': 4000,\n",
              " 'multi_class': 'auto',\n",
              " 'n_jobs': None,\n",
              " 'penalty': 'l2',\n",
              " 'random_state': 42,\n",
              " 'solver': 'lbfgs',\n",
              " 'tol': 0.0001,\n",
              " 'verbose': 0,\n",
              " 'warm_start': False}"
            ]
          },
          "metadata": {
            "tags": []
          },
          "execution_count": 131
        }
      ]
    },
    {
      "cell_type": "code",
      "metadata": {
        "id": "cBX1-eKHTZKX",
        "colab_type": "code",
        "outputId": "08dbedf2-c92c-41f4-f073-ce931f555a67",
        "colab": {
          "base_uri": "https://localhost:8080/",
          "height": 72
        }
      },
      "source": [
        "# ForLoop to check differents values for 'solver' :\n",
        "\n",
        "train_score=[]\n",
        "test_score=[]\n",
        "solver = ['newton-cg','lbfgs','liblinear','sag','saga']\n",
        "for i in solver:\n",
        "    model = LogisticRegression(random_state=42, penalty='l2', C=0.75, solver=i, max_iter=4000)\n",
        "    model.fit(X_train, y_train) \n",
        "    y1_predict = model.predict(X_test)     \n",
        "    train_score.append(round(model.score(X_train, y_train),3))\n",
        "    test_score.append(round(model.score(X_test, y_test),3))\n",
        "\n",
        "# Now print scores:\n",
        "print(solver)\n",
        "print(train_score)\n",
        "print(test_score)\n"
      ],
      "execution_count": 132,
      "outputs": [
        {
          "output_type": "stream",
          "text": [
            "['newton-cg', 'lbfgs', 'liblinear', 'sag', 'saga']\n",
            "[0.908, 0.908, 0.908, 0.9, 0.901]\n",
            "[0.908, 0.908, 0.909, 0.904, 0.9]\n"
          ],
          "name": "stdout"
        }
      ]
    },
    {
      "cell_type": "markdown",
      "metadata": {
        "id": "udkjeJTbGUto",
        "colab_type": "text"
      },
      "source": [
        "#### The best solver types are 'newton-cg' and 'lbfgs' "
      ]
    },
    {
      "cell_type": "code",
      "metadata": {
        "id": "eL6DpGcWV-J3",
        "colab_type": "code",
        "outputId": "16703983-2511-4e03-fc29-68e1d46ef7f7",
        "colab": {
          "base_uri": "https://localhost:8080/",
          "height": 235
        }
      },
      "source": [
        "# Changing solver 'saga' type another try changing the Penalty:\n",
        "\n",
        "model = LogisticRegression(random_state=42, penalty='l1', C=0.75, solver='saga', max_iter=4000)\n",
        "\n",
        "model.fit(X_train, y_train)\n",
        "\n",
        "y_predict = model.predict(X_test)     \n",
        "\n",
        "print('The Accuracy in the trainnig set is {:.2f}'.format(model.score(X_train,y_train)))\n",
        "print('The Accuracy in the testing set is {:.2f}'.format(model.score(X_test, y_test)))   \n",
        "print()\n",
        "print(classification_report(y_test, y_predict))"
      ],
      "execution_count": 133,
      "outputs": [
        {
          "output_type": "stream",
          "text": [
            "The Accuracy in the trainnig set is 0.90\n",
            "The Accuracy in the testing set is 0.90\n",
            "\n",
            "              precision    recall  f1-score   support\n",
            "\n",
            "           0       0.90      0.99      0.95      1356\n",
            "           1       0.20      0.01      0.03       144\n",
            "\n",
            "    accuracy                           0.90      1500\n",
            "   macro avg       0.55      0.50      0.49      1500\n",
            "weighted avg       0.84      0.90      0.86      1500\n",
            "\n"
          ],
          "name": "stdout"
        }
      ]
    },
    {
      "cell_type": "markdown",
      "metadata": {
        "id": "dqtj13B_X3zd",
        "colab_type": "text"
      },
      "source": [
        "##### The accuracy keep the same using 'l1' compared to 'l2' Penalty modes.\n",
        "##### Saga solver type isn't so good."
      ]
    },
    {
      "cell_type": "code",
      "metadata": {
        "id": "A_OpXrNUHgqU",
        "colab_type": "code",
        "outputId": "eb4f1213-a2d4-4ddf-955a-561f5604f11c",
        "colab": {
          "base_uri": "https://localhost:8080/",
          "height": 235
        }
      },
      "source": [
        "# Changing class weight to balanced to see what happens:\n",
        "\n",
        "model = LogisticRegression(random_state=42, penalty='l2', class_weight='balanced') \n",
        "\n",
        "model.fit(X_train, y_train) \n",
        "\n",
        "y_predict = model.predict(X_test)     \n",
        "\n",
        "print('The Accuracy in the trainnig set is {:.2f}'.format(model.score(X_train,y_train)))\n",
        "print('The Accuracy in the testing set is {:.2f}'.format(model.score(X_test, y_test)))\n",
        "print()\n",
        "print(classification_report(y_test, y_predict))"
      ],
      "execution_count": 134,
      "outputs": [
        {
          "output_type": "stream",
          "text": [
            "The Accuracy in the trainnig set is 0.86\n",
            "The Accuracy in the testing set is 0.85\n",
            "\n",
            "              precision    recall  f1-score   support\n",
            "\n",
            "           0       0.99      0.85      0.91      1356\n",
            "           1       0.39      0.89      0.54       144\n",
            "\n",
            "    accuracy                           0.85      1500\n",
            "   macro avg       0.69      0.87      0.73      1500\n",
            "weighted avg       0.93      0.85      0.88      1500\n",
            "\n"
          ],
          "name": "stdout"
        }
      ]
    },
    {
      "cell_type": "code",
      "metadata": {
        "id": "VPmhNft9JZxg",
        "colab_type": "code",
        "outputId": "9176eee8-b65b-4b6b-fc84-01abff150a17",
        "colab": {
          "base_uri": "https://localhost:8080/",
          "height": 72
        }
      },
      "source": [
        "# A ForLoop to check different values of 'C':\n",
        "\n",
        "train_score=[]                                 \n",
        "test_score=[]\n",
        "C = [0.01,0.1,0.25,0.5,0.75,1]\n",
        "for i in C:\n",
        "    model = LogisticRegression(random_state=42, penalty='l2', class_weight='none', C=i)\n",
        "    model.fit(X_train, y_train) \n",
        "    y_predict = model.predict(X_test)     \n",
        "    train_score.append(round(model.score(X_train,y_train),3))\n",
        "    test_score.append(round(model.score(X_test, y_test),3))\n",
        "    \n",
        "print(C)\n",
        "print(train_score)\n",
        "print(test_score)"
      ],
      "execution_count": 135,
      "outputs": [
        {
          "output_type": "stream",
          "text": [
            "[0.01, 0.1, 0.25, 0.5, 0.75, 1]\n",
            "[0.908, 0.908, 0.908, 0.908, 0.908, 0.908]\n",
            "[0.908, 0.908, 0.908, 0.908, 0.908, 0.908]\n"
          ],
          "name": "stdout"
        }
      ]
    },
    {
      "cell_type": "markdown",
      "metadata": {
        "id": "qxx0ncmEP8x6",
        "colab_type": "text"
      },
      "source": [
        "### Optimized Model"
      ]
    },
    {
      "cell_type": "code",
      "metadata": {
        "id": "pu_XULJuPytg",
        "colab_type": "code",
        "colab": {}
      },
      "source": [
        "final_model = LogisticRegression(random_state=42, penalty='l2', class_weight='none', C=0.5) \n",
        "final_model.fit(X_train, y_train)\n",
        "final_y_predict = model.predict(X_test)\n"
      ],
      "execution_count": 0,
      "outputs": []
    },
    {
      "cell_type": "code",
      "metadata": {
        "id": "QSvYnJpYQOQn",
        "colab_type": "code",
        "outputId": "c24dbdee-f6f4-47f2-8f12-ca0826a2501f",
        "colab": {
          "base_uri": "https://localhost:8080/",
          "height": 235
        }
      },
      "source": [
        "print('The Accuracy in the trainnig set is {:.2f}'.format(final_model.score(X_train,y_train)))\n",
        "print('The Accuracy in the testing set is {:.2f}'.format(final_model.score(X_test, y_test)))\n",
        "print()\n",
        "print(classification_report(y_test, final_y_predict))"
      ],
      "execution_count": 137,
      "outputs": [
        {
          "output_type": "stream",
          "text": [
            "The Accuracy in the trainnig set is 0.91\n",
            "The Accuracy in the testing set is 0.91\n",
            "\n",
            "              precision    recall  f1-score   support\n",
            "\n",
            "           0       0.93      0.97      0.95      1356\n",
            "           1       0.53      0.33      0.41       144\n",
            "\n",
            "    accuracy                           0.91      1500\n",
            "   macro avg       0.73      0.65      0.68      1500\n",
            "weighted avg       0.89      0.91      0.90      1500\n",
            "\n"
          ],
          "name": "stdout"
        }
      ]
    },
    {
      "cell_type": "markdown",
      "metadata": {
        "id": "zm3qefu4RQL8",
        "colab_type": "text"
      },
      "source": [
        "### Final Confusion Matrix"
      ]
    },
    {
      "cell_type": "code",
      "metadata": {
        "id": "wd4q4EyuRDhv",
        "colab_type": "code",
        "outputId": "359ea3e1-0646-40ec-f7a4-07bba9ff35f2",
        "colab": {
          "base_uri": "https://localhost:8080/",
          "height": 295
        }
      },
      "source": [
        "finalcm = confusion_matrix(y_test, final_y_predict)\n",
        "\n",
        "class_label = [\"Positive\", \"Negative\"]\n",
        "df_cm = pd.DataFrame(finalcm, index = class_label, columns = class_label)\n",
        "sns.heatmap(df_cm, annot = True, fmt = \"d\")\n",
        "plt.title(\"Confusion Matrix\")\n",
        "plt.xlabel(\"Predicted Label\")\n",
        "plt.ylabel(\"True Label\")\n",
        "plt.show();"
      ],
      "execution_count": 138,
      "outputs": [
        {
          "output_type": "display_data",
          "data": {
            "image/png": "[encoded data removed]",
            "text/plain": [
              "<Figure size 432x288 with 2 Axes>"
            ]
          },
          "metadata": {
            "tags": [],
            "needs_background": "light"
          }
        }
      ]
    },
    {
      "cell_type": "code",
      "metadata": {
        "id": "rM6Iza59Qd85",
        "colab_type": "code",
        "outputId": "e4df33fd-94b2-461e-c9ea-e6bd2f0b71cf",
        "colab": {
          "base_uri": "https://localhost:8080/",
          "height": 90
        }
      },
      "source": [
        "print('Model Sensitivity (TPR) {:.2f}'.format(recall_score(y_test,final_y_predict)))\n",
        "print('Model Precision (PPV) {:.2f}'.format(precision_score(y_test,final_y_predict)))\n",
        "print('Model F1-Score (harmonic mean of precision and sensitivity) {:.2f}'.format(f1_score(y_test,final_y_predict)))\n",
        "print('Model Roc Auc Score (ROC Curve Score) {:.2f}'.format(roc_auc_score(y_test,final_y_predict)))"
      ],
      "execution_count": 139,
      "outputs": [
        {
          "output_type": "stream",
          "text": [
            "Model Sensitivity (TPR) 0.33\n",
            "Model Precision (PPV) 0.53\n",
            "Model F1-Score (harmonic mean of precision and sensitivity) 0.41\n",
            "Model Roc Auc Score (ROC Curve Score) 0.65\n"
          ],
          "name": "stdout"
        }
      ]
    },
    {
      "cell_type": "markdown",
      "metadata": {
        "id": "AcAlFMJCA8DJ",
        "colab_type": "text"
      },
      "source": [
        "#### The model cound perform better if:\n",
        " - The unbalanced categorical variable 'Personal Loan' are balanced during the aquisicion\n",
        " - We could use the StratifiedShuffleSplit to 'balance de percentage during the split'\n",
        " - Logistic Regression algorithm has a high accuracy in both training and testing sets"
      ]
    },
    {
      "cell_type": "markdown",
      "metadata": {
        "id": "LZ8hw-aUB9F8",
        "colab_type": "text"
      },
      "source": [
        "### 6. Give Business understanding of your model? (5 marks)"
      ]
    },
    {
      "cell_type": "markdown",
      "metadata": {
        "id": "Dd9-nVw8RqFH",
        "colab_type": "text"
      },
      "source": [
        "### Business Insights:\n",
        "\n",
        "###### The Tera Bank wants loan for elegible people and dont give loans to people who may default.\n",
        "\n",
        "###### So they want a high True Positive value and a low False Positive value. \n",
        "\n",
        "###### If False Positive is high the bank would lose money so Precision is the important metric.\n",
        "\n",
        "###### In case of False Negative, the Bank will lose few customers but that's okay, because the bank want to retain money more than losing money to customers that wont pay back.\n",
        "\n",
        "###### After achieving the desired accuracy we can deploy the model for practical use. Now the Bank can predict who is eligible for Personal Loan. They can use the model for upcoming customers."
      ]
    }
  ]
}