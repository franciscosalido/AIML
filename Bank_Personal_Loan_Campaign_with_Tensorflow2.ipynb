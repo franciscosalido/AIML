{
  "nbformat": 4,
  "nbformat_minor": 0,
  "metadata": {
    "colab": {
      "name": "Bank Personal Loan Campaign_with_Tensorflow2.ipynb",
      "provenance": [],
      "collapsed_sections": [],
      "authorship_tag": "ABX9TyP1bamqUfbOv5pBJtmuIazU",
      "include_colab_link": true
    },
    "kernelspec": {
      "name": "python3",
      "display_name": "Python 3"
    }
  },
  "cells": [
    {
      "cell_type": "markdown",
      "metadata": {
        "id": "view-in-github",
        "colab_type": "text"
      },
      "source": [
        "<a href=\"https://colab.research.google.com/github/franciscosalido/AIML/blob/master/Bank_Personal_Loan_Campaign_with_Tensorflow2.ipynb\" target=\"_parent\"><img src=\"https://colab.research.google.com/assets/colab-badge.svg\" alt=\"Open In Colab\"/></a>"
      ]
    },
    {
      "cell_type": "markdown",
      "metadata": {
        "id": "85_fS_hvLitw",
        "colab_type": "text"
      },
      "source": [
        "# **Thera Bank Personal Loan Campaign**\n",
        "\n",
        "## Data Description:\n",
        "\n",
        "> The  file  Bank.xls  contains  data  on  5000  customers.  The  data  include  customer  demographic information (age, income, etc.), the customer's relationship with the bank (mortgage, securities account,  etc.), and the  customer  response to  the  last  personal  loan  campaign  (Personal  Loan). Among these 5000 customers, only 480 (= 9.6%) accepted the personal loan that was offered to them in the earlier campaign.\n",
        "\n",
        "## Domain:\n",
        "\n",
        "> Banking\n",
        "\n",
        "## Context:\n",
        "\n",
        "> This case is about a bank (Thera Bank) whose management wants to explore ways of converting its  liability  customers  to  personal  loan  customers  (while  retaining  them  as  depositors).  A campaign that the bank ran last year for liability customers showed a healthy conversion rate of over9%  success.  This  has  encouraged  the  retail  marketing  department  to  devise  campaigns with better target marketing to increase the success ratio with a minimal budget.\n",
        "\n",
        "##Attribute Information:\n",
        "\n",
        "> > \n",
        "* ID: Customer ID \n",
        "* Age: Customer's age in completed years\n",
        "* Experience: # years of professional experience\n",
        "* Income: Annual income of the customer\n",
        "* ZIP Code: Home Address ZIPcode.\n",
        "* Family: Family size of thecustomer\n",
        "* CCAvg: Avg. spending on credit cards per month\n",
        "* Education: Education Level: \n",
        " * 1: Undergrad; \n",
        " * 2: Graduate;\n",
        " * 3:Advanced/Professional.\n",
        "* Mortgage: Value of house mortgage if any.\n",
        "* Personal Loan: Did this customer accept the personal loan offered in the last campaign?\n",
        "* Securities Account: Does the customer have a securities account with the bank?\n",
        "* CD Account: Does the customer have a certificate of deposit (CD) account with the bank?\n",
        "* Online: Does the customer use internet banking facilities?\n",
        "* Credit card: Does the customer use a credit card is sued by the bank?\n",
        "\n",
        "\n",
        "\n",
        "\n",
        "\n",
        "\n",
        "---\n",
        "\n",
        "## Learning Outcomes:\n",
        "\n",
        "> >\n",
        "* Exploratory Data Analysis (EDA)\n",
        "* Preparing the data to train a model\n",
        "* Training and making predictions using a classification model\n",
        "* Model evaluation Objective: The classification goal is to predict the likelihood of a liability customer buying personal loans.\n",
        "\n",
        "\n",
        "\n",
        "## Steps and tasks:\n",
        "\n",
        "\n",
        "1.   Import the datasets and libraries, check datatype, statistical summary,shape,null values or incorrect imputation. (5 marks)\n",
        "\n",
        "\n",
        "2.   EDA:  Study  the  data  distribution  in  each  attribute  and  target  variable,  share  your  findings (20 marks) \n",
        "* Number of unique in each column?\n",
        "* Number of people with zero mortgage? \n",
        "* Number of people with zero credit card spending per month? \n",
        "* Value counts of all categorical columns. \n",
        "* Univariate and Bivariate \n",
        "* Get data model ready\n",
        "\n",
        "\n",
        "\n",
        "3.   Split the data into training and test seting the ratio of 70:30 respectively (5marks)\n",
        "\n",
        "\n",
        "4.  Use Logistic Regression model to predict the number of a customer buying personal loans. Print all the metrics related for evaluating the model performance (15marks)\n",
        "\n",
        "\n",
        "5.  Give your reasoning on how can the model perform better? (10 marks)\n",
        ">> \n",
        "Hint: Check parameter\n",
        "\n",
        "\n",
        "6.  Give Business understanding of your model? (5 marks)"
      ]
    },
    {
      "cell_type": "markdown",
      "metadata": {
        "id": "sUFOCUecUgxv",
        "colab_type": "text"
      },
      "source": [
        "##### 0. Preface"
      ]
    },
    {
      "cell_type": "code",
      "metadata": {
        "id": "1pcI-DkwTQZR",
        "colab_type": "code",
        "colab": {}
      },
      "source": [
        "#!/usr/bin/python\n",
        "# Date: 2020/04/25\n",
        "# Code by Francisco Arruda Salido\n",
        "# Version: 1.0.0"
      ],
      "execution_count": 0,
      "outputs": []
    },
    {
      "cell_type": "markdown",
      "metadata": {
        "id": "czhHpDTJRsre",
        "colab_type": "text"
      },
      "source": [
        "##### 1.a. Import the libraries"
      ]
    },
    {
      "cell_type": "code",
      "metadata": {
        "id": "_UhppfcrJRX0",
        "colab_type": "code",
        "colab": {}
      },
      "source": [
        "# import structures and data analysis libraries\n",
        "import io\n",
        "import pandas as pd\n",
        "import numpy as np\n",
        "import matplotlib.pyplot as plt\n",
        "import seaborn as sns\n",
        "\n",
        "# automaticly render any figure in a notebook made with this library\n",
        "%matplotlib inline"
      ],
      "execution_count": 0,
      "outputs": []
    },
    {
      "cell_type": "code",
      "metadata": {
        "id": "MCfe4XLNTNw6",
        "colab_type": "code",
        "colab": {}
      },
      "source": [
        "# import machine learning libraries\n",
        "import sklearn\n",
        "from sklearn import preprocessing\n",
        "from sklearn.model_selection import train_test_split\n",
        "from sklearn.linear_model import LogisticRegression\n",
        "from sklearn.feature_selection import RFE\n",
        "from sklearn import metrics\n",
        "from sklearn.metrics import classification_report, confusion_matrix, recall_score, precision_score, f1_score, roc_curve, roc_auc_score,accuracy_score"
      ],
      "execution_count": 0,
      "outputs": []
    },
    {
      "cell_type": "markdown",
      "metadata": {
        "id": "_WvdDI4GR3sw",
        "colab_type": "text"
      },
      "source": [
        "##### 1.b. Import the dataset"
      ]
    },
    {
      "cell_type": "code",
      "metadata": {
        "id": "NCkE0RaxTk_p",
        "colab_type": "code",
        "outputId": "88f4d4c4-f2b7-4c72-b6f3-78940cc30b12",
        "colab": {
          "base_uri": "https://localhost:8080/",
          "height": 35
        }
      },
      "source": [
        "# Mount the google drive and set the path to the dataset\n",
        "from google.colab import drive\n",
        "drive.mount('/content/drive', force_remount=True)"
      ],
      "execution_count": 71,
      "outputs": [
        {
          "output_type": "stream",
          "text": [
            "Mounted at /content/drive\n"
          ],
          "name": "stdout"
        }
      ]
    },
    {
      "cell_type": "code",
      "metadata": {
        "id": "nA1hg7M7TmAj",
        "colab_type": "code",
        "outputId": "ab78d3d3-4d67-422c-c2d6-5cbb265415c6",
        "colab": {
          "base_uri": "https://localhost:8080/",
          "height": 35
        }
      },
      "source": [
        "root_path = '/content/drive/My\\ Drive/AIML/BankLoanCampaign/'  #set a dir to the project folder\n",
        "!ls /content/drive/My\\ Drive/AIML/BankLoanCampaign/ #change dir to the project folder"
      ],
      "execution_count": 72,
      "outputs": [
        {
          "output_type": "stream",
          "text": [
            "Bank_Personal_Loan_Modelling.csv\n"
          ],
          "name": "stdout"
        }
      ]
    },
    {
      "cell_type": "code",
      "metadata": {
        "id": "VlEhh59ITrQe",
        "colab_type": "code",
        "colab": {}
      },
      "source": [
        "data = pd.read_csv('/content/drive/My Drive/AIML/BankLoanCampaign/Bank_Personal_Loan_Modelling.csv') #import the dataset Data.csv from specific path"
      ],
      "execution_count": 0,
      "outputs": []
    },
    {
      "cell_type": "markdown",
      "metadata": {
        "id": "9_VRQ2nPWamw",
        "colab_type": "text"
      },
      "source": [
        "###### 1.b Housekipping"
      ]
    },
    {
      "cell_type": "code",
      "metadata": {
        "id": "GXM5iEb9Wcl9",
        "colab_type": "code",
        "colab": {}
      },
      "source": [
        "np.set_printoptions(precision=3, suppress=True) # Make numpy values easier to read.\n",
        "\n",
        "pd.set_option(\"display.precision\", 3) # Use 3 decimal places in output display\n",
        "\n",
        "pd.set_option(\"display.expand_frame_repr\", False) # Don't wrap repr(DataFrame) across additional lines\n",
        "\n",
        "pd.set_option(\"display.max_rows\", 25) # Set max rows displayed in output to 25"
      ],
      "execution_count": 0,
      "outputs": []
    },
    {
      "cell_type": "markdown",
      "metadata": {
        "id": "qA5yGUVsWxQC",
        "colab_type": "text"
      },
      "source": [
        "##### 1.c Check Datatype"
      ]
    },
    {
      "cell_type": "code",
      "metadata": {
        "id": "3yvUE62p1syd",
        "colab_type": "code",
        "colab": {
          "base_uri": "https://localhost:8080/",
          "height": 35
        },
        "outputId": "426e60d3-fbf7-4f04-9c89-e7d7def3b3d7"
      },
      "source": [
        "data.shape"
      ],
      "execution_count": 75,
      "outputs": [
        {
          "output_type": "execute_result",
          "data": {
            "text/plain": [
              "(5000, 14)"
            ]
          },
          "metadata": {
            "tags": []
          },
          "execution_count": 75
        }
      ]
    },
    {
      "cell_type": "code",
      "metadata": {
        "id": "dYh3gkdsW3RA",
        "colab_type": "code",
        "outputId": "ca860600-0d51-4e20-ba5d-20080fe9fc53",
        "colab": {
          "base_uri": "https://localhost:8080/",
          "height": 198
        }
      },
      "source": [
        "data.head() # check the name of the columns and the first 5 rows"
      ],
      "execution_count": 76,
      "outputs": [
        {
          "output_type": "execute_result",
          "data": {
            "text/html": [
              "<div>\n",
              "<style scoped>\n",
              "    .dataframe tbody tr th:only-of-type {\n",
              "        vertical-align: middle;\n",
              "    }\n",
              "\n",
              "    .dataframe tbody tr th {\n",
              "        vertical-align: top;\n",
              "    }\n",
              "\n",
              "    .dataframe thead th {\n",
              "        text-align: right;\n",
              "    }\n",
              "</style>\n",
              "<table border=\"1\" class=\"dataframe\">\n",
              "  <thead>\n",
              "    <tr style=\"text-align: right;\">\n",
              "      <th></th>\n",
              "      <th>ID</th>\n",
              "      <th>Age</th>\n",
              "      <th>Experience</th>\n",
              "      <th>Income</th>\n",
              "      <th>ZIP Code</th>\n",
              "      <th>Family</th>\n",
              "      <th>CCAvg</th>\n",
              "      <th>Education</th>\n",
              "      <th>Mortgage</th>\n",
              "      <th>Personal Loan</th>\n",
              "      <th>Securities Account</th>\n",
              "      <th>CD Account</th>\n",
              "      <th>Online</th>\n",
              "      <th>CreditCard</th>\n",
              "    </tr>\n",
              "  </thead>\n",
              "  <tbody>\n",
              "    <tr>\n",
              "      <th>0</th>\n",
              "      <td>1</td>\n",
              "      <td>25</td>\n",
              "      <td>1</td>\n",
              "      <td>49</td>\n",
              "      <td>91107</td>\n",
              "      <td>4</td>\n",
              "      <td>1.6</td>\n",
              "      <td>1</td>\n",
              "      <td>0</td>\n",
              "      <td>0</td>\n",
              "      <td>1</td>\n",
              "      <td>0</td>\n",
              "      <td>0</td>\n",
              "      <td>0</td>\n",
              "    </tr>\n",
              "    <tr>\n",
              "      <th>1</th>\n",
              "      <td>2</td>\n",
              "      <td>45</td>\n",
              "      <td>19</td>\n",
              "      <td>34</td>\n",
              "      <td>90089</td>\n",
              "      <td>3</td>\n",
              "      <td>1.5</td>\n",
              "      <td>1</td>\n",
              "      <td>0</td>\n",
              "      <td>0</td>\n",
              "      <td>1</td>\n",
              "      <td>0</td>\n",
              "      <td>0</td>\n",
              "      <td>0</td>\n",
              "    </tr>\n",
              "    <tr>\n",
              "      <th>2</th>\n",
              "      <td>3</td>\n",
              "      <td>39</td>\n",
              "      <td>15</td>\n",
              "      <td>11</td>\n",
              "      <td>94720</td>\n",
              "      <td>1</td>\n",
              "      <td>1.0</td>\n",
              "      <td>1</td>\n",
              "      <td>0</td>\n",
              "      <td>0</td>\n",
              "      <td>0</td>\n",
              "      <td>0</td>\n",
              "      <td>0</td>\n",
              "      <td>0</td>\n",
              "    </tr>\n",
              "    <tr>\n",
              "      <th>3</th>\n",
              "      <td>4</td>\n",
              "      <td>35</td>\n",
              "      <td>9</td>\n",
              "      <td>100</td>\n",
              "      <td>94112</td>\n",
              "      <td>1</td>\n",
              "      <td>2.7</td>\n",
              "      <td>2</td>\n",
              "      <td>0</td>\n",
              "      <td>0</td>\n",
              "      <td>0</td>\n",
              "      <td>0</td>\n",
              "      <td>0</td>\n",
              "      <td>0</td>\n",
              "    </tr>\n",
              "    <tr>\n",
              "      <th>4</th>\n",
              "      <td>5</td>\n",
              "      <td>35</td>\n",
              "      <td>8</td>\n",
              "      <td>45</td>\n",
              "      <td>91330</td>\n",
              "      <td>4</td>\n",
              "      <td>1.0</td>\n",
              "      <td>2</td>\n",
              "      <td>0</td>\n",
              "      <td>0</td>\n",
              "      <td>0</td>\n",
              "      <td>0</td>\n",
              "      <td>0</td>\n",
              "      <td>1</td>\n",
              "    </tr>\n",
              "  </tbody>\n",
              "</table>\n",
              "</div>"
            ],
            "text/plain": [
              "   ID  Age  Experience  Income  ZIP Code  Family  CCAvg  Education  Mortgage  Personal Loan  Securities Account  CD Account  Online  CreditCard\n",
              "0   1   25           1      49     91107       4    1.6          1         0              0                   1           0       0           0\n",
              "1   2   45          19      34     90089       3    1.5          1         0              0                   1           0       0           0\n",
              "2   3   39          15      11     94720       1    1.0          1         0              0                   0           0       0           0\n",
              "3   4   35           9     100     94112       1    2.7          2         0              0                   0           0       0           0\n",
              "4   5   35           8      45     91330       4    1.0          2         0              0                   0           0       0           1"
            ]
          },
          "metadata": {
            "tags": []
          },
          "execution_count": 76
        }
      ]
    },
    {
      "cell_type": "code",
      "metadata": {
        "id": "Tdo6KQsvW6J8",
        "colab_type": "code",
        "outputId": "b7f76bd7-52a5-4227-8939-b9540c16126f",
        "colab": {
          "base_uri": "https://localhost:8080/",
          "height": 399
        }
      },
      "source": [
        "data.info(); # check some information about the variables (columns)"
      ],
      "execution_count": 77,
      "outputs": [
        {
          "output_type": "stream",
          "text": [
            "<class 'pandas.core.frame.DataFrame'>\n",
            "RangeIndex: 5000 entries, 0 to 4999\n",
            "Data columns (total 14 columns):\n",
            " #   Column              Non-Null Count  Dtype  \n",
            "---  ------              --------------  -----  \n",
            " 0   ID                  5000 non-null   int64  \n",
            " 1   Age                 5000 non-null   int64  \n",
            " 2   Experience          5000 non-null   int64  \n",
            " 3   Income              5000 non-null   int64  \n",
            " 4   ZIP Code            5000 non-null   int64  \n",
            " 5   Family              5000 non-null   int64  \n",
            " 6   CCAvg               5000 non-null   float64\n",
            " 7   Education           5000 non-null   int64  \n",
            " 8   Mortgage            5000 non-null   int64  \n",
            " 9   Personal Loan       5000 non-null   int64  \n",
            " 10  Securities Account  5000 non-null   int64  \n",
            " 11  CD Account          5000 non-null   int64  \n",
            " 12  Online              5000 non-null   int64  \n",
            " 13  CreditCard          5000 non-null   int64  \n",
            "dtypes: float64(1), int64(13)\n",
            "memory usage: 547.0 KB\n"
          ],
          "name": "stdout"
        }
      ]
    },
    {
      "cell_type": "markdown",
      "metadata": {
        "id": "NaBIIzCoXu-w",
        "colab_type": "text"
      },
      "source": [
        "##### 1.d Statistical Summary"
      ]
    },
    {
      "cell_type": "code",
      "metadata": {
        "id": "x5-UapgViRWI",
        "colab_type": "code",
        "colab": {}
      },
      "source": [
        "# Creating a copy of the Data for manipulation\n",
        "df = data.copy()"
      ],
      "execution_count": 0,
      "outputs": []
    },
    {
      "cell_type": "code",
      "metadata": {
        "id": "icxsG46xXYpJ",
        "colab_type": "code",
        "outputId": "d5b6f1da-46e6-4c40-f8b9-f5d9dc4be149",
        "colab": {
          "base_uri": "https://localhost:8080/",
          "height": 408
        }
      },
      "source": [
        "df = df.drop(['ID', 'ZIP Code'], axis= 1) # drop the categorical columns 'ID' and 'ZIP Code'\n",
        "\n",
        "df.describe().transpose()"
      ],
      "execution_count": 79,
      "outputs": [
        {
          "output_type": "execute_result",
          "data": {
            "text/html": [
              "<div>\n",
              "<style scoped>\n",
              "    .dataframe tbody tr th:only-of-type {\n",
              "        vertical-align: middle;\n",
              "    }\n",
              "\n",
              "    .dataframe tbody tr th {\n",
              "        vertical-align: top;\n",
              "    }\n",
              "\n",
              "    .dataframe thead th {\n",
              "        text-align: right;\n",
              "    }\n",
              "</style>\n",
              "<table border=\"1\" class=\"dataframe\">\n",
              "  <thead>\n",
              "    <tr style=\"text-align: right;\">\n",
              "      <th></th>\n",
              "      <th>count</th>\n",
              "      <th>mean</th>\n",
              "      <th>std</th>\n",
              "      <th>min</th>\n",
              "      <th>25%</th>\n",
              "      <th>50%</th>\n",
              "      <th>75%</th>\n",
              "      <th>max</th>\n",
              "    </tr>\n",
              "  </thead>\n",
              "  <tbody>\n",
              "    <tr>\n",
              "      <th>Age</th>\n",
              "      <td>5000.0</td>\n",
              "      <td>45.338</td>\n",
              "      <td>11.463</td>\n",
              "      <td>23.0</td>\n",
              "      <td>35.0</td>\n",
              "      <td>45.0</td>\n",
              "      <td>55.0</td>\n",
              "      <td>67.0</td>\n",
              "    </tr>\n",
              "    <tr>\n",
              "      <th>Experience</th>\n",
              "      <td>5000.0</td>\n",
              "      <td>20.105</td>\n",
              "      <td>11.468</td>\n",
              "      <td>-3.0</td>\n",
              "      <td>10.0</td>\n",
              "      <td>20.0</td>\n",
              "      <td>30.0</td>\n",
              "      <td>43.0</td>\n",
              "    </tr>\n",
              "    <tr>\n",
              "      <th>Income</th>\n",
              "      <td>5000.0</td>\n",
              "      <td>73.774</td>\n",
              "      <td>46.034</td>\n",
              "      <td>8.0</td>\n",
              "      <td>39.0</td>\n",
              "      <td>64.0</td>\n",
              "      <td>98.0</td>\n",
              "      <td>224.0</td>\n",
              "    </tr>\n",
              "    <tr>\n",
              "      <th>Family</th>\n",
              "      <td>5000.0</td>\n",
              "      <td>2.396</td>\n",
              "      <td>1.148</td>\n",
              "      <td>1.0</td>\n",
              "      <td>1.0</td>\n",
              "      <td>2.0</td>\n",
              "      <td>3.0</td>\n",
              "      <td>4.0</td>\n",
              "    </tr>\n",
              "    <tr>\n",
              "      <th>CCAvg</th>\n",
              "      <td>5000.0</td>\n",
              "      <td>1.938</td>\n",
              "      <td>1.748</td>\n",
              "      <td>0.0</td>\n",
              "      <td>0.7</td>\n",
              "      <td>1.5</td>\n",
              "      <td>2.5</td>\n",
              "      <td>10.0</td>\n",
              "    </tr>\n",
              "    <tr>\n",
              "      <th>Education</th>\n",
              "      <td>5000.0</td>\n",
              "      <td>1.881</td>\n",
              "      <td>0.840</td>\n",
              "      <td>1.0</td>\n",
              "      <td>1.0</td>\n",
              "      <td>2.0</td>\n",
              "      <td>3.0</td>\n",
              "      <td>3.0</td>\n",
              "    </tr>\n",
              "    <tr>\n",
              "      <th>Mortgage</th>\n",
              "      <td>5000.0</td>\n",
              "      <td>56.499</td>\n",
              "      <td>101.714</td>\n",
              "      <td>0.0</td>\n",
              "      <td>0.0</td>\n",
              "      <td>0.0</td>\n",
              "      <td>101.0</td>\n",
              "      <td>635.0</td>\n",
              "    </tr>\n",
              "    <tr>\n",
              "      <th>Personal Loan</th>\n",
              "      <td>5000.0</td>\n",
              "      <td>0.096</td>\n",
              "      <td>0.295</td>\n",
              "      <td>0.0</td>\n",
              "      <td>0.0</td>\n",
              "      <td>0.0</td>\n",
              "      <td>0.0</td>\n",
              "      <td>1.0</td>\n",
              "    </tr>\n",
              "    <tr>\n",
              "      <th>Securities Account</th>\n",
              "      <td>5000.0</td>\n",
              "      <td>0.104</td>\n",
              "      <td>0.306</td>\n",
              "      <td>0.0</td>\n",
              "      <td>0.0</td>\n",
              "      <td>0.0</td>\n",
              "      <td>0.0</td>\n",
              "      <td>1.0</td>\n",
              "    </tr>\n",
              "    <tr>\n",
              "      <th>CD Account</th>\n",
              "      <td>5000.0</td>\n",
              "      <td>0.060</td>\n",
              "      <td>0.238</td>\n",
              "      <td>0.0</td>\n",
              "      <td>0.0</td>\n",
              "      <td>0.0</td>\n",
              "      <td>0.0</td>\n",
              "      <td>1.0</td>\n",
              "    </tr>\n",
              "    <tr>\n",
              "      <th>Online</th>\n",
              "      <td>5000.0</td>\n",
              "      <td>0.597</td>\n",
              "      <td>0.491</td>\n",
              "      <td>0.0</td>\n",
              "      <td>0.0</td>\n",
              "      <td>1.0</td>\n",
              "      <td>1.0</td>\n",
              "      <td>1.0</td>\n",
              "    </tr>\n",
              "    <tr>\n",
              "      <th>CreditCard</th>\n",
              "      <td>5000.0</td>\n",
              "      <td>0.294</td>\n",
              "      <td>0.456</td>\n",
              "      <td>0.0</td>\n",
              "      <td>0.0</td>\n",
              "      <td>0.0</td>\n",
              "      <td>1.0</td>\n",
              "      <td>1.0</td>\n",
              "    </tr>\n",
              "  </tbody>\n",
              "</table>\n",
              "</div>"
            ],
            "text/plain": [
              "                     count    mean      std   min   25%   50%    75%    max\n",
              "Age                 5000.0  45.338   11.463  23.0  35.0  45.0   55.0   67.0\n",
              "Experience          5000.0  20.105   11.468  -3.0  10.0  20.0   30.0   43.0\n",
              "Income              5000.0  73.774   46.034   8.0  39.0  64.0   98.0  224.0\n",
              "Family              5000.0   2.396    1.148   1.0   1.0   2.0    3.0    4.0\n",
              "CCAvg               5000.0   1.938    1.748   0.0   0.7   1.5    2.5   10.0\n",
              "Education           5000.0   1.881    0.840   1.0   1.0   2.0    3.0    3.0\n",
              "Mortgage            5000.0  56.499  101.714   0.0   0.0   0.0  101.0  635.0\n",
              "Personal Loan       5000.0   0.096    0.295   0.0   0.0   0.0    0.0    1.0\n",
              "Securities Account  5000.0   0.104    0.306   0.0   0.0   0.0    0.0    1.0\n",
              "CD Account          5000.0   0.060    0.238   0.0   0.0   0.0    0.0    1.0\n",
              "Online              5000.0   0.597    0.491   0.0   0.0   1.0    1.0    1.0\n",
              "CreditCard          5000.0   0.294    0.456   0.0   0.0   0.0    1.0    1.0"
            ]
          },
          "metadata": {
            "tags": []
          },
          "execution_count": 79
        }
      ]
    },
    {
      "cell_type": "code",
      "metadata": {
        "id": "u0HR4_v-X1-3",
        "colab_type": "code",
        "outputId": "071bbf40-8181-4be4-e8de-2e34f06b6537",
        "colab": {
          "base_uri": "https://localhost:8080/",
          "height": 198
        }
      },
      "source": [
        "#  Rearranging the columns orders for bringing the \"Personal Loan \" to the end of the dataframe.\n",
        "personal_loan = df['Personal Loan']\n",
        "df.drop(['Personal Loan'], axis = 1,inplace = True)\n",
        "df['Personal Loan'] = personal_loan\n",
        "df.head()"
      ],
      "execution_count": 80,
      "outputs": [
        {
          "output_type": "execute_result",
          "data": {
            "text/html": [
              "<div>\n",
              "<style scoped>\n",
              "    .dataframe tbody tr th:only-of-type {\n",
              "        vertical-align: middle;\n",
              "    }\n",
              "\n",
              "    .dataframe tbody tr th {\n",
              "        vertical-align: top;\n",
              "    }\n",
              "\n",
              "    .dataframe thead th {\n",
              "        text-align: right;\n",
              "    }\n",
              "</style>\n",
              "<table border=\"1\" class=\"dataframe\">\n",
              "  <thead>\n",
              "    <tr style=\"text-align: right;\">\n",
              "      <th></th>\n",
              "      <th>Age</th>\n",
              "      <th>Experience</th>\n",
              "      <th>Income</th>\n",
              "      <th>Family</th>\n",
              "      <th>CCAvg</th>\n",
              "      <th>Education</th>\n",
              "      <th>Mortgage</th>\n",
              "      <th>Securities Account</th>\n",
              "      <th>CD Account</th>\n",
              "      <th>Online</th>\n",
              "      <th>CreditCard</th>\n",
              "      <th>Personal Loan</th>\n",
              "    </tr>\n",
              "  </thead>\n",
              "  <tbody>\n",
              "    <tr>\n",
              "      <th>0</th>\n",
              "      <td>25</td>\n",
              "      <td>1</td>\n",
              "      <td>49</td>\n",
              "      <td>4</td>\n",
              "      <td>1.6</td>\n",
              "      <td>1</td>\n",
              "      <td>0</td>\n",
              "      <td>1</td>\n",
              "      <td>0</td>\n",
              "      <td>0</td>\n",
              "      <td>0</td>\n",
              "      <td>0</td>\n",
              "    </tr>\n",
              "    <tr>\n",
              "      <th>1</th>\n",
              "      <td>45</td>\n",
              "      <td>19</td>\n",
              "      <td>34</td>\n",
              "      <td>3</td>\n",
              "      <td>1.5</td>\n",
              "      <td>1</td>\n",
              "      <td>0</td>\n",
              "      <td>1</td>\n",
              "      <td>0</td>\n",
              "      <td>0</td>\n",
              "      <td>0</td>\n",
              "      <td>0</td>\n",
              "    </tr>\n",
              "    <tr>\n",
              "      <th>2</th>\n",
              "      <td>39</td>\n",
              "      <td>15</td>\n",
              "      <td>11</td>\n",
              "      <td>1</td>\n",
              "      <td>1.0</td>\n",
              "      <td>1</td>\n",
              "      <td>0</td>\n",
              "      <td>0</td>\n",
              "      <td>0</td>\n",
              "      <td>0</td>\n",
              "      <td>0</td>\n",
              "      <td>0</td>\n",
              "    </tr>\n",
              "    <tr>\n",
              "      <th>3</th>\n",
              "      <td>35</td>\n",
              "      <td>9</td>\n",
              "      <td>100</td>\n",
              "      <td>1</td>\n",
              "      <td>2.7</td>\n",
              "      <td>2</td>\n",
              "      <td>0</td>\n",
              "      <td>0</td>\n",
              "      <td>0</td>\n",
              "      <td>0</td>\n",
              "      <td>0</td>\n",
              "      <td>0</td>\n",
              "    </tr>\n",
              "    <tr>\n",
              "      <th>4</th>\n",
              "      <td>35</td>\n",
              "      <td>8</td>\n",
              "      <td>45</td>\n",
              "      <td>4</td>\n",
              "      <td>1.0</td>\n",
              "      <td>2</td>\n",
              "      <td>0</td>\n",
              "      <td>0</td>\n",
              "      <td>0</td>\n",
              "      <td>0</td>\n",
              "      <td>1</td>\n",
              "      <td>0</td>\n",
              "    </tr>\n",
              "  </tbody>\n",
              "</table>\n",
              "</div>"
            ],
            "text/plain": [
              "   Age  Experience  Income  Family  CCAvg  Education  Mortgage  Securities Account  CD Account  Online  CreditCard  Personal Loan\n",
              "0   25           1      49       4    1.6          1         0                   1           0       0           0              0\n",
              "1   45          19      34       3    1.5          1         0                   1           0       0           0              0\n",
              "2   39          15      11       1    1.0          1         0                   0           0       0           0              0\n",
              "3   35           9     100       1    2.7          2         0                   0           0       0           0              0\n",
              "4   35           8      45       4    1.0          2         0                   0           0       0           1              0"
            ]
          },
          "metadata": {
            "tags": []
          },
          "execution_count": 80
        }
      ]
    },
    {
      "cell_type": "markdown",
      "metadata": {
        "id": "n7IfI2UtkS-T",
        "colab_type": "text"
      },
      "source": [
        "1. Shape"
      ]
    },
    {
      "cell_type": "code",
      "metadata": {
        "id": "sGNQI2yXkZfV",
        "colab_type": "code",
        "outputId": "1371eea2-5f8d-4b20-ef28-eb17d0a2536f",
        "colab": {
          "base_uri": "https://localhost:8080/",
          "height": 35
        }
      },
      "source": [
        "df.shape # check the shape after droping and rearrangig columns"
      ],
      "execution_count": 81,
      "outputs": [
        {
          "output_type": "execute_result",
          "data": {
            "text/plain": [
              "(5000, 12)"
            ]
          },
          "metadata": {
            "tags": []
          },
          "execution_count": 81
        }
      ]
    },
    {
      "cell_type": "markdown",
      "metadata": {
        "id": "v5eqGMUmkpur",
        "colab_type": "text"
      },
      "source": [
        "###### 1.e Check for invalid values"
      ]
    },
    {
      "cell_type": "code",
      "metadata": {
        "id": "PUeMKGFFjkGt",
        "colab_type": "code",
        "outputId": "b5cda408-762c-4975-fc42-696300bd74dd",
        "colab": {
          "base_uri": "https://localhost:8080/",
          "height": 254
        }
      },
      "source": [
        "df.isnull().sum() # check for null values by row"
      ],
      "execution_count": 82,
      "outputs": [
        {
          "output_type": "execute_result",
          "data": {
            "text/plain": [
              "Age                   0\n",
              "Experience            0\n",
              "Income                0\n",
              "Family                0\n",
              "CCAvg                 0\n",
              "Education             0\n",
              "Mortgage              0\n",
              "Securities Account    0\n",
              "CD Account            0\n",
              "Online                0\n",
              "CreditCard            0\n",
              "Personal Loan         0\n",
              "dtype: int64"
            ]
          },
          "metadata": {
            "tags": []
          },
          "execution_count": 82
        }
      ]
    },
    {
      "cell_type": "code",
      "metadata": {
        "id": "-rjdswtUkOZV",
        "colab_type": "code",
        "outputId": "9ccf23df-cec3-45d1-eccb-ebf771d86ca2",
        "colab": {
          "base_uri": "https://localhost:8080/",
          "height": 35
        }
      },
      "source": [
        "df.isnull().sum().any() # check for null values in the dataframe"
      ],
      "execution_count": 83,
      "outputs": [
        {
          "output_type": "execute_result",
          "data": {
            "text/plain": [
              "False"
            ]
          },
          "metadata": {
            "tags": []
          },
          "execution_count": 83
        }
      ]
    },
    {
      "cell_type": "code",
      "metadata": {
        "id": "Wxl6V-nnAwoK",
        "colab_type": "code",
        "outputId": "e31f6e0f-8558-4a36-c079-7cea70868999",
        "colab": {
          "base_uri": "https://localhost:8080/",
          "height": 408
        }
      },
      "source": [
        "# Checking the Dataframe Distributions\n",
        "df.describe().transpose()"
      ],
      "execution_count": 84,
      "outputs": [
        {
          "output_type": "execute_result",
          "data": {
            "text/html": [
              "<div>\n",
              "<style scoped>\n",
              "    .dataframe tbody tr th:only-of-type {\n",
              "        vertical-align: middle;\n",
              "    }\n",
              "\n",
              "    .dataframe tbody tr th {\n",
              "        vertical-align: top;\n",
              "    }\n",
              "\n",
              "    .dataframe thead th {\n",
              "        text-align: right;\n",
              "    }\n",
              "</style>\n",
              "<table border=\"1\" class=\"dataframe\">\n",
              "  <thead>\n",
              "    <tr style=\"text-align: right;\">\n",
              "      <th></th>\n",
              "      <th>count</th>\n",
              "      <th>mean</th>\n",
              "      <th>std</th>\n",
              "      <th>min</th>\n",
              "      <th>25%</th>\n",
              "      <th>50%</th>\n",
              "      <th>75%</th>\n",
              "      <th>max</th>\n",
              "    </tr>\n",
              "  </thead>\n",
              "  <tbody>\n",
              "    <tr>\n",
              "      <th>Age</th>\n",
              "      <td>5000.0</td>\n",
              "      <td>45.338</td>\n",
              "      <td>11.463</td>\n",
              "      <td>23.0</td>\n",
              "      <td>35.0</td>\n",
              "      <td>45.0</td>\n",
              "      <td>55.0</td>\n",
              "      <td>67.0</td>\n",
              "    </tr>\n",
              "    <tr>\n",
              "      <th>Experience</th>\n",
              "      <td>5000.0</td>\n",
              "      <td>20.105</td>\n",
              "      <td>11.468</td>\n",
              "      <td>-3.0</td>\n",
              "      <td>10.0</td>\n",
              "      <td>20.0</td>\n",
              "      <td>30.0</td>\n",
              "      <td>43.0</td>\n",
              "    </tr>\n",
              "    <tr>\n",
              "      <th>Income</th>\n",
              "      <td>5000.0</td>\n",
              "      <td>73.774</td>\n",
              "      <td>46.034</td>\n",
              "      <td>8.0</td>\n",
              "      <td>39.0</td>\n",
              "      <td>64.0</td>\n",
              "      <td>98.0</td>\n",
              "      <td>224.0</td>\n",
              "    </tr>\n",
              "    <tr>\n",
              "      <th>Family</th>\n",
              "      <td>5000.0</td>\n",
              "      <td>2.396</td>\n",
              "      <td>1.148</td>\n",
              "      <td>1.0</td>\n",
              "      <td>1.0</td>\n",
              "      <td>2.0</td>\n",
              "      <td>3.0</td>\n",
              "      <td>4.0</td>\n",
              "    </tr>\n",
              "    <tr>\n",
              "      <th>CCAvg</th>\n",
              "      <td>5000.0</td>\n",
              "      <td>1.938</td>\n",
              "      <td>1.748</td>\n",
              "      <td>0.0</td>\n",
              "      <td>0.7</td>\n",
              "      <td>1.5</td>\n",
              "      <td>2.5</td>\n",
              "      <td>10.0</td>\n",
              "    </tr>\n",
              "    <tr>\n",
              "      <th>Education</th>\n",
              "      <td>5000.0</td>\n",
              "      <td>1.881</td>\n",
              "      <td>0.840</td>\n",
              "      <td>1.0</td>\n",
              "      <td>1.0</td>\n",
              "      <td>2.0</td>\n",
              "      <td>3.0</td>\n",
              "      <td>3.0</td>\n",
              "    </tr>\n",
              "    <tr>\n",
              "      <th>Mortgage</th>\n",
              "      <td>5000.0</td>\n",
              "      <td>56.499</td>\n",
              "      <td>101.714</td>\n",
              "      <td>0.0</td>\n",
              "      <td>0.0</td>\n",
              "      <td>0.0</td>\n",
              "      <td>101.0</td>\n",
              "      <td>635.0</td>\n",
              "    </tr>\n",
              "    <tr>\n",
              "      <th>Securities Account</th>\n",
              "      <td>5000.0</td>\n",
              "      <td>0.104</td>\n",
              "      <td>0.306</td>\n",
              "      <td>0.0</td>\n",
              "      <td>0.0</td>\n",
              "      <td>0.0</td>\n",
              "      <td>0.0</td>\n",
              "      <td>1.0</td>\n",
              "    </tr>\n",
              "    <tr>\n",
              "      <th>CD Account</th>\n",
              "      <td>5000.0</td>\n",
              "      <td>0.060</td>\n",
              "      <td>0.238</td>\n",
              "      <td>0.0</td>\n",
              "      <td>0.0</td>\n",
              "      <td>0.0</td>\n",
              "      <td>0.0</td>\n",
              "      <td>1.0</td>\n",
              "    </tr>\n",
              "    <tr>\n",
              "      <th>Online</th>\n",
              "      <td>5000.0</td>\n",
              "      <td>0.597</td>\n",
              "      <td>0.491</td>\n",
              "      <td>0.0</td>\n",
              "      <td>0.0</td>\n",
              "      <td>1.0</td>\n",
              "      <td>1.0</td>\n",
              "      <td>1.0</td>\n",
              "    </tr>\n",
              "    <tr>\n",
              "      <th>CreditCard</th>\n",
              "      <td>5000.0</td>\n",
              "      <td>0.294</td>\n",
              "      <td>0.456</td>\n",
              "      <td>0.0</td>\n",
              "      <td>0.0</td>\n",
              "      <td>0.0</td>\n",
              "      <td>1.0</td>\n",
              "      <td>1.0</td>\n",
              "    </tr>\n",
              "    <tr>\n",
              "      <th>Personal Loan</th>\n",
              "      <td>5000.0</td>\n",
              "      <td>0.096</td>\n",
              "      <td>0.295</td>\n",
              "      <td>0.0</td>\n",
              "      <td>0.0</td>\n",
              "      <td>0.0</td>\n",
              "      <td>0.0</td>\n",
              "      <td>1.0</td>\n",
              "    </tr>\n",
              "  </tbody>\n",
              "</table>\n",
              "</div>"
            ],
            "text/plain": [
              "                     count    mean      std   min   25%   50%    75%    max\n",
              "Age                 5000.0  45.338   11.463  23.0  35.0  45.0   55.0   67.0\n",
              "Experience          5000.0  20.105   11.468  -3.0  10.0  20.0   30.0   43.0\n",
              "Income              5000.0  73.774   46.034   8.0  39.0  64.0   98.0  224.0\n",
              "Family              5000.0   2.396    1.148   1.0   1.0   2.0    3.0    4.0\n",
              "CCAvg               5000.0   1.938    1.748   0.0   0.7   1.5    2.5   10.0\n",
              "Education           5000.0   1.881    0.840   1.0   1.0   2.0    3.0    3.0\n",
              "Mortgage            5000.0  56.499  101.714   0.0   0.0   0.0  101.0  635.0\n",
              "Securities Account  5000.0   0.104    0.306   0.0   0.0   0.0    0.0    1.0\n",
              "CD Account          5000.0   0.060    0.238   0.0   0.0   0.0    0.0    1.0\n",
              "Online              5000.0   0.597    0.491   0.0   0.0   1.0    1.0    1.0\n",
              "CreditCard          5000.0   0.294    0.456   0.0   0.0   0.0    1.0    1.0\n",
              "Personal Loan       5000.0   0.096    0.295   0.0   0.0   0.0    0.0    1.0"
            ]
          },
          "metadata": {
            "tags": []
          },
          "execution_count": 84
        }
      ]
    },
    {
      "cell_type": "markdown",
      "metadata": {
        "id": "kdWWeo4nA9m2",
        "colab_type": "text"
      },
      "source": [
        "###### There is negative values in the 'Experience' column"
      ]
    },
    {
      "cell_type": "code",
      "metadata": {
        "id": "oXOrAGfBk72h",
        "colab_type": "code",
        "outputId": "a6693caf-1034-47f3-a079-02b8331de13d",
        "colab": {
          "base_uri": "https://localhost:8080/",
          "height": 35
        }
      },
      "source": [
        "# Experience can't be a negative values\n",
        "df[df['Experience'] <= -1]['Experience'].count() # count the total of negative numbers in the 'Experience' row"
      ],
      "execution_count": 85,
      "outputs": [
        {
          "output_type": "execute_result",
          "data": {
            "text/plain": [
              "52"
            ]
          },
          "metadata": {
            "tags": []
          },
          "execution_count": 85
        }
      ]
    },
    {
      "cell_type": "code",
      "metadata": {
        "id": "_N7maPvLlux3",
        "colab_type": "code",
        "colab": {}
      },
      "source": [
        "# Get the numeric data from the 'Experience' column and replace just the negatives value by the Mode() function (Median() will be afected by the negative values) \n",
        "df.loc[(df['Experience'] <= -1), 'Experience'] = df['Experience'].mode()"
      ],
      "execution_count": 0,
      "outputs": []
    },
    {
      "cell_type": "code",
      "metadata": {
        "id": "Lh2JM5XLocU_",
        "colab_type": "code",
        "outputId": "ca171a91-a250-46ac-f996-5d8cf7ffbc4b",
        "colab": {
          "base_uri": "https://localhost:8080/",
          "height": 408
        }
      },
      "source": [
        "# Checking the new distribution in 'Experience'\n",
        "df.describe().transpose()"
      ],
      "execution_count": 87,
      "outputs": [
        {
          "output_type": "execute_result",
          "data": {
            "text/html": [
              "<div>\n",
              "<style scoped>\n",
              "    .dataframe tbody tr th:only-of-type {\n",
              "        vertical-align: middle;\n",
              "    }\n",
              "\n",
              "    .dataframe tbody tr th {\n",
              "        vertical-align: top;\n",
              "    }\n",
              "\n",
              "    .dataframe thead th {\n",
              "        text-align: right;\n",
              "    }\n",
              "</style>\n",
              "<table border=\"1\" class=\"dataframe\">\n",
              "  <thead>\n",
              "    <tr style=\"text-align: right;\">\n",
              "      <th></th>\n",
              "      <th>count</th>\n",
              "      <th>mean</th>\n",
              "      <th>std</th>\n",
              "      <th>min</th>\n",
              "      <th>25%</th>\n",
              "      <th>50%</th>\n",
              "      <th>75%</th>\n",
              "      <th>max</th>\n",
              "    </tr>\n",
              "  </thead>\n",
              "  <tbody>\n",
              "    <tr>\n",
              "      <th>Age</th>\n",
              "      <td>5000.0</td>\n",
              "      <td>45.338</td>\n",
              "      <td>11.463</td>\n",
              "      <td>23.0</td>\n",
              "      <td>35.00</td>\n",
              "      <td>45.0</td>\n",
              "      <td>55.0</td>\n",
              "      <td>67.0</td>\n",
              "    </tr>\n",
              "    <tr>\n",
              "      <th>Experience</th>\n",
              "      <td>4948.0</td>\n",
              "      <td>20.331</td>\n",
              "      <td>11.312</td>\n",
              "      <td>0.0</td>\n",
              "      <td>10.75</td>\n",
              "      <td>20.0</td>\n",
              "      <td>30.0</td>\n",
              "      <td>43.0</td>\n",
              "    </tr>\n",
              "    <tr>\n",
              "      <th>Income</th>\n",
              "      <td>5000.0</td>\n",
              "      <td>73.774</td>\n",
              "      <td>46.034</td>\n",
              "      <td>8.0</td>\n",
              "      <td>39.00</td>\n",
              "      <td>64.0</td>\n",
              "      <td>98.0</td>\n",
              "      <td>224.0</td>\n",
              "    </tr>\n",
              "    <tr>\n",
              "      <th>Family</th>\n",
              "      <td>5000.0</td>\n",
              "      <td>2.396</td>\n",
              "      <td>1.148</td>\n",
              "      <td>1.0</td>\n",
              "      <td>1.00</td>\n",
              "      <td>2.0</td>\n",
              "      <td>3.0</td>\n",
              "      <td>4.0</td>\n",
              "    </tr>\n",
              "    <tr>\n",
              "      <th>CCAvg</th>\n",
              "      <td>5000.0</td>\n",
              "      <td>1.938</td>\n",
              "      <td>1.748</td>\n",
              "      <td>0.0</td>\n",
              "      <td>0.70</td>\n",
              "      <td>1.5</td>\n",
              "      <td>2.5</td>\n",
              "      <td>10.0</td>\n",
              "    </tr>\n",
              "    <tr>\n",
              "      <th>Education</th>\n",
              "      <td>5000.0</td>\n",
              "      <td>1.881</td>\n",
              "      <td>0.840</td>\n",
              "      <td>1.0</td>\n",
              "      <td>1.00</td>\n",
              "      <td>2.0</td>\n",
              "      <td>3.0</td>\n",
              "      <td>3.0</td>\n",
              "    </tr>\n",
              "    <tr>\n",
              "      <th>Mortgage</th>\n",
              "      <td>5000.0</td>\n",
              "      <td>56.499</td>\n",
              "      <td>101.714</td>\n",
              "      <td>0.0</td>\n",
              "      <td>0.00</td>\n",
              "      <td>0.0</td>\n",
              "      <td>101.0</td>\n",
              "      <td>635.0</td>\n",
              "    </tr>\n",
              "    <tr>\n",
              "      <th>Securities Account</th>\n",
              "      <td>5000.0</td>\n",
              "      <td>0.104</td>\n",
              "      <td>0.306</td>\n",
              "      <td>0.0</td>\n",
              "      <td>0.00</td>\n",
              "      <td>0.0</td>\n",
              "      <td>0.0</td>\n",
              "      <td>1.0</td>\n",
              "    </tr>\n",
              "    <tr>\n",
              "      <th>CD Account</th>\n",
              "      <td>5000.0</td>\n",
              "      <td>0.060</td>\n",
              "      <td>0.238</td>\n",
              "      <td>0.0</td>\n",
              "      <td>0.00</td>\n",
              "      <td>0.0</td>\n",
              "      <td>0.0</td>\n",
              "      <td>1.0</td>\n",
              "    </tr>\n",
              "    <tr>\n",
              "      <th>Online</th>\n",
              "      <td>5000.0</td>\n",
              "      <td>0.597</td>\n",
              "      <td>0.491</td>\n",
              "      <td>0.0</td>\n",
              "      <td>0.00</td>\n",
              "      <td>1.0</td>\n",
              "      <td>1.0</td>\n",
              "      <td>1.0</td>\n",
              "    </tr>\n",
              "    <tr>\n",
              "      <th>CreditCard</th>\n",
              "      <td>5000.0</td>\n",
              "      <td>0.294</td>\n",
              "      <td>0.456</td>\n",
              "      <td>0.0</td>\n",
              "      <td>0.00</td>\n",
              "      <td>0.0</td>\n",
              "      <td>1.0</td>\n",
              "      <td>1.0</td>\n",
              "    </tr>\n",
              "    <tr>\n",
              "      <th>Personal Loan</th>\n",
              "      <td>5000.0</td>\n",
              "      <td>0.096</td>\n",
              "      <td>0.295</td>\n",
              "      <td>0.0</td>\n",
              "      <td>0.00</td>\n",
              "      <td>0.0</td>\n",
              "      <td>0.0</td>\n",
              "      <td>1.0</td>\n",
              "    </tr>\n",
              "  </tbody>\n",
              "</table>\n",
              "</div>"
            ],
            "text/plain": [
              "                     count    mean      std   min    25%   50%    75%    max\n",
              "Age                 5000.0  45.338   11.463  23.0  35.00  45.0   55.0   67.0\n",
              "Experience          4948.0  20.331   11.312   0.0  10.75  20.0   30.0   43.0\n",
              "Income              5000.0  73.774   46.034   8.0  39.00  64.0   98.0  224.0\n",
              "Family              5000.0   2.396    1.148   1.0   1.00   2.0    3.0    4.0\n",
              "CCAvg               5000.0   1.938    1.748   0.0   0.70   1.5    2.5   10.0\n",
              "Education           5000.0   1.881    0.840   1.0   1.00   2.0    3.0    3.0\n",
              "Mortgage            5000.0  56.499  101.714   0.0   0.00   0.0  101.0  635.0\n",
              "Securities Account  5000.0   0.104    0.306   0.0   0.00   0.0    0.0    1.0\n",
              "CD Account          5000.0   0.060    0.238   0.0   0.00   0.0    0.0    1.0\n",
              "Online              5000.0   0.597    0.491   0.0   0.00   1.0    1.0    1.0\n",
              "CreditCard          5000.0   0.294    0.456   0.0   0.00   0.0    1.0    1.0\n",
              "Personal Loan       5000.0   0.096    0.295   0.0   0.00   0.0    0.0    1.0"
            ]
          },
          "metadata": {
            "tags": []
          },
          "execution_count": 87
        }
      ]
    },
    {
      "cell_type": "code",
      "metadata": {
        "id": "Y3jGvqOiolrA",
        "colab_type": "code",
        "outputId": "5bfabaac-6311-4270-a153-d20ecf374ed7",
        "colab": {
          "base_uri": "https://localhost:8080/",
          "height": 35
        }
      },
      "source": [
        "# Cheking again if 'Experience' has any negative values\n",
        "df[df['Experience'] <= -1]['Experience'].count()"
      ],
      "execution_count": 88,
      "outputs": [
        {
          "output_type": "execute_result",
          "data": {
            "text/plain": [
              "0"
            ]
          },
          "metadata": {
            "tags": []
          },
          "execution_count": 88
        }
      ]
    },
    {
      "cell_type": "markdown",
      "metadata": {
        "id": "ZlNiJWFR0HFA",
        "colab_type": "text"
      },
      "source": [
        "### 2. Exploratory Data Analysis:"
      ]
    },
    {
      "cell_type": "markdown",
      "metadata": {
        "id": "Kzj1aIzaDQBQ",
        "colab_type": "text"
      },
      "source": [
        "##### 2.1 Number of unique in each column?"
      ]
    },
    {
      "cell_type": "code",
      "metadata": {
        "id": "acRsy_b2RD_N",
        "colab_type": "code",
        "outputId": "01d2958e-c424-4b2d-c0d0-9935e4463fb1",
        "colab": {
          "base_uri": "https://localhost:8080/",
          "height": 254
        }
      },
      "source": [
        "df.nunique()"
      ],
      "execution_count": 89,
      "outputs": [
        {
          "output_type": "execute_result",
          "data": {
            "text/plain": [
              "Age                    45\n",
              "Experience             44\n",
              "Income                162\n",
              "Family                  4\n",
              "CCAvg                 108\n",
              "Education               3\n",
              "Mortgage              347\n",
              "Securities Account      2\n",
              "CD Account              2\n",
              "Online                  2\n",
              "CreditCard              2\n",
              "Personal Loan           2\n",
              "dtype: int64"
            ]
          },
          "metadata": {
            "tags": []
          },
          "execution_count": 89
        }
      ]
    },
    {
      "cell_type": "code",
      "metadata": {
        "id": "zQtUpH5WTe8F",
        "colab_type": "code",
        "outputId": "b041a293-5b95-4c73-ca73-7846af679f2d",
        "colab": {
          "base_uri": "https://localhost:8080/",
          "height": 254
        }
      },
      "source": [
        "df.apply(lambda x: len(x.unique()))"
      ],
      "execution_count": 90,
      "outputs": [
        {
          "output_type": "execute_result",
          "data": {
            "text/plain": [
              "Age                    45\n",
              "Experience             45\n",
              "Income                162\n",
              "Family                  4\n",
              "CCAvg                 108\n",
              "Education               3\n",
              "Mortgage              347\n",
              "Securities Account      2\n",
              "CD Account              2\n",
              "Online                  2\n",
              "CreditCard              2\n",
              "Personal Loan           2\n",
              "dtype: int64"
            ]
          },
          "metadata": {
            "tags": []
          },
          "execution_count": 90
        }
      ]
    },
    {
      "cell_type": "markdown",
      "metadata": {
        "id": "NZ68RIj_Ftjq",
        "colab_type": "text"
      },
      "source": [
        "2.2 Number of people with zero mortgage?"
      ]
    },
    {
      "cell_type": "code",
      "metadata": {
        "id": "8woY-pmIFyNL",
        "colab_type": "code",
        "outputId": "aec5fcd6-ad90-407e-b607-b3e664d9e8ec",
        "colab": {
          "base_uri": "https://localhost:8080/",
          "height": 35
        }
      },
      "source": [
        "a= df['Mortgage'].isin([0]).sum()\n",
        "print('The number of clients with zero Mortgage are {}'.format(a))"
      ],
      "execution_count": 91,
      "outputs": [
        {
          "output_type": "stream",
          "text": [
            "The number of clients with zero Mortgage are 3462\n"
          ],
          "name": "stdout"
        }
      ]
    },
    {
      "cell_type": "markdown",
      "metadata": {
        "id": "eRhNR7b6l8ty",
        "colab_type": "text"
      },
      "source": [
        "2.3 Number of people with zero credit card spending per month?"
      ]
    },
    {
      "cell_type": "code",
      "metadata": {
        "id": "SEmLuaFbkkrF",
        "colab_type": "code",
        "outputId": "98b07f64-01c7-455b-9f59-c89f59b490fa",
        "colab": {
          "base_uri": "https://localhost:8080/",
          "height": 35
        }
      },
      "source": [
        "b= df['CCAvg'].isin([0]).sum()\n",
        "print('The number of clients with zero Credit Card spending are {}'.format(b))"
      ],
      "execution_count": 92,
      "outputs": [
        {
          "output_type": "stream",
          "text": [
            "The number of clients with zero Credit Card spending are 106\n"
          ],
          "name": "stdout"
        }
      ]
    },
    {
      "cell_type": "markdown",
      "metadata": {
        "id": "Vr5ubO0Wm6Lf",
        "colab_type": "text"
      },
      "source": [
        "#### 2.4 Value counts of all categorical columns."
      ]
    },
    {
      "cell_type": "code",
      "metadata": {
        "id": "YJD9ajEim8zP",
        "colab_type": "code",
        "colab": {}
      },
      "source": [
        "# list of Columns Types\n",
        "numerical_columns_list= ('Age', 'Experience', 'Income', 'CCAvg', 'Mortgage')\n",
        "categorical_columns_list= ('Family',\t'Education',\t'Personal Loan',\t'Securities Account', 'CD Account',\t'Online',\t'CreditCard') "
      ],
      "execution_count": 0,
      "outputs": []
    },
    {
      "cell_type": "markdown",
      "metadata": {
        "id": "CK5q928Uz2m0",
        "colab_type": "text"
      },
      "source": [
        "#### 2.4.1 Categorical Columns"
      ]
    },
    {
      "cell_type": "markdown",
      "metadata": {
        "id": "ACLNb_DX0QfY",
        "colab_type": "text"
      },
      "source": [
        "2.4.1.1 Family"
      ]
    },
    {
      "cell_type": "code",
      "metadata": {
        "id": "S5EKywO40Ae1",
        "colab_type": "code",
        "outputId": "4884c900-ae46-433a-cc8c-6550f692759e",
        "colab": {
          "base_uri": "https://localhost:8080/",
          "height": 168
        }
      },
      "source": [
        "# Family value count and Percetantage\n",
        "family_count = pd.Series(df['Family'].squeeze().values.ravel()).value_counts()\n",
        "pd.DataFrame({'Count':family_count.values, 'Percentage':(family_count/family_count.sum()).values})"
      ],
      "execution_count": 94,
      "outputs": [
        {
          "output_type": "execute_result",
          "data": {
            "text/html": [
              "<div>\n",
              "<style scoped>\n",
              "    .dataframe tbody tr th:only-of-type {\n",
              "        vertical-align: middle;\n",
              "    }\n",
              "\n",
              "    .dataframe tbody tr th {\n",
              "        vertical-align: top;\n",
              "    }\n",
              "\n",
              "    .dataframe thead th {\n",
              "        text-align: right;\n",
              "    }\n",
              "</style>\n",
              "<table border=\"1\" class=\"dataframe\">\n",
              "  <thead>\n",
              "    <tr style=\"text-align: right;\">\n",
              "      <th></th>\n",
              "      <th>Count</th>\n",
              "      <th>Percentage</th>\n",
              "    </tr>\n",
              "  </thead>\n",
              "  <tbody>\n",
              "    <tr>\n",
              "      <th>0</th>\n",
              "      <td>1472</td>\n",
              "      <td>0.294</td>\n",
              "    </tr>\n",
              "    <tr>\n",
              "      <th>1</th>\n",
              "      <td>1296</td>\n",
              "      <td>0.259</td>\n",
              "    </tr>\n",
              "    <tr>\n",
              "      <th>2</th>\n",
              "      <td>1222</td>\n",
              "      <td>0.244</td>\n",
              "    </tr>\n",
              "    <tr>\n",
              "      <th>3</th>\n",
              "      <td>1010</td>\n",
              "      <td>0.202</td>\n",
              "    </tr>\n",
              "  </tbody>\n",
              "</table>\n",
              "</div>"
            ],
            "text/plain": [
              "   Count  Percentage\n",
              "0   1472       0.294\n",
              "1   1296       0.259\n",
              "2   1222       0.244\n",
              "3   1010       0.202"
            ]
          },
          "metadata": {
            "tags": []
          },
          "execution_count": 94
        }
      ]
    },
    {
      "cell_type": "code",
      "metadata": {
        "id": "0h_AfvSZ6Uwb",
        "colab_type": "code",
        "outputId": "0324fe01-7b92-4bc8-f1bc-1ff1916c4eb4",
        "colab": {
          "base_uri": "https://localhost:8080/",
          "height": 279
        }
      },
      "source": [
        "# Family value per Income grouped by Personal Loan\n",
        "sns.boxplot(x='Family',y='Income',hue='Personal Loan',data=df);"
      ],
      "execution_count": 95,
      "outputs": [
        {
          "output_type": "display_data",
          "data": {
            "image/png": "[encoded data removed]",
            "text/plain": [
              "<Figure size 432x288 with 1 Axes>"
            ]
          },
          "metadata": {
            "tags": [],
            "needs_background": "light"
          }
        }
      ]
    },
    {
      "cell_type": "markdown",
      "metadata": {
        "id": "STQyP2cA0mJR",
        "colab_type": "text"
      },
      "source": [
        "#### 2.4.1.2 Education"
      ]
    },
    {
      "cell_type": "code",
      "metadata": {
        "id": "p9Xz6edk0p0T",
        "colab_type": "code",
        "outputId": "7270929b-0746-4a35-be31-798156df010a",
        "colab": {
          "base_uri": "https://localhost:8080/",
          "height": 138
        }
      },
      "source": [
        "# Education value count and Percetantage\n",
        "education_count = pd.Series(df['Education'].squeeze().values.ravel()).value_counts()\n",
        "pd.DataFrame({'Count':education_count.values, 'Percentage':(education_count/education_count.sum()).values})"
      ],
      "execution_count": 96,
      "outputs": [
        {
          "output_type": "execute_result",
          "data": {
            "text/html": [
              "<div>\n",
              "<style scoped>\n",
              "    .dataframe tbody tr th:only-of-type {\n",
              "        vertical-align: middle;\n",
              "    }\n",
              "\n",
              "    .dataframe tbody tr th {\n",
              "        vertical-align: top;\n",
              "    }\n",
              "\n",
              "    .dataframe thead th {\n",
              "        text-align: right;\n",
              "    }\n",
              "</style>\n",
              "<table border=\"1\" class=\"dataframe\">\n",
              "  <thead>\n",
              "    <tr style=\"text-align: right;\">\n",
              "      <th></th>\n",
              "      <th>Count</th>\n",
              "      <th>Percentage</th>\n",
              "    </tr>\n",
              "  </thead>\n",
              "  <tbody>\n",
              "    <tr>\n",
              "      <th>0</th>\n",
              "      <td>2096</td>\n",
              "      <td>0.419</td>\n",
              "    </tr>\n",
              "    <tr>\n",
              "      <th>1</th>\n",
              "      <td>1501</td>\n",
              "      <td>0.300</td>\n",
              "    </tr>\n",
              "    <tr>\n",
              "      <th>2</th>\n",
              "      <td>1403</td>\n",
              "      <td>0.281</td>\n",
              "    </tr>\n",
              "  </tbody>\n",
              "</table>\n",
              "</div>"
            ],
            "text/plain": [
              "   Count  Percentage\n",
              "0   2096       0.419\n",
              "1   1501       0.300\n",
              "2   1403       0.281"
            ]
          },
          "metadata": {
            "tags": []
          },
          "execution_count": 96
        }
      ]
    },
    {
      "cell_type": "code",
      "metadata": {
        "id": "Yq2I0Eft2TMk",
        "colab_type": "code",
        "outputId": "2c004184-807d-4099-ee4f-99f39e2d2232",
        "colab": {
          "base_uri": "https://localhost:8080/",
          "height": 279
        }
      },
      "source": [
        "# Education degree per Income grouped by Personal Loan\n",
        "sns.boxplot(x='Education',y='Income',hue='Personal Loan',data=df);"
      ],
      "execution_count": 97,
      "outputs": [
        {
          "output_type": "display_data",
          "data": {
            "image/png": "[encoded data removed]",
            "text/plain": [
              "<Figure size 432x288 with 1 Axes>"
            ]
          },
          "metadata": {
            "tags": [],
            "needs_background": "light"
          }
        }
      ]
    },
    {
      "cell_type": "markdown",
      "metadata": {
        "id": "RzXMjzoE15_I",
        "colab_type": "text"
      },
      "source": [
        "2.4.1.3 Personal Loan"
      ]
    },
    {
      "cell_type": "code",
      "metadata": {
        "id": "wEBYSdD21_Tp",
        "colab_type": "code",
        "outputId": "07b6e2f1-346c-4123-abec-2fc874dafe90",
        "colab": {
          "base_uri": "https://localhost:8080/",
          "height": 108
        }
      },
      "source": [
        "# Personal Loan value count and Percetantage\n",
        "personalloan_count = pd.Series(df['Personal Loan'].squeeze().values.ravel()).value_counts()\n",
        "pd.DataFrame({'Count':personalloan_count.values, 'Percentage':(personalloan_count/personalloan_count.sum()).values})"
      ],
      "execution_count": 98,
      "outputs": [
        {
          "output_type": "execute_result",
          "data": {
            "text/html": [
              "<div>\n",
              "<style scoped>\n",
              "    .dataframe tbody tr th:only-of-type {\n",
              "        vertical-align: middle;\n",
              "    }\n",
              "\n",
              "    .dataframe tbody tr th {\n",
              "        vertical-align: top;\n",
              "    }\n",
              "\n",
              "    .dataframe thead th {\n",
              "        text-align: right;\n",
              "    }\n",
              "</style>\n",
              "<table border=\"1\" class=\"dataframe\">\n",
              "  <thead>\n",
              "    <tr style=\"text-align: right;\">\n",
              "      <th></th>\n",
              "      <th>Count</th>\n",
              "      <th>Percentage</th>\n",
              "    </tr>\n",
              "  </thead>\n",
              "  <tbody>\n",
              "    <tr>\n",
              "      <th>0</th>\n",
              "      <td>4520</td>\n",
              "      <td>0.904</td>\n",
              "    </tr>\n",
              "    <tr>\n",
              "      <th>1</th>\n",
              "      <td>480</td>\n",
              "      <td>0.096</td>\n",
              "    </tr>\n",
              "  </tbody>\n",
              "</table>\n",
              "</div>"
            ],
            "text/plain": [
              "   Count  Percentage\n",
              "0   4520       0.904\n",
              "1    480       0.096"
            ]
          },
          "metadata": {
            "tags": []
          },
          "execution_count": 98
        }
      ]
    },
    {
      "cell_type": "code",
      "metadata": {
        "id": "n6wSK14D7SSt",
        "colab_type": "code",
        "outputId": "a964279b-a265-4576-e66e-3d7465b475bd",
        "colab": {
          "base_uri": "https://localhost:8080/",
          "height": 279
        }
      },
      "source": [
        "# Personal Loan plot\n",
        "sns.countplot(x=\"Personal Loan\", data=df);"
      ],
      "execution_count": 99,
      "outputs": [
        {
          "output_type": "display_data",
          "data": {
            "image/png": "[encoded data removed]",
            "text/plain": [
              "<Figure size 432x288 with 1 Axes>"
            ]
          },
          "metadata": {
            "tags": [],
            "needs_background": "light"
          }
        }
      ]
    },
    {
      "cell_type": "markdown",
      "metadata": {
        "colab_type": "text",
        "id": "hw0EDrxp9PeM"
      },
      "source": [
        "###### This is a assimetry distribution in Personal Loan "
      ]
    },
    {
      "cell_type": "markdown",
      "metadata": {
        "id": "71JwXigT8ciI",
        "colab_type": "text"
      },
      "source": [
        "#### 2.4.1.4 Securities Account"
      ]
    },
    {
      "cell_type": "code",
      "metadata": {
        "id": "32uMrHfn8iZ7",
        "colab_type": "code",
        "outputId": "8eed5fba-e9cb-41b6-8272-58158b52e9e7",
        "colab": {
          "base_uri": "https://localhost:8080/",
          "height": 108
        }
      },
      "source": [
        "securitiesaccount_count = pd.Series(df['Securities Account'].squeeze().values.ravel()).value_counts()\n",
        "pd.DataFrame({'Count':securitiesaccount_count.values, 'Percentage':(securitiesaccount_count/securitiesaccount_count.sum()).values})"
      ],
      "execution_count": 100,
      "outputs": [
        {
          "output_type": "execute_result",
          "data": {
            "text/html": [
              "<div>\n",
              "<style scoped>\n",
              "    .dataframe tbody tr th:only-of-type {\n",
              "        vertical-align: middle;\n",
              "    }\n",
              "\n",
              "    .dataframe tbody tr th {\n",
              "        vertical-align: top;\n",
              "    }\n",
              "\n",
              "    .dataframe thead th {\n",
              "        text-align: right;\n",
              "    }\n",
              "</style>\n",
              "<table border=\"1\" class=\"dataframe\">\n",
              "  <thead>\n",
              "    <tr style=\"text-align: right;\">\n",
              "      <th></th>\n",
              "      <th>Count</th>\n",
              "      <th>Percentage</th>\n",
              "    </tr>\n",
              "  </thead>\n",
              "  <tbody>\n",
              "    <tr>\n",
              "      <th>0</th>\n",
              "      <td>4478</td>\n",
              "      <td>0.896</td>\n",
              "    </tr>\n",
              "    <tr>\n",
              "      <th>1</th>\n",
              "      <td>522</td>\n",
              "      <td>0.104</td>\n",
              "    </tr>\n",
              "  </tbody>\n",
              "</table>\n",
              "</div>"
            ],
            "text/plain": [
              "   Count  Percentage\n",
              "0   4478       0.896\n",
              "1    522       0.104"
            ]
          },
          "metadata": {
            "tags": []
          },
          "execution_count": 100
        }
      ]
    },
    {
      "cell_type": "code",
      "metadata": {
        "id": "YJ_YPpmI8rz_",
        "colab_type": "code",
        "outputId": "4b6fcf69-272a-429b-db2b-1e6feea185af",
        "colab": {
          "base_uri": "https://localhost:8080/",
          "height": 279
        }
      },
      "source": [
        "# Security Account plot\n",
        "sns.countplot(x=\"Securities Account\", data=df,hue=\"Personal Loan\");"
      ],
      "execution_count": 101,
      "outputs": [
        {
          "output_type": "display_data",
          "data": {
            "image/png": "[encoded data removed]",
            "text/plain": [
              "<Figure size 432x288 with 1 Axes>"
            ]
          },
          "metadata": {
            "tags": [],
            "needs_background": "light"
          }
        }
      ]
    },
    {
      "cell_type": "markdown",
      "metadata": {
        "id": "D1DJxziT7gXd",
        "colab_type": "text"
      },
      "source": [
        "###### This is a assimetry distribution in Security Account and\n",
        "###### The majority of customers who doesn´t have loan have securities account"
      ]
    },
    {
      "cell_type": "markdown",
      "metadata": {
        "id": "cT6zN0x_9g8w",
        "colab_type": "text"
      },
      "source": [
        "#### 2.4.1.5 CD Account"
      ]
    },
    {
      "cell_type": "code",
      "metadata": {
        "id": "m9ReVVs79mRR",
        "colab_type": "code",
        "outputId": "ae628fc1-8bba-435b-d275-1d44242dac51",
        "colab": {
          "base_uri": "https://localhost:8080/",
          "height": 108
        }
      },
      "source": [
        "# CD Account count value and Percentage\n",
        "cdaccount_count = pd.Series(df['CD Account'].squeeze().values.ravel()).value_counts()\n",
        "pd.DataFrame({'Count':cdaccount_count.values, 'Percentage':(cdaccount_count/cdaccount_count.sum()).values})"
      ],
      "execution_count": 102,
      "outputs": [
        {
          "output_type": "execute_result",
          "data": {
            "text/html": [
              "<div>\n",
              "<style scoped>\n",
              "    .dataframe tbody tr th:only-of-type {\n",
              "        vertical-align: middle;\n",
              "    }\n",
              "\n",
              "    .dataframe tbody tr th {\n",
              "        vertical-align: top;\n",
              "    }\n",
              "\n",
              "    .dataframe thead th {\n",
              "        text-align: right;\n",
              "    }\n",
              "</style>\n",
              "<table border=\"1\" class=\"dataframe\">\n",
              "  <thead>\n",
              "    <tr style=\"text-align: right;\">\n",
              "      <th></th>\n",
              "      <th>Count</th>\n",
              "      <th>Percentage</th>\n",
              "    </tr>\n",
              "  </thead>\n",
              "  <tbody>\n",
              "    <tr>\n",
              "      <th>0</th>\n",
              "      <td>4698</td>\n",
              "      <td>0.94</td>\n",
              "    </tr>\n",
              "    <tr>\n",
              "      <th>1</th>\n",
              "      <td>302</td>\n",
              "      <td>0.06</td>\n",
              "    </tr>\n",
              "  </tbody>\n",
              "</table>\n",
              "</div>"
            ],
            "text/plain": [
              "   Count  Percentage\n",
              "0   4698        0.94\n",
              "1    302        0.06"
            ]
          },
          "metadata": {
            "tags": []
          },
          "execution_count": 102
        }
      ]
    },
    {
      "cell_type": "code",
      "metadata": {
        "id": "GxuTvfRv-9u6",
        "colab_type": "code",
        "outputId": "dfd6e036-25b6-4e9a-ec94-1e34aee989d6",
        "colab": {
          "base_uri": "https://localhost:8080/",
          "height": 279
        }
      },
      "source": [
        "# CD Account plot\n",
        "sns.countplot(x='CD Account', data=df,hue=\"Personal Loan\");"
      ],
      "execution_count": 103,
      "outputs": [
        {
          "output_type": "display_data",
          "data": {
            "image/png": "[encoded data removed]",
            "text/plain": [
              "<Figure size 432x288 with 1 Axes>"
            ]
          },
          "metadata": {
            "tags": [],
            "needs_background": "light"
          }
        }
      ]
    },
    {
      "cell_type": "markdown",
      "metadata": {
        "colab_type": "text",
        "id": "rZtmB4AV-BAr"
      },
      "source": [
        "#### 2.4.1.6 Online"
      ]
    },
    {
      "cell_type": "code",
      "metadata": {
        "id": "mSg9AwPo9yUM",
        "colab_type": "code",
        "outputId": "40778ce1-0f32-4990-ff3e-c8b31476a1dd",
        "colab": {
          "base_uri": "https://localhost:8080/",
          "height": 108
        }
      },
      "source": [
        "# Online count value and Percentage\n",
        "online_count = pd.Series(df['Online'].squeeze().values.ravel()).value_counts()\n",
        "pd.DataFrame({'Count':online_count.values, 'Percentage':(online_count/online_count.sum()).values})"
      ],
      "execution_count": 104,
      "outputs": [
        {
          "output_type": "execute_result",
          "data": {
            "text/html": [
              "<div>\n",
              "<style scoped>\n",
              "    .dataframe tbody tr th:only-of-type {\n",
              "        vertical-align: middle;\n",
              "    }\n",
              "\n",
              "    .dataframe tbody tr th {\n",
              "        vertical-align: top;\n",
              "    }\n",
              "\n",
              "    .dataframe thead th {\n",
              "        text-align: right;\n",
              "    }\n",
              "</style>\n",
              "<table border=\"1\" class=\"dataframe\">\n",
              "  <thead>\n",
              "    <tr style=\"text-align: right;\">\n",
              "      <th></th>\n",
              "      <th>Count</th>\n",
              "      <th>Percentage</th>\n",
              "    </tr>\n",
              "  </thead>\n",
              "  <tbody>\n",
              "    <tr>\n",
              "      <th>0</th>\n",
              "      <td>2984</td>\n",
              "      <td>0.597</td>\n",
              "    </tr>\n",
              "    <tr>\n",
              "      <th>1</th>\n",
              "      <td>2016</td>\n",
              "      <td>0.403</td>\n",
              "    </tr>\n",
              "  </tbody>\n",
              "</table>\n",
              "</div>"
            ],
            "text/plain": [
              "   Count  Percentage\n",
              "0   2984       0.597\n",
              "1   2016       0.403"
            ]
          },
          "metadata": {
            "tags": []
          },
          "execution_count": 104
        }
      ]
    },
    {
      "cell_type": "code",
      "metadata": {
        "id": "uIub0pCH_rTR",
        "colab_type": "code",
        "outputId": "815ef70c-306e-4e11-d634-c925ea8eb9ce",
        "colab": {
          "base_uri": "https://localhost:8080/",
          "height": 279
        }
      },
      "source": [
        "# Online plot\n",
        "sns.countplot(x='Online', data=df,hue=\"Personal Loan\");"
      ],
      "execution_count": 105,
      "outputs": [
        {
          "output_type": "display_data",
          "data": {
            "image/png": "[encoded data removed]",
            "text/plain": [
              "<Figure size 432x288 with 1 Axes>"
            ]
          },
          "metadata": {
            "tags": [],
            "needs_background": "light"
          }
        }
      ]
    },
    {
      "cell_type": "markdown",
      "metadata": {
        "id": "SzsFJo6n-P-c",
        "colab_type": "text"
      },
      "source": [
        "#### 2.4.1.7 CreditCard"
      ]
    },
    {
      "cell_type": "code",
      "metadata": {
        "id": "qj4ish0j-XUQ",
        "colab_type": "code",
        "outputId": "948007f7-ecaa-4a13-ae66-ef612a8d10f8",
        "colab": {
          "base_uri": "https://localhost:8080/",
          "height": 108
        }
      },
      "source": [
        "# Online count value and Percentage\n",
        "creditcard_count = pd.Series(df['CreditCard'].squeeze().values.ravel()).value_counts()\n",
        "pd.DataFrame({'Count':creditcard_count.values, 'Percentage':(creditcard_count/creditcard_count.sum()).values})"
      ],
      "execution_count": 106,
      "outputs": [
        {
          "output_type": "execute_result",
          "data": {
            "text/html": [
              "<div>\n",
              "<style scoped>\n",
              "    .dataframe tbody tr th:only-of-type {\n",
              "        vertical-align: middle;\n",
              "    }\n",
              "\n",
              "    .dataframe tbody tr th {\n",
              "        vertical-align: top;\n",
              "    }\n",
              "\n",
              "    .dataframe thead th {\n",
              "        text-align: right;\n",
              "    }\n",
              "</style>\n",
              "<table border=\"1\" class=\"dataframe\">\n",
              "  <thead>\n",
              "    <tr style=\"text-align: right;\">\n",
              "      <th></th>\n",
              "      <th>Count</th>\n",
              "      <th>Percentage</th>\n",
              "    </tr>\n",
              "  </thead>\n",
              "  <tbody>\n",
              "    <tr>\n",
              "      <th>0</th>\n",
              "      <td>3530</td>\n",
              "      <td>0.706</td>\n",
              "    </tr>\n",
              "    <tr>\n",
              "      <th>1</th>\n",
              "      <td>1470</td>\n",
              "      <td>0.294</td>\n",
              "    </tr>\n",
              "  </tbody>\n",
              "</table>\n",
              "</div>"
            ],
            "text/plain": [
              "   Count  Percentage\n",
              "0   3530       0.706\n",
              "1   1470       0.294"
            ]
          },
          "metadata": {
            "tags": []
          },
          "execution_count": 106
        }
      ]
    },
    {
      "cell_type": "code",
      "metadata": {
        "id": "jmD0SLyP_0RM",
        "colab_type": "code",
        "outputId": "33374ab1-77da-4747-d256-939f9dcee2de",
        "colab": {
          "base_uri": "https://localhost:8080/",
          "height": 279
        }
      },
      "source": [
        "# Credit Card plot\n",
        "sns.countplot(x='CreditCard', data=df,hue=\"Personal Loan\");"
      ],
      "execution_count": 107,
      "outputs": [
        {
          "output_type": "display_data",
          "data": {
            "image/png": "[encoded data removed]",
            "text/plain": [
              "<Figure size 432x288 with 1 Axes>"
            ]
          },
          "metadata": {
            "tags": [],
            "needs_background": "light"
          }
        }
      ]
    },
    {
      "cell_type": "markdown",
      "metadata": {
        "id": "CmIECjZ5C4XX",
        "colab_type": "text"
      },
      "source": [
        "#### 2.5.2 Numerical data "
      ]
    },
    {
      "cell_type": "markdown",
      "metadata": {
        "id": "sMFiXw8CHHyd",
        "colab_type": "text"
      },
      "source": [
        "2.5.2.1 Income "
      ]
    },
    {
      "cell_type": "code",
      "metadata": {
        "id": "nLqXdyGnHLgE",
        "colab_type": "code",
        "outputId": "d210c626-463d-4535-93be-8038fabe855c",
        "colab": {
          "base_uri": "https://localhost:8080/",
          "height": 279
        }
      },
      "source": [
        "# Histogram plot for Income distribution by Personal Loan\n",
        "sns.distplot(df[df[\"Personal Loan\"] == 0]['Income'], color = 'b')\n",
        "sns.distplot(df[df[\"Personal Loan\"] == 1]['Income'], color = 'y');"
      ],
      "execution_count": 108,
      "outputs": [
        {
          "output_type": "display_data",
          "data": {
            "image/png": "[encoded data removed]",
            "text/plain": [
              "<Figure size 432x288 with 1 Axes>"
            ]
          },
          "metadata": {
            "tags": [],
            "needs_background": "light"
          }
        }
      ]
    },
    {
      "cell_type": "markdown",
      "metadata": {
        "id": "t_XQHdZWHd-M",
        "colab_type": "text"
      },
      "source": [
        "The graph show those who have personal loan also have a higher income."
      ]
    },
    {
      "cell_type": "markdown",
      "metadata": {
        "id": "UNOHYg_kDotx",
        "colab_type": "text"
      },
      "source": [
        "##### Checking for correlation"
      ]
    },
    {
      "cell_type": "code",
      "metadata": {
        "id": "XlibtuwxC-WD",
        "colab_type": "code",
        "outputId": "4c120ce4-b5f6-4c9d-eacf-795c81f8cb09",
        "colab": {
          "base_uri": "https://localhost:8080/",
          "height": 198
        }
      },
      "source": [
        "# check correlation between personal loan and numerical variables\n",
        "df[['Personal Loan', 'Age', 'Income', 'CCAvg', 'Mortgage']].corr()"
      ],
      "execution_count": 109,
      "outputs": [
        {
          "output_type": "execute_result",
          "data": {
            "text/html": [
              "<div>\n",
              "<style scoped>\n",
              "    .dataframe tbody tr th:only-of-type {\n",
              "        vertical-align: middle;\n",
              "    }\n",
              "\n",
              "    .dataframe tbody tr th {\n",
              "        vertical-align: top;\n",
              "    }\n",
              "\n",
              "    .dataframe thead th {\n",
              "        text-align: right;\n",
              "    }\n",
              "</style>\n",
              "<table border=\"1\" class=\"dataframe\">\n",
              "  <thead>\n",
              "    <tr style=\"text-align: right;\">\n",
              "      <th></th>\n",
              "      <th>Personal Loan</th>\n",
              "      <th>Age</th>\n",
              "      <th>Income</th>\n",
              "      <th>CCAvg</th>\n",
              "      <th>Mortgage</th>\n",
              "    </tr>\n",
              "  </thead>\n",
              "  <tbody>\n",
              "    <tr>\n",
              "      <th>Personal Loan</th>\n",
              "      <td>1.000</td>\n",
              "      <td>-0.008</td>\n",
              "      <td>0.502</td>\n",
              "      <td>0.367</td>\n",
              "      <td>0.142</td>\n",
              "    </tr>\n",
              "    <tr>\n",
              "      <th>Age</th>\n",
              "      <td>-0.008</td>\n",
              "      <td>1.000</td>\n",
              "      <td>-0.055</td>\n",
              "      <td>-0.052</td>\n",
              "      <td>-0.013</td>\n",
              "    </tr>\n",
              "    <tr>\n",
              "      <th>Income</th>\n",
              "      <td>0.502</td>\n",
              "      <td>-0.055</td>\n",
              "      <td>1.000</td>\n",
              "      <td>0.646</td>\n",
              "      <td>0.207</td>\n",
              "    </tr>\n",
              "    <tr>\n",
              "      <th>CCAvg</th>\n",
              "      <td>0.367</td>\n",
              "      <td>-0.052</td>\n",
              "      <td>0.646</td>\n",
              "      <td>1.000</td>\n",
              "      <td>0.110</td>\n",
              "    </tr>\n",
              "    <tr>\n",
              "      <th>Mortgage</th>\n",
              "      <td>0.142</td>\n",
              "      <td>-0.013</td>\n",
              "      <td>0.207</td>\n",
              "      <td>0.110</td>\n",
              "      <td>1.000</td>\n",
              "    </tr>\n",
              "  </tbody>\n",
              "</table>\n",
              "</div>"
            ],
            "text/plain": [
              "               Personal Loan    Age  Income  CCAvg  Mortgage\n",
              "Personal Loan          1.000 -0.008   0.502  0.367     0.142\n",
              "Age                   -0.008  1.000  -0.055 -0.052    -0.013\n",
              "Income                 0.502 -0.055   1.000  0.646     0.207\n",
              "CCAvg                  0.367 -0.052   0.646  1.000     0.110\n",
              "Mortgage               0.142 -0.013   0.207  0.110     1.000"
            ]
          },
          "metadata": {
            "tags": []
          },
          "execution_count": 109
        }
      ]
    },
    {
      "cell_type": "code",
      "metadata": {
        "id": "UTPhs1eIDiqI",
        "colab_type": "code",
        "outputId": "44c0cb11-5cd6-42b6-c73e-7307f898a7af",
        "colab": {
          "base_uri": "https://localhost:8080/",
          "height": 269
        }
      },
      "source": [
        "# correlation heatmap between personal loan and numerical variables\n",
        "sns.heatmap(df[['Personal Loan', 'Age', 'Income', 'CCAvg', 'Mortgage']].corr(), annot = True);"
      ],
      "execution_count": 110,
      "outputs": [
        {
          "output_type": "display_data",
          "data": {
            "image/png": "[encoded data removed]",
            "text/plain": [
              "<Figure size 432x288 with 2 Axes>"
            ]
          },
          "metadata": {
            "tags": [],
            "needs_background": "light"
          }
        }
      ]
    },
    {
      "cell_type": "code",
      "metadata": {
        "id": "_sovljsOD564",
        "colab_type": "code",
        "outputId": "4ef64af7-8c96-4f2b-b4ca-f2fc2266f131",
        "colab": {
          "base_uri": "https://localhost:8080/",
          "height": 303
        }
      },
      "source": [
        "df[['Personal Loan', 'Age', 'Income', 'CCAvg', 'Mortgage']].corr()['Personal Loan'][1:].plot.bar();"
      ],
      "execution_count": 111,
      "outputs": [
        {
          "output_type": "display_data",
          "data": {
            "image/png": "[encoded data removed]",
            "text/plain": [
              "<Figure size 432x288 with 1 Axes>"
            ]
          },
          "metadata": {
            "tags": [],
            "needs_background": "light"
          }
        }
      ]
    },
    {
      "cell_type": "markdown",
      "metadata": {
        "id": "KQQxe7MXEAns",
        "colab_type": "text"
      },
      "source": [
        "###### There is a high correlation between the independant variable and dependant variables as we see in 'Income' and 'Credit Card Average' has some correlation with 'Personal Loan'."
      ]
    },
    {
      "cell_type": "code",
      "metadata": {
        "id": "1akQysC_Mp83",
        "colab_type": "code",
        "outputId": "e861bca4-f86a-4e5c-cb06-fa2acfbf31f7",
        "colab": {
          "base_uri": "https://localhost:8080/",
          "height": 310
        }
      },
      "source": [
        "bins= [23, 35, 45, 55, 65]                            # Create 4 age bins\n",
        "group= ['Young', 'Youth', 'Medium', 'Old']            # Name the age bins\n",
        "df['Age_bin']=pd.cut(df['Age'], bins, labels= group ) # Converting numeric into categorical variable\n",
        "age= pd.crosstab(df['Age_bin'], df['Personal Loan']) \n",
        "age.div(age.sum(1).astype(float), axis=0).plot(kind='bar', stacked= True);"
      ],
      "execution_count": 112,
      "outputs": [
        {
          "output_type": "display_data",
          "data": {
            "image/png": "[encoded data removed]",
            "text/plain": [
              "<Figure size 432x288 with 1 Axes>"
            ]
          },
          "metadata": {
            "tags": [],
            "needs_background": "light"
          }
        }
      ]
    },
    {
      "cell_type": "markdown",
      "metadata": {
        "id": "9c4ukG5vOV0T",
        "colab_type": "text"
      },
      "source": [
        "###### Applicant age-goup does not affect the chances of buying the personal loan"
      ]
    },
    {
      "cell_type": "code",
      "metadata": {
        "id": "1NgNIEwSLhx_",
        "colab_type": "code",
        "outputId": "b02db112-4b0d-4fb0-94d3-3347b4dc89b0",
        "colab": {
          "base_uri": "https://localhost:8080/",
          "height": 276
        }
      },
      "source": [
        "df.groupby('Personal Loan')['CCAvg'].mean().plot(kind='bar');"
      ],
      "execution_count": 113,
      "outputs": [
        {
          "output_type": "display_data",
          "data": {
            "image/png": "[encoded data removed]",
            "text/plain": [
              "<Figure size 432x288 with 1 Axes>"
            ]
          },
          "metadata": {
            "tags": [],
            "needs_background": "light"
          }
        }
      ]
    },
    {
      "cell_type": "markdown",
      "metadata": {
        "id": "X7eO5asxL0ag",
        "colab_type": "text"
      },
      "source": [
        "###### It can be clearly seen that applicants who spend more on credit cards are more viable to buy personal loans"
      ]
    },
    {
      "cell_type": "markdown",
      "metadata": {
        "id": "P97nI_vPAFzu",
        "colab_type": "text"
      },
      "source": [
        "### 2.6 Get data model ready"
      ]
    },
    {
      "cell_type": "code",
      "metadata": {
        "id": "DkNzT95YFgx7",
        "colab_type": "code",
        "outputId": "d3826d78-3430-42ae-a935-d768cbcbedda",
        "colab": {
          "base_uri": "https://localhost:8080/",
          "height": 288
        }
      },
      "source": [
        "data.describe()"
      ],
      "execution_count": 114,
      "outputs": [
        {
          "output_type": "execute_result",
          "data": {
            "text/html": [
              "<div>\n",
              "<style scoped>\n",
              "    .dataframe tbody tr th:only-of-type {\n",
              "        vertical-align: middle;\n",
              "    }\n",
              "\n",
              "    .dataframe tbody tr th {\n",
              "        vertical-align: top;\n",
              "    }\n",
              "\n",
              "    .dataframe thead th {\n",
              "        text-align: right;\n",
              "    }\n",
              "</style>\n",
              "<table border=\"1\" class=\"dataframe\">\n",
              "  <thead>\n",
              "    <tr style=\"text-align: right;\">\n",
              "      <th></th>\n",
              "      <th>ID</th>\n",
              "      <th>Age</th>\n",
              "      <th>Experience</th>\n",
              "      <th>Income</th>\n",
              "      <th>ZIP Code</th>\n",
              "      <th>Family</th>\n",
              "      <th>CCAvg</th>\n",
              "      <th>Education</th>\n",
              "      <th>Mortgage</th>\n",
              "      <th>Personal Loan</th>\n",
              "      <th>Securities Account</th>\n",
              "      <th>CD Account</th>\n",
              "      <th>Online</th>\n",
              "      <th>CreditCard</th>\n",
              "    </tr>\n",
              "  </thead>\n",
              "  <tbody>\n",
              "    <tr>\n",
              "      <th>count</th>\n",
              "      <td>5000.00</td>\n",
              "      <td>5000.000</td>\n",
              "      <td>5000.000</td>\n",
              "      <td>5000.000</td>\n",
              "      <td>5000.000</td>\n",
              "      <td>5000.000</td>\n",
              "      <td>5000.000</td>\n",
              "      <td>5000.000</td>\n",
              "      <td>5000.000</td>\n",
              "      <td>5000.000</td>\n",
              "      <td>5000.000</td>\n",
              "      <td>5000.000</td>\n",
              "      <td>5000.000</td>\n",
              "      <td>5000.000</td>\n",
              "    </tr>\n",
              "    <tr>\n",
              "      <th>mean</th>\n",
              "      <td>2500.50</td>\n",
              "      <td>45.338</td>\n",
              "      <td>20.105</td>\n",
              "      <td>73.774</td>\n",
              "      <td>93152.503</td>\n",
              "      <td>2.396</td>\n",
              "      <td>1.938</td>\n",
              "      <td>1.881</td>\n",
              "      <td>56.499</td>\n",
              "      <td>0.096</td>\n",
              "      <td>0.104</td>\n",
              "      <td>0.060</td>\n",
              "      <td>0.597</td>\n",
              "      <td>0.294</td>\n",
              "    </tr>\n",
              "    <tr>\n",
              "      <th>std</th>\n",
              "      <td>1443.52</td>\n",
              "      <td>11.463</td>\n",
              "      <td>11.468</td>\n",
              "      <td>46.034</td>\n",
              "      <td>2121.852</td>\n",
              "      <td>1.148</td>\n",
              "      <td>1.748</td>\n",
              "      <td>0.840</td>\n",
              "      <td>101.714</td>\n",
              "      <td>0.295</td>\n",
              "      <td>0.306</td>\n",
              "      <td>0.238</td>\n",
              "      <td>0.491</td>\n",
              "      <td>0.456</td>\n",
              "    </tr>\n",
              "    <tr>\n",
              "      <th>min</th>\n",
              "      <td>1.00</td>\n",
              "      <td>23.000</td>\n",
              "      <td>-3.000</td>\n",
              "      <td>8.000</td>\n",
              "      <td>9307.000</td>\n",
              "      <td>1.000</td>\n",
              "      <td>0.000</td>\n",
              "      <td>1.000</td>\n",
              "      <td>0.000</td>\n",
              "      <td>0.000</td>\n",
              "      <td>0.000</td>\n",
              "      <td>0.000</td>\n",
              "      <td>0.000</td>\n",
              "      <td>0.000</td>\n",
              "    </tr>\n",
              "    <tr>\n",
              "      <th>25%</th>\n",
              "      <td>1250.75</td>\n",
              "      <td>35.000</td>\n",
              "      <td>10.000</td>\n",
              "      <td>39.000</td>\n",
              "      <td>91911.000</td>\n",
              "      <td>1.000</td>\n",
              "      <td>0.700</td>\n",
              "      <td>1.000</td>\n",
              "      <td>0.000</td>\n",
              "      <td>0.000</td>\n",
              "      <td>0.000</td>\n",
              "      <td>0.000</td>\n",
              "      <td>0.000</td>\n",
              "      <td>0.000</td>\n",
              "    </tr>\n",
              "    <tr>\n",
              "      <th>50%</th>\n",
              "      <td>2500.50</td>\n",
              "      <td>45.000</td>\n",
              "      <td>20.000</td>\n",
              "      <td>64.000</td>\n",
              "      <td>93437.000</td>\n",
              "      <td>2.000</td>\n",
              "      <td>1.500</td>\n",
              "      <td>2.000</td>\n",
              "      <td>0.000</td>\n",
              "      <td>0.000</td>\n",
              "      <td>0.000</td>\n",
              "      <td>0.000</td>\n",
              "      <td>1.000</td>\n",
              "      <td>0.000</td>\n",
              "    </tr>\n",
              "    <tr>\n",
              "      <th>75%</th>\n",
              "      <td>3750.25</td>\n",
              "      <td>55.000</td>\n",
              "      <td>30.000</td>\n",
              "      <td>98.000</td>\n",
              "      <td>94608.000</td>\n",
              "      <td>3.000</td>\n",
              "      <td>2.500</td>\n",
              "      <td>3.000</td>\n",
              "      <td>101.000</td>\n",
              "      <td>0.000</td>\n",
              "      <td>0.000</td>\n",
              "      <td>0.000</td>\n",
              "      <td>1.000</td>\n",
              "      <td>1.000</td>\n",
              "    </tr>\n",
              "    <tr>\n",
              "      <th>max</th>\n",
              "      <td>5000.00</td>\n",
              "      <td>67.000</td>\n",
              "      <td>43.000</td>\n",
              "      <td>224.000</td>\n",
              "      <td>96651.000</td>\n",
              "      <td>4.000</td>\n",
              "      <td>10.000</td>\n",
              "      <td>3.000</td>\n",
              "      <td>635.000</td>\n",
              "      <td>1.000</td>\n",
              "      <td>1.000</td>\n",
              "      <td>1.000</td>\n",
              "      <td>1.000</td>\n",
              "      <td>1.000</td>\n",
              "    </tr>\n",
              "  </tbody>\n",
              "</table>\n",
              "</div>"
            ],
            "text/plain": [
              "            ID       Age  Experience    Income   ZIP Code    Family     CCAvg  Education  Mortgage  Personal Loan  Securities Account  CD Account    Online  CreditCard\n",
              "count  5000.00  5000.000    5000.000  5000.000   5000.000  5000.000  5000.000   5000.000  5000.000       5000.000            5000.000    5000.000  5000.000    5000.000\n",
              "mean   2500.50    45.338      20.105    73.774  93152.503     2.396     1.938      1.881    56.499          0.096               0.104       0.060     0.597       0.294\n",
              "std    1443.52    11.463      11.468    46.034   2121.852     1.148     1.748      0.840   101.714          0.295               0.306       0.238     0.491       0.456\n",
              "min       1.00    23.000      -3.000     8.000   9307.000     1.000     0.000      1.000     0.000          0.000               0.000       0.000     0.000       0.000\n",
              "25%    1250.75    35.000      10.000    39.000  91911.000     1.000     0.700      1.000     0.000          0.000               0.000       0.000     0.000       0.000\n",
              "50%    2500.50    45.000      20.000    64.000  93437.000     2.000     1.500      2.000     0.000          0.000               0.000       0.000     1.000       0.000\n",
              "75%    3750.25    55.000      30.000    98.000  94608.000     3.000     2.500      3.000   101.000          0.000               0.000       0.000     1.000       1.000\n",
              "max    5000.00    67.000      43.000   224.000  96651.000     4.000    10.000      3.000   635.000          1.000               1.000       1.000     1.000       1.000"
            ]
          },
          "metadata": {
            "tags": []
          },
          "execution_count": 114
        }
      ]
    },
    {
      "cell_type": "code",
      "metadata": {
        "id": "sjZgznDPER6k",
        "colab_type": "code",
        "colab": {}
      },
      "source": [
        "# Lets drop some categorical and numerical columns without Personal Loan correlation\n",
        "cleaned_df = data.drop(['ID', 'Age', 'Experience', 'ZIP Code', 'Family', 'Education', 'Securities Account', 'CD Account', 'Online', 'CreditCard'], axis=1)"
      ],
      "execution_count": 0,
      "outputs": []
    },
    {
      "cell_type": "code",
      "metadata": {
        "id": "UJb5zSd1GTHn",
        "colab_type": "code",
        "outputId": "79fa1b07-e22e-4e9d-db44-c0d3a750cab6",
        "colab": {
          "base_uri": "https://localhost:8080/",
          "height": 198
        }
      },
      "source": [
        "#  Rearranging the columns orders for bringing the \"Personal Loan \" to the end of the dataframe.\n",
        "personal_loan = cleaned_df['Personal Loan']\n",
        "cleaned_df.drop(['Personal Loan'], axis = 1,inplace = True)\n",
        "cleaned_df['Personal Loan'] = personal_loan\n",
        "cleaned_df.head()"
      ],
      "execution_count": 116,
      "outputs": [
        {
          "output_type": "execute_result",
          "data": {
            "text/html": [
              "<div>\n",
              "<style scoped>\n",
              "    .dataframe tbody tr th:only-of-type {\n",
              "        vertical-align: middle;\n",
              "    }\n",
              "\n",
              "    .dataframe tbody tr th {\n",
              "        vertical-align: top;\n",
              "    }\n",
              "\n",
              "    .dataframe thead th {\n",
              "        text-align: right;\n",
              "    }\n",
              "</style>\n",
              "<table border=\"1\" class=\"dataframe\">\n",
              "  <thead>\n",
              "    <tr style=\"text-align: right;\">\n",
              "      <th></th>\n",
              "      <th>Income</th>\n",
              "      <th>CCAvg</th>\n",
              "      <th>Mortgage</th>\n",
              "      <th>Personal Loan</th>\n",
              "    </tr>\n",
              "  </thead>\n",
              "  <tbody>\n",
              "    <tr>\n",
              "      <th>0</th>\n",
              "      <td>49</td>\n",
              "      <td>1.6</td>\n",
              "      <td>0</td>\n",
              "      <td>0</td>\n",
              "    </tr>\n",
              "    <tr>\n",
              "      <th>1</th>\n",
              "      <td>34</td>\n",
              "      <td>1.5</td>\n",
              "      <td>0</td>\n",
              "      <td>0</td>\n",
              "    </tr>\n",
              "    <tr>\n",
              "      <th>2</th>\n",
              "      <td>11</td>\n",
              "      <td>1.0</td>\n",
              "      <td>0</td>\n",
              "      <td>0</td>\n",
              "    </tr>\n",
              "    <tr>\n",
              "      <th>3</th>\n",
              "      <td>100</td>\n",
              "      <td>2.7</td>\n",
              "      <td>0</td>\n",
              "      <td>0</td>\n",
              "    </tr>\n",
              "    <tr>\n",
              "      <th>4</th>\n",
              "      <td>45</td>\n",
              "      <td>1.0</td>\n",
              "      <td>0</td>\n",
              "      <td>0</td>\n",
              "    </tr>\n",
              "  </tbody>\n",
              "</table>\n",
              "</div>"
            ],
            "text/plain": [
              "   Income  CCAvg  Mortgage  Personal Loan\n",
              "0      49    1.6         0              0\n",
              "1      34    1.5         0              0\n",
              "2      11    1.0         0              0\n",
              "3     100    2.7         0              0\n",
              "4      45    1.0         0              0"
            ]
          },
          "metadata": {
            "tags": []
          },
          "execution_count": 116
        }
      ]
    },
    {
      "cell_type": "markdown",
      "metadata": {
        "id": "-wtFrAfFD02h",
        "colab_type": "text"
      },
      "source": [
        "#### Bivariate Resume"
      ]
    },
    {
      "cell_type": "code",
      "metadata": {
        "id": "xdoYUUsaDyr_",
        "colab_type": "code",
        "outputId": "4230bd84-df33-4750-e951-3c3941d9e905",
        "colab": {
          "base_uri": "https://localhost:8080/",
          "height": 567
        }
      },
      "source": [
        "# Data distribution using Personal Loan as hue:\n",
        "sns.pairplot(cleaned_df, hue='Personal Loan');"
      ],
      "execution_count": 117,
      "outputs": [
        {
          "output_type": "display_data",
          "data": {
            "image/png": "[encoded data removed]",
            "text/plain": [
              "<Figure size 617.5x540 with 12 Axes>"
            ]
          },
          "metadata": {
            "tags": [],
            "needs_background": "light"
          }
        }
      ]
    },
    {
      "cell_type": "markdown",
      "metadata": {
        "id": "r6LEu4Z1AcXn",
        "colab_type": "text"
      },
      "source": [
        "### 3. Split the data into training and test seting the ratio of 70:30 respectively (5marks)"
      ]
    },
    {
      "cell_type": "code",
      "metadata": {
        "id": "lQ59f7PMAbAx",
        "colab_type": "code",
        "colab": {}
      },
      "source": [
        "X = cleaned_df.drop('Personal Loan', axis=1) # define X variable\n",
        "y = cleaned_df['Personal Loan']              # define y variable  \n",
        "\n",
        "X_train, X_test, y_train, y_test = train_test_split(X, y, test_size=0.3, random_state=7, stratify=y, shuffle=True)  # Split the data using sklearn and stratified shuffle split"
      ],
      "execution_count": 0,
      "outputs": []
    },
    {
      "cell_type": "code",
      "metadata": {
        "id": "DBEYoGmGEaE0",
        "colab_type": "code",
        "outputId": "0db9b8ab-d3d7-4143-f8f0-cee049ede091",
        "colab": {
          "base_uri": "https://localhost:8080/",
          "height": 54
        }
      },
      "source": [
        "print(\"The training set has {0:0.2f}% of the cleaned data\".format((len(X_train)/len(cleaned_df.index)) * 100))\n",
        "print(\"The test set has {0:0.2f}% of the cleaned data\".format((len(X_test)/len(cleaned_df.index)) * 100))"
      ],
      "execution_count": 119,
      "outputs": [
        {
          "output_type": "stream",
          "text": [
            "The training set has 70.00% of the cleaned data\n",
            "The test set has 30.00% of the cleaned data\n"
          ],
          "name": "stdout"
        }
      ]
    },
    {
      "cell_type": "markdown",
      "metadata": {
        "id": "D85hlrFAAk76",
        "colab_type": "text"
      },
      "source": [
        "#### 4. Logistic Regression model to predict the number of a customer buying personal loans. Print all the metrics related for evaluating the model performance (15marks)"
      ]
    },
    {
      "cell_type": "code",
      "metadata": {
        "id": "GIAQrEi5B1aQ",
        "colab_type": "code",
        "outputId": "9a23e38d-d25c-48cb-e414-01b507ca6c94",
        "colab": {
          "base_uri": "https://localhost:8080/",
          "height": 108
        }
      },
      "source": [
        "# Define a basic Logistic Regression model\n",
        "\n",
        "logmodel = LogisticRegression(random_state=42, max_iter=4000)\n",
        "logmodel.fit(X_train, y_train)"
      ],
      "execution_count": 120,
      "outputs": [
        {
          "output_type": "execute_result",
          "data": {
            "text/plain": [
              "LogisticRegression(C=1.0, class_weight=None, dual=False, fit_intercept=True,\n",
              "                   intercept_scaling=1, l1_ratio=None, max_iter=4000,\n",
              "                   multi_class='auto', n_jobs=None, penalty='l2',\n",
              "                   random_state=42, solver='lbfgs', tol=0.0001, verbose=0,\n",
              "                   warm_start=False)"
            ]
          },
          "metadata": {
            "tags": []
          },
          "execution_count": 120
        }
      ]
    },
    {
      "cell_type": "code",
      "metadata": {
        "id": "1u_S8tKkF3WH",
        "colab_type": "code",
        "colab": {}
      },
      "source": [
        "# Calculate de Predicted y\n",
        "y_predict = logmodel.predict(X_test)"
      ],
      "execution_count": 0,
      "outputs": []
    },
    {
      "cell_type": "code",
      "metadata": {
        "id": "fdAZdkzXKMs4",
        "colab_type": "code",
        "outputId": "4d9add70-e5b6-4720-dbe4-5cbb02b2bf95",
        "colab": {
          "base_uri": "https://localhost:8080/",
          "height": 35
        }
      },
      "source": [
        "print('Accuracy of logistic regression classifier on train set: {:.2f}'.format(logmodel.score(X_train, y_train)))"
      ],
      "execution_count": 122,
      "outputs": [
        {
          "output_type": "stream",
          "text": [
            "Accuracy of logistic regression classifier on train set: 0.91\n"
          ],
          "name": "stdout"
        }
      ]
    },
    {
      "cell_type": "code",
      "metadata": {
        "id": "b93l4o7qKNmz",
        "colab_type": "code",
        "outputId": "a12061df-f337-45c8-d1d6-d8bc82b9d2ab",
        "colab": {
          "base_uri": "https://localhost:8080/",
          "height": 35
        }
      },
      "source": [
        "print('Accuracy of logistic regression classifier on test set: {:.2f}'.format(logmodel.score(X_test, y_test)))"
      ],
      "execution_count": 123,
      "outputs": [
        {
          "output_type": "stream",
          "text": [
            "Accuracy of logistic regression classifier on test set: 0.90\n"
          ],
          "name": "stdout"
        }
      ]
    },
    {
      "cell_type": "code",
      "metadata": {
        "id": "z_yTuGyyF7V7",
        "colab_type": "code",
        "outputId": "2a59aa01-bcc1-4457-a349-5825cea67510",
        "colab": {
          "base_uri": "https://localhost:8080/",
          "height": 295
        }
      },
      "source": [
        "# Confusion Matrix\n",
        "cm = confusion_matrix(y_test, y_predict)\n",
        "\n",
        "class_label = [\"Positive\", \"Negative\"]\n",
        "df_cm = pd.DataFrame(cm, index = class_label, columns = class_label)\n",
        "sns.heatmap(df_cm, annot = True, fmt = \"d\")\n",
        "plt.title(\"Confusion Matrix\")\n",
        "plt.xlabel(\"Predicted Label\")\n",
        "plt.ylabel(\"True Label\")\n",
        "plt.show();"
      ],
      "execution_count": 124,
      "outputs": [
        {
          "output_type": "display_data",
          "data": {
            "image/png": "[encoded data removed]",
            "text/plain": [
              "<Figure size 432x288 with 2 Axes>"
            ]
          },
          "metadata": {
            "tags": [],
            "needs_background": "light"
          }
        }
      ]
    },
    {
      "cell_type": "code",
      "metadata": {
        "id": "ixhrtBKmNiRs",
        "colab_type": "code",
        "outputId": "288935fa-7c4c-42ce-846d-b7bc640b7b17",
        "colab": {
          "base_uri": "https://localhost:8080/",
          "height": 90
        }
      },
      "source": [
        "print('Model Sensitivity (TPR) {:.2f}'.format(recall_score(y_test,y_predict)))\n",
        "print('Model Precision (PPV) {:.2f}'.format(precision_score(y_test,y_predict)))\n",
        "print('Model F1-Score (harmonic mean of precision and sensitivity) {:.2f}'.format(f1_score(y_test,y_predict)))\n",
        "print('Model Roc Auc Score (ROC Curve Score) {:.2f}'.format(roc_auc_score(y_test,y_predict)))"
      ],
      "execution_count": 125,
      "outputs": [
        {
          "output_type": "stream",
          "text": [
            "Model Sensitivity (TPR) 0.33\n",
            "Model Precision (PPV) 0.48\n",
            "Model F1-Score (harmonic mean of precision and sensitivity) 0.39\n",
            "Model Roc Auc Score (ROC Curve Score) 0.65\n"
          ],
          "name": "stdout"
        }
      ]
    },
    {
      "cell_type": "code",
      "metadata": {
        "id": "fcivWoUyGVDc",
        "colab_type": "code",
        "outputId": "705965a9-4165-4796-9fb4-f5f27d98d642",
        "colab": {
          "base_uri": "https://localhost:8080/",
          "height": 181
        }
      },
      "source": [
        "# Classification Report\n",
        "print(classification_report(y_test, y_predict))"
      ],
      "execution_count": 126,
      "outputs": [
        {
          "output_type": "stream",
          "text": [
            "              precision    recall  f1-score   support\n",
            "\n",
            "           0       0.93      0.96      0.95      1356\n",
            "           1       0.48      0.33      0.39       144\n",
            "\n",
            "    accuracy                           0.90      1500\n",
            "   macro avg       0.70      0.65      0.67      1500\n",
            "weighted avg       0.89      0.90      0.89      1500\n",
            "\n"
          ],
          "name": "stdout"
        }
      ]
    },
    {
      "cell_type": "markdown",
      "metadata": {
        "id": "Oc8EOD3jJ0Xc",
        "colab_type": "text"
      },
      "source": [
        "##### ROC Curve"
      ]
    },
    {
      "cell_type": "code",
      "metadata": {
        "id": "yJ_exBYFJzMm",
        "colab_type": "code",
        "outputId": "ec1812e3-fe73-4214-86f2-eb248a79c3ab",
        "colab": {
          "base_uri": "https://localhost:8080/",
          "height": 295
        }
      },
      "source": [
        "logit_roc_auc = roc_auc_score(y_test, logmodel.predict(X_test))\n",
        "fpr, tpr, thresholds = roc_curve(y_test, logmodel.predict_proba(X_test)[:,1])\n",
        "plt.figure()\n",
        "plt.plot(fpr, tpr, label='Logistic Regression (area = %0.2f)' % logit_roc_auc)\n",
        "plt.plot([0, 1], [0, 1],'r--')\n",
        "plt.xlim([0.0, 1.0])\n",
        "plt.ylim([0.0, 1.05])\n",
        "plt.xlabel('False Positive Rate')\n",
        "plt.ylabel('True Positive Rate')\n",
        "plt.title('Receiver operating characteristic')\n",
        "plt.legend(loc=\"lower right\")\n",
        "plt.savefig('Log_ROC')\n",
        "plt.show()"
      ],
      "execution_count": 127,
      "outputs": [
        {
          "output_type": "display_data",
          "data": {
            "image/png": "[encoded data removed]",
            "text/plain": [
              "<Figure size 432x288 with 1 Axes>"
            ]
          },
          "metadata": {
            "tags": [],
            "needs_background": "light"
          }
        }
      ]
    },
    {
      "cell_type": "markdown",
      "metadata": {
        "id": "hDAdfi2jAr4a",
        "colab_type": "text"
      },
      "source": [
        "### 5. Give your reasoning on how can the model perform better? (10 marks)"
      ]
    },
    {
      "cell_type": "code",
      "metadata": {
        "id": "ahDEEo0WFZmS",
        "colab_type": "code",
        "outputId": "4c3cb6ba-8122-40cb-de6a-c3282789d9ef",
        "colab": {
          "base_uri": "https://localhost:8080/",
          "height": 399
        }
      },
      "source": [
        "import statsmodels.api as sm\n",
        "logit_model=sm.Logit(y,X)\n",
        "result=logit_model.fit()\n",
        "print(result.summary2())"
      ],
      "execution_count": 128,
      "outputs": [
        {
          "output_type": "stream",
          "text": [
            "Optimization terminated successfully.\n",
            "         Current function value: 0.530986\n",
            "         Iterations 6\n",
            "                         Results: Logit\n",
            "================================================================\n",
            "Model:              Logit            Pseudo R-squared: -0.679   \n",
            "Dependent Variable: Personal Loan    AIC:              5315.8629\n",
            "Date:               2020-05-10 20:15 BIC:              5335.4145\n",
            "No. Observations:   5000             Log-Likelihood:   -2654.9  \n",
            "Df Model:           2                LL-Null:          -1581.0  \n",
            "Df Residuals:       4997             LLR p-value:      1.0000   \n",
            "Converged:          1.0000           Scale:            1.0000   \n",
            "No. Iterations:     6.0000                                      \n",
            "-----------------------------------------------------------------\n",
            "             Coef.   Std.Err.     z      P>|z|    [0.025   0.975]\n",
            "-----------------------------------------------------------------\n",
            "Income      -0.0145    0.0010  -15.0236  0.0000  -0.0164  -0.0126\n",
            "CCAvg       -0.0046    0.0310   -0.1495  0.8811  -0.0654   0.0562\n",
            "Mortgage    -0.0022    0.0004   -5.1268  0.0000  -0.0030  -0.0014\n",
            "================================================================\n",
            "\n"
          ],
          "name": "stdout"
        }
      ]
    },
    {
      "cell_type": "markdown",
      "metadata": {
        "id": "I9clpfEKTRjf",
        "colab_type": "text"
      },
      "source": [
        "### Check parameter"
      ]
    },
    {
      "cell_type": "code",
      "metadata": {
        "id": "2pC1uvFHRgER",
        "colab_type": "code",
        "outputId": "393cb985-bbc1-4bd2-b889-7fb447c05073",
        "colab": {
          "base_uri": "https://localhost:8080/",
          "height": 290
        }
      },
      "source": [
        "logmodel.get_params() # Checking the parameters of Logistic Regression:"
      ],
      "execution_count": 129,
      "outputs": [
        {
          "output_type": "execute_result",
          "data": {
            "text/plain": [
              "{'C': 1.0,\n",
              " 'class_weight': None,\n",
              " 'dual': False,\n",
              " 'fit_intercept': True,\n",
              " 'intercept_scaling': 1,\n",
              " 'l1_ratio': None,\n",
              " 'max_iter': 4000,\n",
              " 'multi_class': 'auto',\n",
              " 'n_jobs': None,\n",
              " 'penalty': 'l2',\n",
              " 'random_state': 42,\n",
              " 'solver': 'lbfgs',\n",
              " 'tol': 0.0001,\n",
              " 'verbose': 0,\n",
              " 'warm_start': False}"
            ]
          },
          "metadata": {
            "tags": []
          },
          "execution_count": 129
        }
      ]
    },
    {
      "cell_type": "code",
      "metadata": {
        "id": "cBX1-eKHTZKX",
        "colab_type": "code",
        "outputId": "6941dd36-dfcb-4530-ddd8-6d044937a525",
        "colab": {
          "base_uri": "https://localhost:8080/",
          "height": 72
        }
      },
      "source": [
        "# ForLoop to check differents values for 'solver' :\n",
        "\n",
        "train_score=[]\n",
        "test_score=[]\n",
        "classification_score=[]\n",
        "solver = ['newton-cg','lbfgs','liblinear','sag','saga']\n",
        "for i in solver:\n",
        "    model1 = LogisticRegression(random_state=42, penalty='l2', C=0.75, solver=i, max_iter=6000)\n",
        "    model1.fit(X_train, y_train) \n",
        "    y1_predict = model1.predict(X_test)     \n",
        "    train_score.append(round(model1.score(X_train, y_train),3))\n",
        "    test_score.append(round(model1.score(X_test, y_test),3))\n",
        "\n",
        "# Now print scores:\n",
        "print(solver)\n",
        "print(train_score)\n",
        "print(test_score)"
      ],
      "execution_count": 130,
      "outputs": [
        {
          "output_type": "stream",
          "text": [
            "['newton-cg', 'lbfgs', 'liblinear', 'sag', 'saga']\n",
            "[0.913, 0.913, 0.913, 0.909, 0.905]\n",
            "[0.901, 0.901, 0.902, 0.899, 0.9]\n"
          ],
          "name": "stdout"
        }
      ]
    },
    {
      "cell_type": "markdown",
      "metadata": {
        "id": "udkjeJTbGUto",
        "colab_type": "text"
      },
      "source": [
        "#### The best solver types are 'newton-cg' and 'lbfgs' "
      ]
    },
    {
      "cell_type": "code",
      "metadata": {
        "id": "eL6DpGcWV-J3",
        "colab_type": "code",
        "outputId": "7882c8bb-54ed-4113-c9b9-edfc9028059e",
        "colab": {
          "base_uri": "https://localhost:8080/",
          "height": 235
        }
      },
      "source": [
        "# Try changing the Penalty:\n",
        "\n",
        "model2 = LogisticRegression(random_state=42, penalty='l1', C=0.75, solver='liblinear', max_iter=4000)\n",
        "\n",
        "model2.fit(X_train, y_train)\n",
        "\n",
        "y2_predict = model2.predict(X_test)     \n",
        "\n",
        "print('The Accuracy in the trainnig set is {:.2f}'.format(model2.score(X_train,y_train)))\n",
        "print('The Accuracy in the testing set is {:.2f}'.format(model2.score(X_test, y_test)))   \n",
        "print()\n",
        "print(classification_report(y_test, y2_predict))"
      ],
      "execution_count": 131,
      "outputs": [
        {
          "output_type": "stream",
          "text": [
            "The Accuracy in the trainnig set is 0.91\n",
            "The Accuracy in the testing set is 0.90\n",
            "\n",
            "              precision    recall  f1-score   support\n",
            "\n",
            "           0       0.93      0.96      0.95      1356\n",
            "           1       0.48      0.33      0.39       144\n",
            "\n",
            "    accuracy                           0.90      1500\n",
            "   macro avg       0.71      0.64      0.67      1500\n",
            "weighted avg       0.89      0.90      0.89      1500\n",
            "\n"
          ],
          "name": "stdout"
        }
      ]
    },
    {
      "cell_type": "markdown",
      "metadata": {
        "id": "dqtj13B_X3zd",
        "colab_type": "text"
      },
      "source": [
        "##### The accuracy keep the same using 'l1' compared to 'l2' Penalty modes.\n",
        "##### Saga solver type isn't so good."
      ]
    },
    {
      "cell_type": "code",
      "metadata": {
        "id": "A_OpXrNUHgqU",
        "colab_type": "code",
        "outputId": "457b5b66-d56c-4db2-af3b-ed6ed00b88fc",
        "colab": {
          "base_uri": "https://localhost:8080/",
          "height": 235
        }
      },
      "source": [
        "# Changing class weight to balanced to see what happens:\n",
        "\n",
        "model3 = LogisticRegression(random_state=42, penalty='l2', class_weight='balanced') \n",
        "\n",
        "model3.fit(X_train, y_train) \n",
        "\n",
        "y3_predict = model3.predict(X_test)     \n",
        "\n",
        "print('The Accuracy in the trainnig set is {:.2f}'.format(model3.score(X_train, y_train)))\n",
        "print('The Accuracy in the testing set is {:.2f}'.format(model3.score(X_test, y_test)))\n",
        "print()\n",
        "print(classification_report(y_test, y3_predict))"
      ],
      "execution_count": 132,
      "outputs": [
        {
          "output_type": "stream",
          "text": [
            "The Accuracy in the trainnig set is 0.85\n",
            "The Accuracy in the testing set is 0.85\n",
            "\n",
            "              precision    recall  f1-score   support\n",
            "\n",
            "           0       0.98      0.85      0.91      1356\n",
            "           1       0.37      0.82      0.51       144\n",
            "\n",
            "    accuracy                           0.85      1500\n",
            "   macro avg       0.67      0.84      0.71      1500\n",
            "weighted avg       0.92      0.85      0.87      1500\n",
            "\n"
          ],
          "name": "stdout"
        }
      ]
    },
    {
      "cell_type": "code",
      "metadata": {
        "id": "VPmhNft9JZxg",
        "colab_type": "code",
        "outputId": "86ccce5f-6554-4de0-dcbe-847c2d07b481",
        "colab": {
          "base_uri": "https://localhost:8080/",
          "height": 72
        }
      },
      "source": [
        "# A ForLoop to check different values of 'C':\n",
        "\n",
        "train_score=[]                                 \n",
        "test_score=[]\n",
        "C = [0.01, 0.1, 0.25, 0.5, 0.75, 1]\n",
        "for i in C:\n",
        "    model4 = LogisticRegression(random_state=42, penalty='l2',  solver='liblinear', C=i)\n",
        "    model4.fit(X_train, y_train) \n",
        "    y4_predict = model4.predict(X_test)     \n",
        "    train_score.append(round(model4.score(X_train,y_train),3))\n",
        "    test_score.append(round(model4.score(X_test, y_test),3))\n",
        "    \n",
        "print(C)\n",
        "print(train_score)\n",
        "print(test_score)"
      ],
      "execution_count": 133,
      "outputs": [
        {
          "output_type": "stream",
          "text": [
            "[0.01, 0.1, 0.25, 0.5, 0.75, 1]\n",
            "[0.904, 0.908, 0.911, 0.912, 0.913, 0.912]\n",
            "[0.904, 0.901, 0.901, 0.901, 0.902, 0.902]\n"
          ],
          "name": "stdout"
        }
      ]
    },
    {
      "cell_type": "markdown",
      "metadata": {
        "id": "qxx0ncmEP8x6",
        "colab_type": "text"
      },
      "source": [
        "### Optimized Model"
      ]
    },
    {
      "cell_type": "code",
      "metadata": {
        "id": "pu_XULJuPytg",
        "colab_type": "code",
        "colab": {}
      },
      "source": [
        "final_model = LogisticRegression(random_state=42, solver= 'liblinear', penalty='l2', C=0.5) \n",
        "final_model.fit(X_train, y_train)\n",
        "final_y_predict = final_model.predict(X_test)\n"
      ],
      "execution_count": 0,
      "outputs": []
    },
    {
      "cell_type": "code",
      "metadata": {
        "id": "QSvYnJpYQOQn",
        "colab_type": "code",
        "outputId": "7c780206-b089-4939-e7d9-5bb5068207fa",
        "colab": {
          "base_uri": "https://localhost:8080/",
          "height": 235
        }
      },
      "source": [
        "print('The Accuracy in the trainnig set is {:.2f}'.format(final_model.score(X_train,y_train)))\n",
        "print('The Accuracy in the testing set is {:.2f}'.format(final_model.score(X_test, y_test)))\n",
        "print()\n",
        "print(classification_report(y_test, final_y_predict))"
      ],
      "execution_count": 141,
      "outputs": [
        {
          "output_type": "stream",
          "text": [
            "The Accuracy in the trainnig set is 0.91\n",
            "The Accuracy in the testing set is 0.90\n",
            "\n",
            "              precision    recall  f1-score   support\n",
            "\n",
            "           0       0.93      0.97      0.95      1356\n",
            "           1       0.48      0.30      0.37       144\n",
            "\n",
            "    accuracy                           0.90      1500\n",
            "   macro avg       0.70      0.63      0.66      1500\n",
            "weighted avg       0.89      0.90      0.89      1500\n",
            "\n"
          ],
          "name": "stdout"
        }
      ]
    },
    {
      "cell_type": "markdown",
      "metadata": {
        "id": "zm3qefu4RQL8",
        "colab_type": "text"
      },
      "source": [
        "### Final Confusion Matrix"
      ]
    },
    {
      "cell_type": "code",
      "metadata": {
        "id": "wd4q4EyuRDhv",
        "colab_type": "code",
        "outputId": "cda0f16d-9b7d-48bc-c882-bfbd095d857e",
        "colab": {
          "base_uri": "https://localhost:8080/",
          "height": 295
        }
      },
      "source": [
        "finalcm = confusion_matrix(y_test, final_y_predict)\n",
        "\n",
        "class_label = [\"Positive\", \"Negative\"]\n",
        "df_cm = pd.DataFrame(finalcm, index = class_label, columns = class_label)\n",
        "sns.heatmap(df_cm, annot = True, fmt = \"d\")\n",
        "plt.title(\"Confusion Matrix\")\n",
        "plt.xlabel(\"Predicted Label\")\n",
        "plt.ylabel(\"True Label\")\n",
        "plt.show();"
      ],
      "execution_count": 142,
      "outputs": [
        {
          "output_type": "display_data",
          "data": {
            "image/png": "[encoded data removed]",
            "text/plain": [
              "<Figure size 432x288 with 2 Axes>"
            ]
          },
          "metadata": {
            "tags": [],
            "needs_background": "light"
          }
        }
      ]
    },
    {
      "cell_type": "code",
      "metadata": {
        "id": "rM6Iza59Qd85",
        "colab_type": "code",
        "outputId": "044a92d6-6912-4ea4-d7ca-b3cc19bf4bdd",
        "colab": {
          "base_uri": "https://localhost:8080/",
          "height": 90
        }
      },
      "source": [
        "print('Model Sensitivity (TPR) {:.2f}'.format(recall_score(y_test,final_y_predict)))\n",
        "print('Model Precision (PPV) {:.2f}'.format(precision_score(y_test,final_y_predict)))\n",
        "print('Model F1-Score (harmonic mean of precision and sensitivity) {:.2f}'.format(f1_score(y_test,final_y_predict)))\n",
        "print('Model Roc Auc Score (ROC Curve Score) {:.2f}'.format(roc_auc_score(y_test,final_y_predict)))"
      ],
      "execution_count": 144,
      "outputs": [
        {
          "output_type": "stream",
          "text": [
            "Model Sensitivity (TPR) 0.30\n",
            "Model Precision (PPV) 0.48\n",
            "Model F1-Score (harmonic mean of precision and sensitivity) 0.37\n",
            "Model Roc Auc Score (ROC Curve Score) 0.63\n"
          ],
          "name": "stdout"
        }
      ]
    },
    {
      "cell_type": "markdown",
      "metadata": {
        "id": "nP_czrkrOnBo",
        "colab_type": "text"
      },
      "source": [
        "## TENSORFLOW 2.0"
      ]
    },
    {
      "cell_type": "code",
      "metadata": {
        "id": "1vlrVMuav17b",
        "colab_type": "code",
        "colab": {
          "base_uri": "https://localhost:8080/",
          "height": 35
        },
        "outputId": "dba43ed3-93f6-4547-b8af-858465a5e9a2"
      },
      "source": [
        "%tensorflow_version 2.x\n",
        "import os\n",
        "from __future__ import absolute_import, division, print_function\n",
        "import tensorflow as tf\n",
        "\n",
        "print('The Tensorflow version is {}'.format(tf.__version__))\n",
        "\n",
        "import tempfile\n",
        "\n",
        "import matplotlib as mpl\n",
        "import matplotlib.pyplot as plt\n",
        "import seaborn as sns\n",
        "\n",
        "from sklearn.preprocessing import StandardScaler"
      ],
      "execution_count": 178,
      "outputs": [
        {
          "output_type": "stream",
          "text": [
            "The Tensorflow version is 2.2.0-rc4\n"
          ],
          "name": "stdout"
        }
      ]
    },
    {
      "cell_type": "code",
      "metadata": {
        "id": "kTzh3njlU2K0",
        "colab_type": "code",
        "colab": {}
      },
      "source": [
        "mpl.rcParams['figure.figsize'] = (12, 10)\n",
        "colors = plt.rcParams['axes.prop_cycle'].by_key()['color']"
      ],
      "execution_count": 0,
      "outputs": []
    },
    {
      "cell_type": "markdown",
      "metadata": {
        "id": "nWCbUIA5Vov7",
        "colab_type": "text"
      },
      "source": [
        "###### Look to the Personal Loan (Taget Variable) imbalance:"
      ]
    },
    {
      "cell_type": "code",
      "metadata": {
        "id": "ZBxgrjPlV3fD",
        "colab_type": "code",
        "colab": {
          "base_uri": "https://localhost:8080/",
          "height": 90
        },
        "outputId": "d95706a9-0ffd-43b3-a68e-d89e504b6a92"
      },
      "source": [
        "neg, pos = np.bincount(cleaned_df['Personal Loan'])\n",
        "total = neg + pos\n",
        "print('Examples:\\n    Total: {}\\n    Positive: {} ({:.2f}% of total)\\n'.format(\n",
        "    total, pos, 100 * pos / total))"
      ],
      "execution_count": 162,
      "outputs": [
        {
          "output_type": "stream",
          "text": [
            "Examples:\n",
            "    Total: 5000\n",
            "    Positive: 480 (9.60% of total)\n",
            "\n"
          ],
          "name": "stdout"
        }
      ]
    },
    {
      "cell_type": "markdown",
      "metadata": {
        "id": "6yqxdIQgWRoY",
        "colab_type": "text"
      },
      "source": [
        "##### There is a small fraction of positive samples with Personal Loan"
      ]
    },
    {
      "cell_type": "code",
      "metadata": {
        "id": "q98prNQjWslf",
        "colab_type": "code",
        "colab": {}
      },
      "source": [
        "# Use a utility from sklearn to split and shuffle our dataset.\n",
        "train_df, test_df = train_test_split(cleaned_df, test_size=0.2)\n",
        "train_df, val_df = train_test_split(train_df, test_size=0.2)"
      ],
      "execution_count": 0,
      "outputs": []
    },
    {
      "cell_type": "code",
      "metadata": {
        "id": "rtygVPs6W5PV",
        "colab_type": "code",
        "colab": {}
      },
      "source": [
        "# Form np arrays of labels and features.\n",
        "train_labels = np.array(train_df.pop('Personal Loan'))\n",
        "bool_train_labels = train_labels != 0\n",
        "val_labels = np.array(val_df.pop('Personal Loan'))\n",
        "test_labels = np.array(test_df.pop('Personal Loan'))\n",
        "\n",
        "train_features = np.array(train_df)\n",
        "val_features = np.array(val_df)\n",
        "test_features = np.array(test_df)"
      ],
      "execution_count": 0,
      "outputs": []
    },
    {
      "cell_type": "markdown",
      "metadata": {
        "id": "TEZLpozlXhBu",
        "colab_type": "text"
      },
      "source": [
        "##### Normalize the input features using the sklearn StandardScaler."
      ]
    },
    {
      "cell_type": "code",
      "metadata": {
        "id": "4vb1iPNQXdu0",
        "colab_type": "code",
        "colab": {
          "base_uri": "https://localhost:8080/",
          "height": 126
        },
        "outputId": "4f56289e-69e4-484d-c8ad-bd609d3c569f"
      },
      "source": [
        "scaler = StandardScaler()\n",
        "train_features = scaler.fit_transform(train_features)\n",
        "\n",
        "val_features = scaler.transform(val_features)\n",
        "test_features = scaler.transform(test_features)\n",
        "\n",
        "train_features = np.clip(train_features, -5, 5)\n",
        "val_features = np.clip(val_features, -5, 5)\n",
        "test_features = np.clip(test_features, -5, 5)\n",
        "\n",
        "\n",
        "print('Training labels shape:', train_labels.shape)\n",
        "print('Validation labels shape:', val_labels.shape)\n",
        "print('Test labels shape:', test_labels.shape)\n",
        "\n",
        "print('Training features shape:', train_features.shape)\n",
        "print('Validation features shape:', val_features.shape)\n",
        "print('Test features shape:', test_features.shape)"
      ],
      "execution_count": 165,
      "outputs": [
        {
          "output_type": "stream",
          "text": [
            "Training labels shape: (3200,)\n",
            "Validation labels shape: (800,)\n",
            "Test labels shape: (1000,)\n",
            "Training features shape: (3200, 3)\n",
            "Validation features shape: (800, 3)\n",
            "Test features shape: (1000, 3)\n"
          ],
          "name": "stdout"
        }
      ]
    },
    {
      "cell_type": "markdown",
      "metadata": {
        "id": "bgeVnQ64Xrqu",
        "colab_type": "text"
      },
      "source": [
        "### Look at the data distribution\n",
        "Next compare the distributions of the positive and negative examples over a few features. Good questions to ask yourself at this point are:\n",
        "\n",
        "Do these distributions make sense?\n",
        "Yes. You've normalized the input and these are mostly concentrated in the +/- 2 range.\n",
        "\n",
        "Can you see the difference between the ditributions?\n",
        "Yes the positive examples contain a much higher rate of extreme values."
      ]
    },
    {
      "cell_type": "code",
      "metadata": {
        "id": "aq4jAZA_YJDg",
        "colab_type": "code",
        "colab": {
          "base_uri": "https://localhost:8080/",
          "height": 869
        },
        "outputId": "8db5e3b9-0f25-493a-f7d0-89d20cc1654d"
      },
      "source": [
        "pos_df = pd.DataFrame(train_features[ bool_train_labels], columns = train_df.columns)\n",
        "neg_df = pd.DataFrame(train_features[~bool_train_labels], columns = train_df.columns)\n",
        "\n",
        "sns.jointplot(pos_df['Income'], pos_df['CCAvg'],\n",
        "              kind='hex', xlim = (-5,5), ylim = (-5,5))\n",
        "plt.suptitle(\"Positive distribution\")\n",
        "\n",
        "sns.jointplot(neg_df['Income'], neg_df['CCAvg'],\n",
        "              kind='hex', xlim = (-5,5), ylim = (-5,5))\n",
        "_ = plt.suptitle(\"Negative distribution\")"
      ],
      "execution_count": 166,
      "outputs": [
        {
          "output_type": "display_data",
          "data": {
            "image/png": "[encoded data removed]",
            "text/plain": [
              "<Figure size 432x432 with 3 Axes>"
            ]
          },
          "metadata": {
            "tags": [],
            "needs_background": "light"
          }
        },
        {
          "output_type": "display_data",
          "data": {
            "image/png": "[encoded data removed]",
            "text/plain": [
              "<Figure size 432x432 with 3 Axes>"
            ]
          },
          "metadata": {
            "tags": [],
            "needs_background": "light"
          }
        }
      ]
    },
    {
      "cell_type": "markdown",
      "metadata": {
        "id": "BfHHRLr2ZOwx",
        "colab_type": "text"
      },
      "source": [
        "### Define the model and metrics\n",
        "Define a function that creates a simple neural network with a densly connected hidden layer, a dropout layer to reduce overfitting, and an output sigmoid layer that returns the probability of a transaction being fraudulent:"
      ]
    },
    {
      "cell_type": "markdown",
      "metadata": {
        "id": "AcAlFMJCA8DJ",
        "colab_type": "text"
      },
      "source": [
        "#### The model cound perform better if:\n",
        " - The unbalanced categorical variable 'Personal Loan' are balanced during the aquisicion\n",
        " - We could use the StratifiedShuffleSplit to 'balance de percentage during the split'\n",
        " - Logistic Regression algorithm has a high accuracy in both training and testing sets"
      ]
    },
    {
      "cell_type": "code",
      "metadata": {
        "id": "6Bd1uTLRZdiX",
        "colab_type": "code",
        "colab": {}
      },
      "source": [
        "METRICS = [\n",
        "      tf.keras.metrics.TruePositives(name='tp'),\n",
        "      tf.keras.metrics.FalsePositives(name='fp'),\n",
        "      tf.keras.metrics.TrueNegatives(name='tn'),\n",
        "      tf.keras.metrics.FalseNegatives(name='fn'), \n",
        "      tf.keras.metrics.BinaryAccuracy(name='accuracy'),\n",
        "      tf.keras.metrics.Precision(name='precision'),\n",
        "      tf.keras.metrics.Recall(name='recall'),\n",
        "      tf.keras.metrics.AUC(name='auc'),\n",
        "]\n",
        "\n",
        "def make_model(metrics = METRICS, output_bias=None):\n",
        "  if output_bias is not None:\n",
        "    output_bias = tf.keras.initializers.Constant(output_bias)\n",
        "  model = tf.keras.Sequential([\n",
        "      tf.keras.layers.Dense(\n",
        "          16, activation='relu',\n",
        "          input_shape=(train_features.shape[-1],)),\n",
        "      tf.keras.layers.Dropout(0.5),\n",
        "      tf.keras.layers.Dense(1, activation='sigmoid',\n",
        "                         bias_initializer=output_bias),\n",
        "  ])\n",
        "\n",
        "  model.compile(\n",
        "      optimizer=tf.keras.optimizers.Adam(lr=1e-3),\n",
        "      loss=tf.keras.losses.BinaryCrossentropy(),\n",
        "      metrics=metrics)\n",
        "\n",
        "  return model"
      ],
      "execution_count": 0,
      "outputs": []
    },
    {
      "cell_type": "markdown",
      "metadata": {
        "id": "w5C6uX9bZqu8",
        "colab_type": "text"
      },
      "source": [
        "### Understanding useful metrics\n",
        "\n",
        "Notice that there are a few metrics defined above that can be computed by the model that will be helpful when evaluating the performance.\n",
        "\n",
        "- **False negatives** and **false positives** are samples that were incorrectly classified.\n",
        "\n",
        "- **True negatives** and **true positives** are samples that were correctly classified.\n",
        "\n",
        "- **Accuracy** is the percentage of examples correctly classified\n",
        "\n",
        "- **Precision** is the percentage of predicted positives that were correctly classified\n",
        "\n",
        "- **Recall** is the percentage of actual positives that were correctly classified\n",
        "\n",
        "- **AUC** refers to the Area Under the Curve of a Receiver Operating Characteristic curve (ROC-AUC). \n",
        "\n",
        "This metric is equal to the probability that a classifier will rank a random positive sample higher than than a random negative sample.\n",
        "\n",
        "### **Note:** Accuracy is not a helpful metric for this task. You can 99.8%+ accuracy on this task by predicting False all the time."
      ]
    },
    {
      "cell_type": "markdown",
      "metadata": {
        "id": "r62g9-BgbjsG",
        "colab_type": "text"
      },
      "source": [
        "### Baseline model\n",
        "\n",
        "####Build the model\n",
        "\n",
        "Now create and train your model using the function that was defined earlier. \n",
        "\n",
        "###### **Notice** that the model is fit using a larger than default batch size of 2048, this is important to ensure that each batch has a decent chance of containing a few positive samples. If the batch size was too small, they would likely have no Personal Loan to learn from."
      ]
    },
    {
      "cell_type": "code",
      "metadata": {
        "id": "Dw6dfkgrbGLu",
        "colab_type": "code",
        "colab": {}
      },
      "source": [
        "EPOCHS = 100\n",
        "BATCH_SIZE = 2048\n",
        "\n",
        "early_stopping = tf.keras.callbacks.EarlyStopping(\n",
        "    monitor='val_auc', \n",
        "    verbose=1,\n",
        "    patience=10,\n",
        "    mode='max',\n",
        "    restore_best_weights=True)"
      ],
      "execution_count": 0,
      "outputs": []
    },
    {
      "cell_type": "code",
      "metadata": {
        "id": "0rxfeHmbbJoB",
        "colab_type": "code",
        "colab": {
          "base_uri": "https://localhost:8080/",
          "height": 272
        },
        "outputId": "6507175f-17cd-4fdf-8cca-dbf76d8e9349"
      },
      "source": [
        "model = make_model()\n",
        "model.summary()"
      ],
      "execution_count": 171,
      "outputs": [
        {
          "output_type": "stream",
          "text": [
            "Model: \"sequential_1\"\n",
            "_________________________________________________________________\n",
            "Layer (type)                 Output Shape              Param #   \n",
            "=================================================================\n",
            "dense_2 (Dense)              (None, 16)                64        \n",
            "_________________________________________________________________\n",
            "dropout_1 (Dropout)          (None, 16)                0         \n",
            "_________________________________________________________________\n",
            "dense_3 (Dense)              (None, 1)                 17        \n",
            "=================================================================\n",
            "Total params: 81\n",
            "Trainable params: 81\n",
            "Non-trainable params: 0\n",
            "_________________________________________________________________\n"
          ],
          "name": "stdout"
        }
      ]
    },
    {
      "cell_type": "markdown",
      "metadata": {
        "id": "tjOYfVGacFtP",
        "colab_type": "text"
      },
      "source": [
        "##### Test run the model:"
      ]
    },
    {
      "cell_type": "code",
      "metadata": {
        "id": "WEv6qmdFcH0w",
        "colab_type": "code",
        "colab": {
          "base_uri": "https://localhost:8080/",
          "height": 199
        },
        "outputId": "8c993b29-138f-4ded-ecfd-174d87d4bd1d"
      },
      "source": [
        "model.predict(train_features[:10])"
      ],
      "execution_count": 172,
      "outputs": [
        {
          "output_type": "execute_result",
          "data": {
            "text/plain": [
              "array([[0.367],\n",
              "       [0.387],\n",
              "       [0.373],\n",
              "       [0.739],\n",
              "       [0.363],\n",
              "       [0.386],\n",
              "       [0.409],\n",
              "       [0.448],\n",
              "       [0.283],\n",
              "       [0.403]], dtype=float32)"
            ]
          },
          "metadata": {
            "tags": []
          },
          "execution_count": 172
        }
      ]
    },
    {
      "cell_type": "markdown",
      "metadata": {
        "id": "5Ui45of3cVtE",
        "colab_type": "text"
      },
      "source": [
        "#### **Optional:** Set the correct initial bias.\n",
        "\n",
        "These are initial guesses are not great. You know the dataset is imbalanced. Set the output layer's bias to reflect that (See: A Recipe for Training Neural Networks: \"init well\"). This can help with initial convergence.\n",
        "\n",
        "With the default bias initialization the loss should be about math.log(2) = 0.69314"
      ]
    },
    {
      "cell_type": "code",
      "metadata": {
        "id": "uuCBkCCWcZn3",
        "colab_type": "code",
        "colab": {
          "base_uri": "https://localhost:8080/",
          "height": 35
        },
        "outputId": "380dde79-2b16-4a42-b626-21a77953d77e"
      },
      "source": [
        "results = model.evaluate(train_features, train_labels, batch_size=BATCH_SIZE, verbose=0)\n",
        "print(\"Loss: {:0.4f}\".format(results[0]))"
      ],
      "execution_count": 173,
      "outputs": [
        {
          "output_type": "stream",
          "text": [
            "Loss: 0.5905\n"
          ],
          "name": "stdout"
        }
      ]
    },
    {
      "cell_type": "markdown",
      "metadata": {
        "id": "X_iJPTLTcJlt",
        "colab_type": "text"
      },
      "source": [
        "The correct bias to set can be derived from:\n"
      ]
    },
    {
      "cell_type": "code",
      "metadata": {
        "id": "i1BtIn9EclXY",
        "colab_type": "code",
        "colab": {
          "base_uri": "https://localhost:8080/",
          "height": 35
        },
        "outputId": "63d4c35d-2137-4f53-f607-476b989b7bb9"
      },
      "source": [
        "initial_bias = np.log([pos/neg])\n",
        "initial_bias"
      ],
      "execution_count": 174,
      "outputs": [
        {
          "output_type": "execute_result",
          "data": {
            "text/plain": [
              "array([-2.242])"
            ]
          },
          "metadata": {
            "tags": []
          },
          "execution_count": 174
        }
      ]
    },
    {
      "cell_type": "markdown",
      "metadata": {
        "id": "Ns1uNMyUcoZF",
        "colab_type": "text"
      },
      "source": [
        "Set that as the initial bias, and the model will give much more reasonable initial guesses.\n",
        "\n",
        "It should be near: pos/total = 0.0018"
      ]
    },
    {
      "cell_type": "code",
      "metadata": {
        "id": "eiiE4z1kcpTe",
        "colab_type": "code",
        "colab": {
          "base_uri": "https://localhost:8080/",
          "height": 199
        },
        "outputId": "7171144a-d8b5-41d8-b3b0-0910a012961d"
      },
      "source": [
        "model = make_model(output_bias = initial_bias)\n",
        "model.predict(train_features[:10])"
      ],
      "execution_count": 175,
      "outputs": [
        {
          "output_type": "execute_result",
          "data": {
            "text/plain": [
              "array([[0.083],\n",
              "       [0.09 ],\n",
              "       [0.071],\n",
              "       [0.037],\n",
              "       [0.068],\n",
              "       [0.07 ],\n",
              "       [0.078],\n",
              "       [0.071],\n",
              "       [0.065],\n",
              "       [0.078]], dtype=float32)"
            ]
          },
          "metadata": {
            "tags": []
          },
          "execution_count": 175
        }
      ]
    },
    {
      "cell_type": "markdown",
      "metadata": {
        "id": "HNbMLgaCcxub",
        "colab_type": "text"
      },
      "source": [
        "With this initialization the initial loss should be approximately:"
      ]
    },
    {
      "cell_type": "code",
      "metadata": {
        "id": "ntvN3DvQcvv9",
        "colab_type": "code",
        "colab": {
          "base_uri": "https://localhost:8080/",
          "height": 35
        },
        "outputId": "ecde59b2-5a7f-4736-eeb1-40c6dc76b985"
      },
      "source": [
        "results = model.evaluate(train_features, train_labels, batch_size=BATCH_SIZE, verbose=0)\n",
        "print(\"Loss: {:0.4f}\".format(results[0]))"
      ],
      "execution_count": 176,
      "outputs": [
        {
          "output_type": "stream",
          "text": [
            "Loss: 0.3877\n"
          ],
          "name": "stdout"
        }
      ]
    },
    {
      "cell_type": "markdown",
      "metadata": {
        "id": "H7Hwi-v-dAiV",
        "colab_type": "text"
      },
      "source": [
        "This initial loss is about 50 times less than if would have been with naive initilization.\n",
        "\n",
        "This way the model doesn't need to spend the first few epochs just learning that positive examples are unlikely. This also makes it easier to read plots of the loss during training."
      ]
    },
    {
      "cell_type": "markdown",
      "metadata": {
        "id": "omuQqkXFdAzO",
        "colab_type": "text"
      },
      "source": [
        "### **Checkpoint the initial weights**\n",
        "\n",
        "#####To make the various training runs more comparable, keep this initial model's weights in a checkpoint file, and load them into each model before training."
      ]
    },
    {
      "cell_type": "code",
      "metadata": {
        "id": "m7HkIK6_dLKX",
        "colab_type": "code",
        "colab": {}
      },
      "source": [
        "initial_weights = os.path.join(tempfile.mkdtemp(),'initial_weights')\n",
        "model.save_weights(initial_weights)"
      ],
      "execution_count": 0,
      "outputs": []
    },
    {
      "cell_type": "markdown",
      "metadata": {
        "id": "oqOcJovNdbl-",
        "colab_type": "text"
      },
      "source": [
        "### Confirm that the bias fix helps\n",
        "\n",
        "Before moving on, confirm quick that the careful bias initialization actually helped.\n",
        "\n",
        "Train the model for 20 epochs, with and without this careful initialization, and compare the losses:"
      ]
    },
    {
      "cell_type": "code",
      "metadata": {
        "id": "C7OVYo_lde9d",
        "colab_type": "code",
        "colab": {}
      },
      "source": [
        "model = make_model()\n",
        "model.load_weights(initial_weights)\n",
        "model.layers[-1].bias.assign([0.0])\n",
        "zero_bias_history = model.fit(\n",
        "    train_features,\n",
        "    train_labels,\n",
        "    batch_size=BATCH_SIZE,\n",
        "    epochs=20,\n",
        "    validation_data=(val_features, val_labels), \n",
        "    verbose=0)"
      ],
      "execution_count": 0,
      "outputs": []
    },
    {
      "cell_type": "code",
      "metadata": {
        "id": "wkdcMCk8djPr",
        "colab_type": "code",
        "colab": {}
      },
      "source": [
        "model = make_model()\n",
        "model.load_weights(initial_weights)\n",
        "careful_bias_history = model.fit(\n",
        "    train_features,\n",
        "    train_labels,\n",
        "    batch_size=BATCH_SIZE,\n",
        "    epochs=20,\n",
        "    validation_data=(val_features, val_labels), \n",
        "    verbose=0)"
      ],
      "execution_count": 0,
      "outputs": []
    },
    {
      "cell_type": "code",
      "metadata": {
        "id": "7ERscwn0dnl1",
        "colab_type": "code",
        "colab": {}
      },
      "source": [
        "def plot_loss(history, label, n):\n",
        "  # Use a log scale to show the wide range of values.\n",
        "  plt.semilogy(history.epoch,  history.history['loss'],\n",
        "               color=colors[n], label='Train '+label)\n",
        "  plt.semilogy(history.epoch,  history.history['val_loss'],\n",
        "          color=colors[n], label='Val '+label,\n",
        "          linestyle=\"--\")\n",
        "  plt.xlabel('Epoch')\n",
        "  plt.ylabel('Loss')\n",
        "  \n",
        "  plt.legend()"
      ],
      "execution_count": 0,
      "outputs": []
    },
    {
      "cell_type": "code",
      "metadata": {
        "id": "1mncjlVgdqGE",
        "colab_type": "code",
        "colab": {
          "base_uri": "https://localhost:8080/",
          "height": 606
        },
        "outputId": "bc292cb0-8cec-40ce-acff-a9397357a954"
      },
      "source": [
        "plot_loss(zero_bias_history, \"Zero Bias\", 0)\n",
        "plot_loss(careful_bias_history, \"Careful Bias\", 1)"
      ],
      "execution_count": 183,
      "outputs": [
        {
          "output_type": "display_data",
          "data": {
            "image/png": "[encoded data removed]",
            "text/plain": [
              "<Figure size 864x720 with 1 Axes>"
            ]
          },
          "metadata": {
            "tags": [],
            "needs_background": "light"
          }
        }
      ]
    },
    {
      "cell_type": "markdown",
      "metadata": {
        "id": "bEfQL4UsiHUo",
        "colab_type": "text"
      },
      "source": [
        "The above figure makes it clear: In terms of validation loss, on this problem, this careful initialization gives a clear advantage."
      ]
    },
    {
      "cell_type": "markdown",
      "metadata": {
        "id": "vMs9COMziJET",
        "colab_type": "text"
      },
      "source": [
        "## Train the model"
      ]
    },
    {
      "cell_type": "code",
      "metadata": {
        "id": "YBhVKiTMiG1T",
        "colab_type": "code",
        "colab": {}
      },
      "source": [
        "model = make_model()\n",
        "model.load_weights(initial_weights)\n",
        "baseline_history = model.fit(\n",
        "    train_features,\n",
        "    train_labels,\n",
        "    batch_size=BATCH_SIZE,\n",
        "    epochs=EPOCHS,\n",
        "    callbacks = [early_stopping],\n",
        "    validation_data=(val_features, val_labels))"
      ],
      "execution_count": 0,
      "outputs": []
    },
    {
      "cell_type": "markdown",
      "metadata": {
        "id": "PspqVxb6iXYm",
        "colab_type": "text"
      },
      "source": [
        "### Check training history\n",
        "\n",
        "In this section, you will produce plots of your model's accuracy and loss on the training and validation set. \n",
        "\n",
        "Additionally, you can produce these plots for any of the metrics you created above. False negatives are included as an example."
      ]
    },
    {
      "cell_type": "code",
      "metadata": {
        "id": "2To8pF2jieTy",
        "colab_type": "code",
        "colab": {}
      },
      "source": [
        "def plot_metrics(history):\n",
        "  metrics =  ['loss', 'auc', 'precision', 'recall']\n",
        "  for n, metric in enumerate(metrics):\n",
        "    name = metric.replace(\"_\",\" \").capitalize()\n",
        "    plt.subplot(2,2,n+1)\n",
        "    plt.plot(history.epoch,  history.history[metric], color=colors[0], label='Train')\n",
        "    plt.plot(history.epoch, history.history['val_'+metric],\n",
        "             color=colors[0], linestyle=\"--\", label='Val')\n",
        "    plt.xlabel('Epoch')\n",
        "    plt.ylabel(name)\n",
        "    if metric == 'loss':\n",
        "      plt.ylim([0, plt.ylim()[1]])\n",
        "    elif metric == 'auc':\n",
        "      plt.ylim([0.8,1])\n",
        "    else:\n",
        "      plt.ylim([0,1])\n",
        "\n",
        "    plt.legend()"
      ],
      "execution_count": 0,
      "outputs": []
    },
    {
      "cell_type": "code",
      "metadata": {
        "id": "3xdug1ByihBA",
        "colab_type": "code",
        "colab": {
          "base_uri": "https://localhost:8080/",
          "height": 609
        },
        "outputId": "3a4bdc52-7a3f-4175-83f3-41a04b43e8bf"
      },
      "source": [
        "plot_metrics(baseline_history)"
      ],
      "execution_count": 186,
      "outputs": [
        {
          "output_type": "display_data",
          "data": {
            "image/png": "[encoded data removed]",
            "text/plain": [
              "<Figure size 864x720 with 4 Axes>"
            ]
          },
          "metadata": {
            "tags": [],
            "needs_background": "light"
          }
        }
      ]
    },
    {
      "cell_type": "markdown",
      "metadata": {
        "id": "un-NzqVdiyAp",
        "colab_type": "text"
      },
      "source": [
        "#### **Note:** That the validation curve generally performs better than the training curve. This is mainly caused by the fact that the dropout layer is not active when evaluating the model."
      ]
    },
    {
      "cell_type": "markdown",
      "metadata": {
        "id": "OEEPsVxsi5SD",
        "colab_type": "text"
      },
      "source": [
        "### Evaluate metrics\n",
        "\n",
        "You can use a confusion matrix to summarize the actual vs. predicted labels where the X axis is the predicted label and the Y axis is the actual label."
      ]
    },
    {
      "cell_type": "code",
      "metadata": {
        "id": "171yrLaPi72-",
        "colab_type": "code",
        "colab": {}
      },
      "source": [
        "train_predictions_baseline = model.predict(train_features, batch_size=BATCH_SIZE)\n",
        "test_predictions_baseline = model.predict(test_features, batch_size=BATCH_SIZE)"
      ],
      "execution_count": 0,
      "outputs": []
    },
    {
      "cell_type": "code",
      "metadata": {
        "id": "mY0QjCtui_Ns",
        "colab_type": "code",
        "colab": {}
      },
      "source": [
        "def plot_cm(labels, predictions, p=0.5):\n",
        "  cm = confusion_matrix(labels, predictions > p)\n",
        "  plt.figure(figsize=(5,5))\n",
        "  sns.heatmap(cm, annot=True, fmt=\"d\")\n",
        "  plt.title('Confusion matrix @{:.2f}'.format(p))\n",
        "  plt.ylabel('Actual label')\n",
        "  plt.xlabel('Predicted label')\n",
        "\n",
        "  print('Bad Personal Loan Denied (True Negatives): ', cm[0][0])\n",
        "  print('Good Personal Loan Incorrectly Denied (False Positives): ', cm[0][1])\n",
        "  print('Bad Personal Loan Not-Denied (False Negatives): ', cm[1][0])\n",
        "  print('Good Personal Loan Not-Denied (True Positives): ', cm[1][1])\n",
        "  print('Total Personal Loan Not-Denied: ', np.sum(cm[1]))"
      ],
      "execution_count": 0,
      "outputs": []
    },
    {
      "cell_type": "markdown",
      "metadata": {
        "id": "ghkmWSzdjGIf",
        "colab_type": "text"
      },
      "source": [
        "Evaluate your model on the test dataset and display the results for the metrics you created above."
      ]
    },
    {
      "cell_type": "code",
      "metadata": {
        "id": "BHnNNlHHjHsP",
        "colab_type": "code",
        "colab": {
          "base_uri": "https://localhost:8080/",
          "height": 623
        },
        "outputId": "47652c4c-34b3-40a7-abb7-90c4e310bd9f"
      },
      "source": [
        "baseline_results = model.evaluate(test_features, test_labels,\n",
        "                                  batch_size=BATCH_SIZE, verbose=0)\n",
        "for name, value in zip(model.metrics_names, baseline_results):\n",
        "  print(name, ': ', value)\n",
        "print()\n",
        "\n",
        "plot_cm(test_labels, test_predictions_baseline)"
      ],
      "execution_count": 192,
      "outputs": [
        {
          "output_type": "stream",
          "text": [
            "loss :  0.1927649825811386\n",
            "tp :  1.0\n",
            "fp :  0.0\n",
            "tn :  918.0\n",
            "fn :  81.0\n",
            "accuracy :  0.9190000295639038\n",
            "precision :  1.0\n",
            "recall :  0.012195121496915817\n",
            "auc :  0.9238203763961792\n",
            "\n",
            "Bad Personal Loan Denied (True Negatives):  918\n",
            "Good Personal Loan Incorrectly Denied (False Positives):  0\n",
            "Bad Personal Loan Not-Denied (False Negatives):  81\n",
            "Good Personal Loan Not-Denied (True Positives):  1\n",
            "Total Personal Loan Not-Denied:  82\n"
          ],
          "name": "stdout"
        },
        {
          "output_type": "display_data",
          "data": {
            "image/png": "[encoded data removed]",
            "text/plain": [
              "<Figure size 360x360 with 2 Axes>"
            ]
          },
          "metadata": {
            "tags": [],
            "needs_background": "light"
          }
        }
      ]
    },
    {
      "cell_type": "markdown",
      "metadata": {
        "id": "DIp_VUaikRw_",
        "colab_type": "text"
      },
      "source": [
        "If the model had predicted everything perfectly, this would be a diagonal matrix where values off the main diagonal, indicating incorrect predictions, would be zero. In this case the matrix shows that you have relatively few false positives, meaning that there were relatively few legitimate transactions that were incorrectly flagged. However, you would likely want to have even fewer false negatives despite the cost of increasing the number of false positives. This trade off may be preferable because false negatives would allow fraudulent transactions to go through, whereas false positives may cause an email to be sent to a customer to ask them to verify their card activity."
      ]
    },
    {
      "cell_type": "markdown",
      "metadata": {
        "id": "iBGIgM6VkTld",
        "colab_type": "text"
      },
      "source": [
        "### Plot the ROC\n",
        "\n",
        "Now plot the ROC. This plot is useful because it shows, at a glance, the range of performance the model can reach just by tuning the output threshold."
      ]
    },
    {
      "cell_type": "code",
      "metadata": {
        "id": "OQ4k5bY2kY5o",
        "colab_type": "code",
        "colab": {}
      },
      "source": [
        "def plot_roc(name, labels, predictions, **kwargs):\n",
        "  fp, tp, _ = sklearn.metrics.roc_curve(labels, predictions)\n",
        "\n",
        "  plt.plot(100*fp, 100*tp, label=name, linewidth=2, **kwargs)\n",
        "  plt.xlabel('False positives [%]')\n",
        "  plt.ylabel('True positives [%]')\n",
        "  plt.xlim([-0.5,20])\n",
        "  plt.ylim([80,100.5])\n",
        "  plt.grid(True)\n",
        "  ax = plt.gca()\n",
        "  ax.set_aspect('equal')"
      ],
      "execution_count": 0,
      "outputs": []
    },
    {
      "cell_type": "code",
      "metadata": {
        "id": "QtV6sWcCkZlh",
        "colab_type": "code",
        "colab": {
          "base_uri": "https://localhost:8080/",
          "height": 606
        },
        "outputId": "eaa77b90-0fd7-48a0-d80c-fb1a74ea0a56"
      },
      "source": [
        "plot_roc(\"Train Baseline\", train_labels, train_predictions_baseline, color=colors[0])\n",
        "plot_roc(\"Test Baseline\", test_labels, test_predictions_baseline, color=colors[0], linestyle='--')\n",
        "plt.legend(loc='lower right');"
      ],
      "execution_count": 200,
      "outputs": [
        {
          "output_type": "display_data",
          "data": {
            "image/png": "[encoded data removed]",
            "text/plain": [
              "<Figure size 864x720 with 1 Axes>"
            ]
          },
          "metadata": {
            "tags": [],
            "needs_background": "light"
          }
        }
      ]
    },
    {
      "cell_type": "markdown",
      "metadata": {
        "id": "LZ8hw-aUB9F8",
        "colab_type": "text"
      },
      "source": [
        "### 6. Give Business understanding of your model? (5 marks)"
      ]
    },
    {
      "cell_type": "markdown",
      "metadata": {
        "id": "Dd9-nVw8RqFH",
        "colab_type": "text"
      },
      "source": [
        "### Business Insights:\n",
        "\n",
        "###### The Tera Bank wants loan for elegible people and dont give loans to people who may default.\n",
        "\n",
        "###### So they want a high True Positive value and a low False Positive value. \n",
        "\n",
        "###### If False Positive is high the bank would lose money so Precision is the important metric.\n",
        "\n",
        "###### In case of False Negative, the Bank will lose few customers but that's okay, because the bank want to retain money more than losing money to customers that wont pay back.\n",
        "\n",
        "###### After achieving the desired accuracy we can deploy the model for practical use. Now the Bank can predict who is eligible for Personal Loan. They can use the model for upcoming customers."
      ]
    }
  ]
}